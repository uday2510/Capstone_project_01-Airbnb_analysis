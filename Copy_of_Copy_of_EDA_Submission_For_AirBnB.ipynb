{
  "nbformat": 4,
  "nbformat_minor": 0,
  "metadata": {
    "colab": {
      "provenance": [],
      "collapsed_sections": [
        "FJNUwmbgGyua",
        "w6K7xa23Elo4",
        "yQaldy8SH6Dl",
        "PH-0ReGfmX4f",
        "mDgbUHAGgjLW",
        "O_i_v8NEhb9l",
        "HhfV-JJviCcP",
        "Y3lxredqlCYt",
        "3RnN4peoiCZX",
        "x71ZqKXriCWQ",
        "7hBIi_osiCS2",
        "JlHwYmJAmNHm",
        "35m5QtbWiB9F",
        "PoPl-ycgm1ru",
        "H0kj-8xxnORC",
        "nA9Y7ga8ng1Z",
        "PBTbrJXOngz2",
        "u3PMJOP6ngxN",
        "dauF4eBmngu3",
        "bKJF3rekwFvQ",
        "MSa1f5Uengrz",
        "GF8Ens_Soomf",
        "0wOQAZs5pc--",
        "K5QZ13OEpz2H",
        "lQ7QKXXCp7Bj",
        "448CDAPjqfQr",
        "KSlN3yHqYklG",
        "t6dVpIINYklI",
        "ijmpgYnKYklI",
        "-JiQyfWJYklI",
        "EM7whBJCYoAo",
        "fge-S5ZAYoAp",
        "85gYPyotYoAp",
        "RoGjAbkUYoAp",
        "4Of9eVA-YrdM",
        "iky9q4vBYrdO",
        "F6T5p64dYrdO",
        "y-Ehk30pYrdP",
        "bamQiAODYuh1",
        "QHF8YVU7Yuh3",
        "GwzvFGzlYuh3",
        "qYpmQ266Yuh3",
        "OH-pJp9IphqM",
        "bbFf2-_FphqN",
        "_ouA3fa0phqN",
        "Seke61FWphqN",
        "PIIx-8_IphqN",
        "t27r6nlMphqO",
        "r2jJGEOYphqO",
        "b0JNsNcRphqO",
        "BZR9WyysphqO",
        "jj7wYXLtphqO",
        "eZrbJ2SmphqO",
        "rFu4xreNphqO",
        "YJ55k-q6phqO",
        "gCFgpxoyphqP",
        "OVtJsKN_phqQ",
        "lssrdh5qphqQ",
        "U2RJ9gkRphqQ",
        "1M8mcRywphqQ",
        "tgIPom80phqQ",
        "JMzcOPDDphqR",
        "x-EpHcCOp1ci",
        "X_VqEhTip1ck",
        "8zGJKyg5p1ck",
        "PVzmfK_Ep1ck",
        "n3dbpmDWp1ck",
        "ylSl6qgtp1ck",
        "ZWILFDl5p1ck",
        "M7G43BXep1ck",
        "Ag9LCva-p1cl",
        "E6MkPsBcp1cl",
        "2cELzS2fp1cl",
        "3MPXvC8up1cl",
        "NC_X3p0fY2L0",
        "UV0SzAkaZNRQ",
        "YPEH6qLeZNRQ",
        "q29F0dvdveiT",
        "EXh0U9oCveiU",
        "22aHeOlLveiV",
        "JcMwzZxoAimU",
        "8G2x9gOozGDZ",
        "gIfDvo9L0UH2"
      ],
      "include_colab_link": true
    },
    "kernelspec": {
      "name": "python3",
      "display_name": "Python 3"
    },
    "language_info": {
      "name": "python"
    },
    "gpuClass": "standard"
  },
  "cells": [
    {
      "cell_type": "markdown",
      "metadata": {
        "id": "view-in-github",
        "colab_type": "text"
      },
      "source": [
        "<a href=\"https://colab.research.google.com/github/uday2510/Capstone_project_01-Hotel_booking_analysis/blob/main/Copy_of_Copy_of_EDA_Submission_For_AirBnB.ipynb\" target=\"_parent\"><img src=\"https://colab.research.google.com/assets/colab-badge.svg\" alt=\"Open In Colab\"/></a>"
      ]
    },
    {
      "cell_type": "markdown",
      "source": [
        "# **Project Name**    - AirBnB Bookings Analysis\n",
        "\n"
      ],
      "metadata": {
        "id": "vncDsAP0Gaoa"
      }
    },
    {
      "cell_type": "markdown",
      "source": [
        "##### **Project Type**    - EDA\n",
        "##### **Contribution**    - Team\n",
        "##### **Team Member 1 -**Purushottam\n",
        "##### **Team Member 2 -**Uday Naidu\n",
        "##### **Team Member 3 -**Adeeba Fayyaz Khan\n",
        "##### **Team Member 4 -**Hussain Shamaji"
      ],
      "metadata": {
        "id": "beRrZCGUAJYm"
      }
    },
    {
      "cell_type": "markdown",
      "source": [
        "# **Project Summary -**"
      ],
      "metadata": {
        "id": "FJNUwmbgGyua"
      }
    },
    {
      "cell_type": "markdown",
      "source": [
        "1.\tAirbnb is an online marketplace for arranging or offering lodging, primarily homestays, or tourism experiences. Airbnb was founded in 2008 which is based in San Francisco, California. \n",
        "\n",
        "2.\tAirbnb, as in “Air Bed and Breakfast,” is a service that lets property owners rent out their spaces to traveller’s looking for a place to stay. Travelers can rent a space for multiple people to share, a shared space with private rooms, or the entire property for themselves.\n",
        "\n",
        "3.\tAirbnb offers around 6 million places to stay in throughout the world. At any given time, guests book 1.9 million listings.\n"
      ],
      "metadata": {
        "id": "F6v_1wHtG2nS"
      }
    },
    {
      "cell_type": "markdown",
      "source": [
        "# **GitHub Link -**"
      ],
      "metadata": {
        "id": "w6K7xa23Elo4"
      }
    },
    {
      "cell_type": "markdown",
      "source": [
        "https://github.com/Purushottam87/AirBnB-Bookings-Analysis/blob/main/Copy_of_EDA_Submission_For_AirBnB.ipynb"
      ],
      "metadata": {
        "id": "h1o69JH3Eqqn"
      }
    },
    {
      "cell_type": "markdown",
      "source": [
        "\n",
        "We will be analyzing Airbnb NYC. As New York city is one of the famous tourist place in the world, Airbnb provides the rental homes and apartments to the tourists and travellers.\n",
        "\n",
        "The problem of this capstone project aims to analyse the data and millions of listings provided through company.\n",
        "\n",
        "We will be vizualizing various data of the company such as types of rooms, price information of each type of room as well as reviews of users and availabilty of rooms and how they influence the Airbnblistings.\n",
        "\n",
        "The project aims at coming up with a solutions that will be beneficial not only for the company but also for the users."
      ],
      "metadata": {
        "id": "FhRdNDMcdI0k"
      }
    },
    {
      "cell_type": "markdown",
      "source": [
        "#### **Define Your Business Objective?**"
      ],
      "metadata": {
        "id": "PH-0ReGfmX4f"
      }
    },
    {
      "cell_type": "markdown",
      "source": [
        "* Sort out number of properties in a neighbourhood-group(Cities) and find the top 10 properties with highest review.\n",
        "\n",
        "* Percentage of types of rooms listed in air bnb or types of rooms used the most according to the reviews.\n",
        "\n",
        "* Average room price on area available average roomprice on types of rooms.\n",
        "\n",
        "* Top listings with highest prices on types of room and top listings with cheapest price of rooms.\n",
        "* Find average of minimum number of nights people have stayed in neighbourhood group according to the room type.\n",
        "* Plot the graph to show loction of hotels according to their lattitude and longitude\n",
        "\n",
        "\n"
      ],
      "metadata": {
        "id": "PhDvGCAqmjP1"
      }
    },
    {
      "cell_type": "markdown",
      "source": [
        "# **General Guidelines** : -  "
      ],
      "metadata": {
        "id": "mDgbUHAGgjLW"
      }
    },
    {
      "cell_type": "markdown",
      "source": [
        "1.   Well-structured, formatted, and commented code is required. \n",
        "2.   Exception Handling, Production Grade Code & Deployment Ready Code will be a plus. Those students will be awarded some additional credits. \n",
        "     \n",
        "     The additional credits will have advantages over other students during Star Student selection.\n",
        "       \n",
        "             [ Note: - Deployment Ready Code is defined as, the whole .ipynb notebook should be executable in one go\n",
        "                       without a single error logged. ]\n",
        "\n",
        "3.   Each and every logic should have proper comments.\n",
        "4. You may add as many number of charts you want. Make Sure for each and every chart the following format should be answered.\n",
        "        \n",
        "\n",
        "```\n",
        "# Chart visualization code\n",
        "```\n",
        "            \n",
        "\n",
        "*   Why did you pick the specific chart?\n",
        "*   What is/are the insight(s) found from the chart?\n",
        "* Will the gained insights help creating a positive business impact? \n",
        "Are there any insights that lead to negative growth? Justify with specific reason.\n",
        "\n",
        "5. You have to create at least 20 logical & meaningful charts having important insights.\n",
        "\n",
        "\n",
        "[ Hints : - Do the Vizualization in  a structured way while following \"UBM\" Rule. \n",
        "\n",
        "U - Univariate Analysis,\n",
        "\n",
        "B - Bivariate Analysis (Numerical - Categorical, Numerical - Numerical, Categorical - Categorical)\n",
        "\n",
        "M - Multivariate Analysis\n",
        " ]\n",
        "\n",
        "\n",
        "\n"
      ],
      "metadata": {
        "id": "ZrxVaUj-hHfC"
      }
    },
    {
      "cell_type": "markdown",
      "source": [
        "# ***Let's Begin !***"
      ],
      "metadata": {
        "id": "O_i_v8NEhb9l"
      }
    },
    {
      "cell_type": "markdown",
      "source": [
        "## ***1. Know Your Data***"
      ],
      "metadata": {
        "id": "HhfV-JJviCcP"
      }
    },
    {
      "cell_type": "markdown",
      "source": [
        "### Import Libraries"
      ],
      "metadata": {
        "id": "Y3lxredqlCYt"
      }
    },
    {
      "cell_type": "code",
      "source": [
        "# Import Libraries\n",
        "import pandas as pd                #Library for pandas\n",
        "import numpy as np                 #Library for Numpy\n",
        "from datetime import datetime      #Datetime library \n",
        "import matplotlib.pyplot as plt    #Library for Visualization from matplotlib\n",
        "import seaborn as sns              #Library for seaborn visualization\n",
        "\n",
        "#Magic function that renders the figure in a notebook\n",
        "%matplotlib inline\n",
        "%lsmagic "
      ],
      "metadata": {
        "id": "M8Vqi-pPk-HR",
        "colab": {
          "base_uri": "https://localhost:8080/",
          "height": 243
        },
        "outputId": "6a1e2256-6c2b-4969-e555-a539c9515939"
      },
      "execution_count": null,
      "outputs": [
        {
          "output_type": "execute_result",
          "data": {
            "text/plain": [
              "Available line magics:\n",
              "%alias  %alias_magic  %autoawait  %autocall  %automagic  %autosave  %bookmark  %cat  %cd  %clear  %colors  %conda  %config  %connect_info  %cp  %debug  %dhist  %dirs  %doctest_mode  %ed  %edit  %env  %gui  %hist  %history  %killbgscripts  %ldir  %less  %lf  %lk  %ll  %load  %load_ext  %loadpy  %logoff  %logon  %logstart  %logstate  %logstop  %ls  %lsmagic  %lx  %macro  %magic  %man  %matplotlib  %mkdir  %more  %mv  %notebook  %page  %pastebin  %pdb  %pdef  %pdoc  %pfile  %pinfo  %pinfo2  %pip  %popd  %pprint  %precision  %prun  %psearch  %psource  %pushd  %pwd  %pycat  %pylab  %qtconsole  %quickref  %recall  %rehashx  %reload_ext  %rep  %rerun  %reset  %reset_selective  %rm  %rmdir  %run  %save  %sc  %set_env  %shell  %store  %sx  %system  %tb  %tensorflow_version  %time  %timeit  %unalias  %unload_ext  %who  %who_ls  %whos  %xdel  %xmode\n",
              "\n",
              "Available cell magics:\n",
              "%%!  %%HTML  %%SVG  %%bash  %%bigquery  %%capture  %%debug  %%file  %%html  %%javascript  %%js  %%latex  %%markdown  %%perl  %%prun  %%pypy  %%python  %%python2  %%python3  %%ruby  %%script  %%sh  %%shell  %%svg  %%sx  %%system  %%time  %%timeit  %%writefile\n",
              "\n",
              "Automagic is ON, % prefix IS NOT needed for line magics."
            ],
            "application/json": {
              "line": {
                "automagic": "AutoMagics",
                "autocall": "AutoMagics",
                "alias_magic": "BasicMagics",
                "lsmagic": "BasicMagics",
                "magic": "BasicMagics",
                "page": "BasicMagics",
                "pprint": "BasicMagics",
                "colors": "BasicMagics",
                "xmode": "BasicMagics",
                "quickref": "BasicMagics",
                "doctest_mode": "BasicMagics",
                "gui": "BasicMagics",
                "precision": "BasicMagics",
                "notebook": "BasicMagics",
                "save": "CodeMagics",
                "pastebin": "CodeMagics",
                "loadpy": "CodeMagics",
                "load": "CodeMagics",
                "edit": "KernelMagics",
                "config": "ConfigMagics",
                "prun": "ExecutionMagics",
                "pdb": "ExecutionMagics",
                "debug": "ExecutionMagics",
                "tb": "ExecutionMagics",
                "run": "ExecutionMagics",
                "timeit": "ExecutionMagics",
                "time": "ExecutionMagics",
                "macro": "ExecutionMagics",
                "load_ext": "ExtensionMagics",
                "unload_ext": "ExtensionMagics",
                "reload_ext": "ExtensionMagics",
                "history": "HistoryMagics",
                "recall": "HistoryMagics",
                "rerun": "HistoryMagics",
                "logstart": "LoggingMagics",
                "logstop": "LoggingMagics",
                "logoff": "LoggingMagics",
                "logon": "LoggingMagics",
                "logstate": "LoggingMagics",
                "pinfo": "NamespaceMagics",
                "pinfo2": "NamespaceMagics",
                "pdef": "NamespaceMagics",
                "pdoc": "NamespaceMagics",
                "psource": "NamespaceMagics",
                "pfile": "NamespaceMagics",
                "psearch": "NamespaceMagics",
                "who_ls": "NamespaceMagics",
                "who": "NamespaceMagics",
                "whos": "NamespaceMagics",
                "reset": "NamespaceMagics",
                "reset_selective": "NamespaceMagics",
                "xdel": "NamespaceMagics",
                "alias": "OSMagics",
                "unalias": "OSMagics",
                "rehashx": "OSMagics",
                "pwd": "OSMagics",
                "cd": "OSMagics",
                "env": "OSMagics",
                "set_env": "OSMagics",
                "pushd": "OSMagics",
                "popd": "OSMagics",
                "dirs": "OSMagics",
                "dhist": "OSMagics",
                "sc": "OSMagics",
                "sx": "OSMagics",
                "system": "OSMagics",
                "bookmark": "OSMagics",
                "pycat": "OSMagics",
                "pip": "Other",
                "conda": "PackagingMagics",
                "matplotlib": "PylabMagics",
                "pylab": "PylabMagics",
                "killbgscripts": "ScriptMagics",
                "autoawait": "AsyncMagics",
                "ed": "Other",
                "hist": "Other",
                "rep": "Other",
                "clear": "KernelMagics",
                "less": "KernelMagics",
                "more": "KernelMagics",
                "man": "KernelMagics",
                "connect_info": "KernelMagics",
                "qtconsole": "KernelMagics",
                "autosave": "KernelMagics",
                "mkdir": "Other",
                "rmdir": "Other",
                "mv": "Other",
                "rm": "Other",
                "cp": "Other",
                "cat": "Other",
                "ls": "Other",
                "ll": "Other",
                "lf": "Other",
                "lk": "Other",
                "ldir": "Other",
                "lx": "Other",
                "store": "StoreMagics",
                "shell": "Other",
                "tensorflow_version": "Other"
              },
              "cell": {
                "js": "DisplayMagics",
                "javascript": "DisplayMagics",
                "latex": "DisplayMagics",
                "svg": "DisplayMagics",
                "html": "DisplayMagics",
                "markdown": "DisplayMagics",
                "prun": "ExecutionMagics",
                "debug": "ExecutionMagics",
                "timeit": "ExecutionMagics",
                "time": "ExecutionMagics",
                "capture": "ExecutionMagics",
                "sx": "OSMagics",
                "system": "OSMagics",
                "!": "OSMagics",
                "writefile": "OSMagics",
                "script": "ScriptMagics",
                "sh": "Other",
                "bash": "Other",
                "perl": "Other",
                "ruby": "Other",
                "python": "Other",
                "python2": "Other",
                "python3": "Other",
                "pypy": "Other",
                "SVG": "Other",
                "HTML": "Other",
                "file": "Other",
                "bigquery": "Other",
                "shell": "Other"
              }
            }
          },
          "metadata": {},
          "execution_count": 1
        }
      ]
    },
    {
      "cell_type": "markdown",
      "source": [
        "### Dataset Loading"
      ],
      "metadata": {
        "id": "3RnN4peoiCZX"
      }
    },
    {
      "cell_type": "code",
      "source": [
        "# Load Dataset\n",
        "from google.colab import drive\n",
        "drive.mount('/content/drive')"
      ],
      "metadata": {
        "id": "4CkvbW_SlZ_R",
        "colab": {
          "base_uri": "https://localhost:8080/"
        },
        "outputId": "7aff17f7-8cca-4fc0-8608-a3f957949a14"
      },
      "execution_count": null,
      "outputs": [
        {
          "output_type": "stream",
          "name": "stdout",
          "text": [
            "Mounted at /content/drive\n"
          ]
        }
      ]
    },
    {
      "cell_type": "markdown",
      "source": [
        "### Dataset First View"
      ],
      "metadata": {
        "id": "x71ZqKXriCWQ"
      }
    },
    {
      "cell_type": "code",
      "source": [
        "# Dataset First Look\n",
        "path='/content/drive/MyDrive/Capstone-Project-1-AirBnB/Airbnb NYC 2019.csv'\n",
        "df=pd.read_csv(path)"
      ],
      "metadata": {
        "id": "LWNFOSvLl09H"
      },
      "execution_count": null,
      "outputs": []
    },
    {
      "cell_type": "code",
      "source": [
        "#Top 5 Columns are\n",
        "df.head()"
      ],
      "metadata": {
        "id": "qbyrvIeniBFE",
        "colab": {
          "base_uri": "https://localhost:8080/"
        },
        "outputId": "a341fdbb-d92f-43e0-f98b-067ec631d129"
      },
      "execution_count": null,
      "outputs": [
        {
          "output_type": "execute_result",
          "data": {
            "text/plain": [
              "     id                                              name  host_id  \\\n",
              "0  2539                Clean & quiet apt home by the park     2787   \n",
              "1  2595                             Skylit Midtown Castle     2845   \n",
              "2  3647               THE VILLAGE OF HARLEM....NEW YORK !     4632   \n",
              "3  3831                   Cozy Entire Floor of Brownstone     4869   \n",
              "4  5022  Entire Apt: Spacious Studio/Loft by central park     7192   \n",
              "\n",
              "     host_name neighbourhood_group neighbourhood  latitude  longitude  \\\n",
              "0         John            Brooklyn    Kensington  40.64749  -73.97237   \n",
              "1     Jennifer           Manhattan       Midtown  40.75362  -73.98377   \n",
              "2    Elisabeth           Manhattan        Harlem  40.80902  -73.94190   \n",
              "3  LisaRoxanne            Brooklyn  Clinton Hill  40.68514  -73.95976   \n",
              "4        Laura           Manhattan   East Harlem  40.79851  -73.94399   \n",
              "\n",
              "         room_type  price  minimum_nights  number_of_reviews last_review  \\\n",
              "0     Private room    149               1                  9  2018-10-19   \n",
              "1  Entire home/apt    225               1                 45  2019-05-21   \n",
              "2     Private room    150               3                  0         NaN   \n",
              "3  Entire home/apt     89               1                270  2019-07-05   \n",
              "4  Entire home/apt     80              10                  9  2018-11-19   \n",
              "\n",
              "   reviews_per_month  calculated_host_listings_count  availability_365  \n",
              "0               0.21                               6               365  \n",
              "1               0.38                               2               355  \n",
              "2                NaN                               1               365  \n",
              "3               4.64                               1               194  \n",
              "4               0.10                               1                 0  "
            ],
            "text/html": [
              "\n",
              "  <div id=\"df-c660ecb3-3558-490b-899b-d314e7c0c244\">\n",
              "    <div class=\"colab-df-container\">\n",
              "      <div>\n",
              "<style scoped>\n",
              "    .dataframe tbody tr th:only-of-type {\n",
              "        vertical-align: middle;\n",
              "    }\n",
              "\n",
              "    .dataframe tbody tr th {\n",
              "        vertical-align: top;\n",
              "    }\n",
              "\n",
              "    .dataframe thead th {\n",
              "        text-align: right;\n",
              "    }\n",
              "</style>\n",
              "<table border=\"1\" class=\"dataframe\">\n",
              "  <thead>\n",
              "    <tr style=\"text-align: right;\">\n",
              "      <th></th>\n",
              "      <th>id</th>\n",
              "      <th>name</th>\n",
              "      <th>host_id</th>\n",
              "      <th>host_name</th>\n",
              "      <th>neighbourhood_group</th>\n",
              "      <th>neighbourhood</th>\n",
              "      <th>latitude</th>\n",
              "      <th>longitude</th>\n",
              "      <th>room_type</th>\n",
              "      <th>price</th>\n",
              "      <th>minimum_nights</th>\n",
              "      <th>number_of_reviews</th>\n",
              "      <th>last_review</th>\n",
              "      <th>reviews_per_month</th>\n",
              "      <th>calculated_host_listings_count</th>\n",
              "      <th>availability_365</th>\n",
              "    </tr>\n",
              "  </thead>\n",
              "  <tbody>\n",
              "    <tr>\n",
              "      <th>0</th>\n",
              "      <td>2539</td>\n",
              "      <td>Clean &amp; quiet apt home by the park</td>\n",
              "      <td>2787</td>\n",
              "      <td>John</td>\n",
              "      <td>Brooklyn</td>\n",
              "      <td>Kensington</td>\n",
              "      <td>40.64749</td>\n",
              "      <td>-73.97237</td>\n",
              "      <td>Private room</td>\n",
              "      <td>149</td>\n",
              "      <td>1</td>\n",
              "      <td>9</td>\n",
              "      <td>2018-10-19</td>\n",
              "      <td>0.21</td>\n",
              "      <td>6</td>\n",
              "      <td>365</td>\n",
              "    </tr>\n",
              "    <tr>\n",
              "      <th>1</th>\n",
              "      <td>2595</td>\n",
              "      <td>Skylit Midtown Castle</td>\n",
              "      <td>2845</td>\n",
              "      <td>Jennifer</td>\n",
              "      <td>Manhattan</td>\n",
              "      <td>Midtown</td>\n",
              "      <td>40.75362</td>\n",
              "      <td>-73.98377</td>\n",
              "      <td>Entire home/apt</td>\n",
              "      <td>225</td>\n",
              "      <td>1</td>\n",
              "      <td>45</td>\n",
              "      <td>2019-05-21</td>\n",
              "      <td>0.38</td>\n",
              "      <td>2</td>\n",
              "      <td>355</td>\n",
              "    </tr>\n",
              "    <tr>\n",
              "      <th>2</th>\n",
              "      <td>3647</td>\n",
              "      <td>THE VILLAGE OF HARLEM....NEW YORK !</td>\n",
              "      <td>4632</td>\n",
              "      <td>Elisabeth</td>\n",
              "      <td>Manhattan</td>\n",
              "      <td>Harlem</td>\n",
              "      <td>40.80902</td>\n",
              "      <td>-73.94190</td>\n",
              "      <td>Private room</td>\n",
              "      <td>150</td>\n",
              "      <td>3</td>\n",
              "      <td>0</td>\n",
              "      <td>NaN</td>\n",
              "      <td>NaN</td>\n",
              "      <td>1</td>\n",
              "      <td>365</td>\n",
              "    </tr>\n",
              "    <tr>\n",
              "      <th>3</th>\n",
              "      <td>3831</td>\n",
              "      <td>Cozy Entire Floor of Brownstone</td>\n",
              "      <td>4869</td>\n",
              "      <td>LisaRoxanne</td>\n",
              "      <td>Brooklyn</td>\n",
              "      <td>Clinton Hill</td>\n",
              "      <td>40.68514</td>\n",
              "      <td>-73.95976</td>\n",
              "      <td>Entire home/apt</td>\n",
              "      <td>89</td>\n",
              "      <td>1</td>\n",
              "      <td>270</td>\n",
              "      <td>2019-07-05</td>\n",
              "      <td>4.64</td>\n",
              "      <td>1</td>\n",
              "      <td>194</td>\n",
              "    </tr>\n",
              "    <tr>\n",
              "      <th>4</th>\n",
              "      <td>5022</td>\n",
              "      <td>Entire Apt: Spacious Studio/Loft by central park</td>\n",
              "      <td>7192</td>\n",
              "      <td>Laura</td>\n",
              "      <td>Manhattan</td>\n",
              "      <td>East Harlem</td>\n",
              "      <td>40.79851</td>\n",
              "      <td>-73.94399</td>\n",
              "      <td>Entire home/apt</td>\n",
              "      <td>80</td>\n",
              "      <td>10</td>\n",
              "      <td>9</td>\n",
              "      <td>2018-11-19</td>\n",
              "      <td>0.10</td>\n",
              "      <td>1</td>\n",
              "      <td>0</td>\n",
              "    </tr>\n",
              "  </tbody>\n",
              "</table>\n",
              "</div>\n",
              "      <button class=\"colab-df-convert\" onclick=\"convertToInteractive('df-c660ecb3-3558-490b-899b-d314e7c0c244')\"\n",
              "              title=\"Convert this dataframe to an interactive table.\"\n",
              "              style=\"display:none;\">\n",
              "        \n",
              "  <svg xmlns=\"http://www.w3.org/2000/svg\" height=\"24px\"viewBox=\"0 0 24 24\"\n",
              "       width=\"24px\">\n",
              "    <path d=\"M0 0h24v24H0V0z\" fill=\"none\"/>\n",
              "    <path d=\"M18.56 5.44l.94 2.06.94-2.06 2.06-.94-2.06-.94-.94-2.06-.94 2.06-2.06.94zm-11 1L8.5 8.5l.94-2.06 2.06-.94-2.06-.94L8.5 2.5l-.94 2.06-2.06.94zm10 10l.94 2.06.94-2.06 2.06-.94-2.06-.94-.94-2.06-.94 2.06-2.06.94z\"/><path d=\"M17.41 7.96l-1.37-1.37c-.4-.4-.92-.59-1.43-.59-.52 0-1.04.2-1.43.59L10.3 9.45l-7.72 7.72c-.78.78-.78 2.05 0 2.83L4 21.41c.39.39.9.59 1.41.59.51 0 1.02-.2 1.41-.59l7.78-7.78 2.81-2.81c.8-.78.8-2.07 0-2.86zM5.41 20L4 18.59l7.72-7.72 1.47 1.35L5.41 20z\"/>\n",
              "  </svg>\n",
              "      </button>\n",
              "      \n",
              "  <style>\n",
              "    .colab-df-container {\n",
              "      display:flex;\n",
              "      flex-wrap:wrap;\n",
              "      gap: 12px;\n",
              "    }\n",
              "\n",
              "    .colab-df-convert {\n",
              "      background-color: #E8F0FE;\n",
              "      border: none;\n",
              "      border-radius: 50%;\n",
              "      cursor: pointer;\n",
              "      display: none;\n",
              "      fill: #1967D2;\n",
              "      height: 32px;\n",
              "      padding: 0 0 0 0;\n",
              "      width: 32px;\n",
              "    }\n",
              "\n",
              "    .colab-df-convert:hover {\n",
              "      background-color: #E2EBFA;\n",
              "      box-shadow: 0px 1px 2px rgba(60, 64, 67, 0.3), 0px 1px 3px 1px rgba(60, 64, 67, 0.15);\n",
              "      fill: #174EA6;\n",
              "    }\n",
              "\n",
              "    [theme=dark] .colab-df-convert {\n",
              "      background-color: #3B4455;\n",
              "      fill: #D2E3FC;\n",
              "    }\n",
              "\n",
              "    [theme=dark] .colab-df-convert:hover {\n",
              "      background-color: #434B5C;\n",
              "      box-shadow: 0px 1px 3px 1px rgba(0, 0, 0, 0.15);\n",
              "      filter: drop-shadow(0px 1px 2px rgba(0, 0, 0, 0.3));\n",
              "      fill: #FFFFFF;\n",
              "    }\n",
              "  </style>\n",
              "\n",
              "      <script>\n",
              "        const buttonEl =\n",
              "          document.querySelector('#df-c660ecb3-3558-490b-899b-d314e7c0c244 button.colab-df-convert');\n",
              "        buttonEl.style.display =\n",
              "          google.colab.kernel.accessAllowed ? 'block' : 'none';\n",
              "\n",
              "        async function convertToInteractive(key) {\n",
              "          const element = document.querySelector('#df-c660ecb3-3558-490b-899b-d314e7c0c244');\n",
              "          const dataTable =\n",
              "            await google.colab.kernel.invokeFunction('convertToInteractive',\n",
              "                                                     [key], {});\n",
              "          if (!dataTable) return;\n",
              "\n",
              "          const docLinkHtml = 'Like what you see? Visit the ' +\n",
              "            '<a target=\"_blank\" href=https://colab.research.google.com/notebooks/data_table.ipynb>data table notebook</a>'\n",
              "            + ' to learn more about interactive tables.';\n",
              "          element.innerHTML = '';\n",
              "          dataTable['output_type'] = 'display_data';\n",
              "          await google.colab.output.renderOutput(dataTable, element);\n",
              "          const docLink = document.createElement('div');\n",
              "          docLink.innerHTML = docLinkHtml;\n",
              "          element.appendChild(docLink);\n",
              "        }\n",
              "      </script>\n",
              "    </div>\n",
              "  </div>\n",
              "  "
            ]
          },
          "metadata": {},
          "execution_count": 4
        }
      ]
    },
    {
      "cell_type": "code",
      "source": [
        "# Lets drop few columns and check from the bottom \n",
        "droping_items=df.drop(['minimum_nights',\t'number_of_reviews',\t'last_review'\t,'reviews_per_month','latitude',\t'longitude'],axis=1).tail(2)\n",
        "droping_items\n"
      ],
      "metadata": {
        "id": "QmStTx8PiKM5",
        "colab": {
          "base_uri": "https://localhost:8080/"
        },
        "outputId": "eaba12a6-dd65-484d-9a2d-0d7f1ca15032"
      },
      "execution_count": null,
      "outputs": [
        {
          "output_type": "execute_result",
          "data": {
            "text/plain": [
              "             id                                               name   host_id  \\\n",
              "48893  36485609               43rd St. Time Square-cozy single bed  30985759   \n",
              "48894  36487245  Trendy duplex in the very heart of Hell's Kitchen  68119814   \n",
              "\n",
              "        host_name neighbourhood_group   neighbourhood     room_type  price  \\\n",
              "48893         Taz           Manhattan  Hell's Kitchen   Shared room     55   \n",
              "48894  Christophe           Manhattan  Hell's Kitchen  Private room     90   \n",
              "\n",
              "       calculated_host_listings_count  availability_365  \n",
              "48893                               6                 2  \n",
              "48894                               1                23  "
            ],
            "text/html": [
              "\n",
              "  <div id=\"df-28932316-df5c-43b5-aedf-f281b707f7b7\">\n",
              "    <div class=\"colab-df-container\">\n",
              "      <div>\n",
              "<style scoped>\n",
              "    .dataframe tbody tr th:only-of-type {\n",
              "        vertical-align: middle;\n",
              "    }\n",
              "\n",
              "    .dataframe tbody tr th {\n",
              "        vertical-align: top;\n",
              "    }\n",
              "\n",
              "    .dataframe thead th {\n",
              "        text-align: right;\n",
              "    }\n",
              "</style>\n",
              "<table border=\"1\" class=\"dataframe\">\n",
              "  <thead>\n",
              "    <tr style=\"text-align: right;\">\n",
              "      <th></th>\n",
              "      <th>id</th>\n",
              "      <th>name</th>\n",
              "      <th>host_id</th>\n",
              "      <th>host_name</th>\n",
              "      <th>neighbourhood_group</th>\n",
              "      <th>neighbourhood</th>\n",
              "      <th>room_type</th>\n",
              "      <th>price</th>\n",
              "      <th>calculated_host_listings_count</th>\n",
              "      <th>availability_365</th>\n",
              "    </tr>\n",
              "  </thead>\n",
              "  <tbody>\n",
              "    <tr>\n",
              "      <th>48893</th>\n",
              "      <td>36485609</td>\n",
              "      <td>43rd St. Time Square-cozy single bed</td>\n",
              "      <td>30985759</td>\n",
              "      <td>Taz</td>\n",
              "      <td>Manhattan</td>\n",
              "      <td>Hell's Kitchen</td>\n",
              "      <td>Shared room</td>\n",
              "      <td>55</td>\n",
              "      <td>6</td>\n",
              "      <td>2</td>\n",
              "    </tr>\n",
              "    <tr>\n",
              "      <th>48894</th>\n",
              "      <td>36487245</td>\n",
              "      <td>Trendy duplex in the very heart of Hell's Kitchen</td>\n",
              "      <td>68119814</td>\n",
              "      <td>Christophe</td>\n",
              "      <td>Manhattan</td>\n",
              "      <td>Hell's Kitchen</td>\n",
              "      <td>Private room</td>\n",
              "      <td>90</td>\n",
              "      <td>1</td>\n",
              "      <td>23</td>\n",
              "    </tr>\n",
              "  </tbody>\n",
              "</table>\n",
              "</div>\n",
              "      <button class=\"colab-df-convert\" onclick=\"convertToInteractive('df-28932316-df5c-43b5-aedf-f281b707f7b7')\"\n",
              "              title=\"Convert this dataframe to an interactive table.\"\n",
              "              style=\"display:none;\">\n",
              "        \n",
              "  <svg xmlns=\"http://www.w3.org/2000/svg\" height=\"24px\"viewBox=\"0 0 24 24\"\n",
              "       width=\"24px\">\n",
              "    <path d=\"M0 0h24v24H0V0z\" fill=\"none\"/>\n",
              "    <path d=\"M18.56 5.44l.94 2.06.94-2.06 2.06-.94-2.06-.94-.94-2.06-.94 2.06-2.06.94zm-11 1L8.5 8.5l.94-2.06 2.06-.94-2.06-.94L8.5 2.5l-.94 2.06-2.06.94zm10 10l.94 2.06.94-2.06 2.06-.94-2.06-.94-.94-2.06-.94 2.06-2.06.94z\"/><path d=\"M17.41 7.96l-1.37-1.37c-.4-.4-.92-.59-1.43-.59-.52 0-1.04.2-1.43.59L10.3 9.45l-7.72 7.72c-.78.78-.78 2.05 0 2.83L4 21.41c.39.39.9.59 1.41.59.51 0 1.02-.2 1.41-.59l7.78-7.78 2.81-2.81c.8-.78.8-2.07 0-2.86zM5.41 20L4 18.59l7.72-7.72 1.47 1.35L5.41 20z\"/>\n",
              "  </svg>\n",
              "      </button>\n",
              "      \n",
              "  <style>\n",
              "    .colab-df-container {\n",
              "      display:flex;\n",
              "      flex-wrap:wrap;\n",
              "      gap: 12px;\n",
              "    }\n",
              "\n",
              "    .colab-df-convert {\n",
              "      background-color: #E8F0FE;\n",
              "      border: none;\n",
              "      border-radius: 50%;\n",
              "      cursor: pointer;\n",
              "      display: none;\n",
              "      fill: #1967D2;\n",
              "      height: 32px;\n",
              "      padding: 0 0 0 0;\n",
              "      width: 32px;\n",
              "    }\n",
              "\n",
              "    .colab-df-convert:hover {\n",
              "      background-color: #E2EBFA;\n",
              "      box-shadow: 0px 1px 2px rgba(60, 64, 67, 0.3), 0px 1px 3px 1px rgba(60, 64, 67, 0.15);\n",
              "      fill: #174EA6;\n",
              "    }\n",
              "\n",
              "    [theme=dark] .colab-df-convert {\n",
              "      background-color: #3B4455;\n",
              "      fill: #D2E3FC;\n",
              "    }\n",
              "\n",
              "    [theme=dark] .colab-df-convert:hover {\n",
              "      background-color: #434B5C;\n",
              "      box-shadow: 0px 1px 3px 1px rgba(0, 0, 0, 0.15);\n",
              "      filter: drop-shadow(0px 1px 2px rgba(0, 0, 0, 0.3));\n",
              "      fill: #FFFFFF;\n",
              "    }\n",
              "  </style>\n",
              "\n",
              "      <script>\n",
              "        const buttonEl =\n",
              "          document.querySelector('#df-28932316-df5c-43b5-aedf-f281b707f7b7 button.colab-df-convert');\n",
              "        buttonEl.style.display =\n",
              "          google.colab.kernel.accessAllowed ? 'block' : 'none';\n",
              "\n",
              "        async function convertToInteractive(key) {\n",
              "          const element = document.querySelector('#df-28932316-df5c-43b5-aedf-f281b707f7b7');\n",
              "          const dataTable =\n",
              "            await google.colab.kernel.invokeFunction('convertToInteractive',\n",
              "                                                     [key], {});\n",
              "          if (!dataTable) return;\n",
              "\n",
              "          const docLinkHtml = 'Like what you see? Visit the ' +\n",
              "            '<a target=\"_blank\" href=https://colab.research.google.com/notebooks/data_table.ipynb>data table notebook</a>'\n",
              "            + ' to learn more about interactive tables.';\n",
              "          element.innerHTML = '';\n",
              "          dataTable['output_type'] = 'display_data';\n",
              "          await google.colab.output.renderOutput(dataTable, element);\n",
              "          const docLink = document.createElement('div');\n",
              "          docLink.innerHTML = docLinkHtml;\n",
              "          element.appendChild(docLink);\n",
              "        }\n",
              "      </script>\n",
              "    </div>\n",
              "  </div>\n",
              "  "
            ]
          },
          "metadata": {},
          "execution_count": 5
        }
      ]
    },
    {
      "cell_type": "markdown",
      "source": [
        "## *** Data Vizualization, Storytelling & Experimenting with charts : Understand the relationships between variables***"
      ],
      "metadata": {
        "id": "7lWBtIB7rUjd"
      }
    },
    {
      "cell_type": "markdown",
      "source": [
        "#### Chart - 1"
      ],
      "metadata": {
        "id": "-wn1xGsitkHm"
      }
    },
    {
      "cell_type": "markdown",
      "source": [
        "\n",
        "\n",
        "* Sort out number of properties in a neighbourhood-group(Cities) to check out the \n",
        "top 10 properties with highest review."
      ],
      "metadata": {
        "id": "cKEgrwMQmt4z"
      }
    },
    {
      "cell_type": "code",
      "source": [
        "#Checking the null values in neighbourhood group and number of reviews.\n",
        "neighbourhood_group=df[~df['neighbourhood_group'].isnull()]['neighbourhood_group']\n",
        "number_of_reviews=df[~df['number_of_reviews'].isnull()]['number_of_reviews']\n",
        "list_shape=[df.shape,neighbourhood_group.shape,number_of_reviews.shape]\n",
        "list_shape                                                                      #No null data found"
      ],
      "metadata": {
        "id": "7pOsFylYs2-E",
        "colab": {
          "base_uri": "https://localhost:8080/"
        },
        "outputId": "536d0989-b00f-4ac4-ce32-4b97f1bd7d5f"
      },
      "execution_count": null,
      "outputs": [
        {
          "output_type": "execute_result",
          "data": {
            "text/plain": [
              "[(48895, 16), (48895,), (48895,)]"
            ]
          },
          "metadata": {},
          "execution_count": 6
        }
      ]
    },
    {
      "cell_type": "code",
      "source": [
        "#Sorting out neighbourhood_group according to number of reviews\n",
        "neigh_group_max_reviews=df.groupby(['name','host_name','neighbourhood_group'])['number_of_reviews'].max().reset_index()                   #checking the maximum counts of each neighbourhood according to their reviews \n",
        "for_plot_neighbourhood=neigh_group_max_reviews.sort_values(by='number_of_reviews', ascending=False,ignore_index=True)[:10]  #sorting the neighbourhood group according to their reviews\n",
        "for_plot_neighbourhood"
      ],
      "metadata": {
        "id": "yh2ocbLzsgSr",
        "colab": {
          "base_uri": "https://localhost:8080/",
          "height": 363
        },
        "outputId": "710be249-b914-4fbe-9c75-5e8d019c64b6"
      },
      "execution_count": null,
      "outputs": [
        {
          "output_type": "execute_result",
          "data": {
            "text/plain": [
              "                                                name host_name  \\\n",
              "0                            Room near JFK Queen Bed      Dona   \n",
              "1                         Great Bedroom in Manhattan        Jj   \n",
              "2                     Beautiful Bedroom in Manhattan        Jj   \n",
              "3                       Private Bedroom in Manhattan        Jj   \n",
              "4                            Room Near JFK Twin Beds      Dona   \n",
              "5                  Steps away from Laguardia airport      Maya   \n",
              "6           Manhattan Lux Loft.Like.Love.Lots.Look !     Carol   \n",
              "7  Cozy Room Family Home LGA Airport NO CLEANING FEE  Danielle   \n",
              "8                 Private brownstone studio Brooklyn       Asa   \n",
              "9                    LG Private Room/Family Friendly     Wanda   \n",
              "\n",
              "  neighbourhood_group  number_of_reviews  \n",
              "0              Queens                629  \n",
              "1           Manhattan                607  \n",
              "2           Manhattan                597  \n",
              "3           Manhattan                594  \n",
              "4              Queens                576  \n",
              "5              Queens                543  \n",
              "6           Manhattan                540  \n",
              "7              Queens                510  \n",
              "8            Brooklyn                488  \n",
              "9            Brooklyn                480  "
            ],
            "text/html": [
              "\n",
              "  <div id=\"df-35d6fcf2-0cb3-4ade-b0fe-7a63e300b9d3\">\n",
              "    <div class=\"colab-df-container\">\n",
              "      <div>\n",
              "<style scoped>\n",
              "    .dataframe tbody tr th:only-of-type {\n",
              "        vertical-align: middle;\n",
              "    }\n",
              "\n",
              "    .dataframe tbody tr th {\n",
              "        vertical-align: top;\n",
              "    }\n",
              "\n",
              "    .dataframe thead th {\n",
              "        text-align: right;\n",
              "    }\n",
              "</style>\n",
              "<table border=\"1\" class=\"dataframe\">\n",
              "  <thead>\n",
              "    <tr style=\"text-align: right;\">\n",
              "      <th></th>\n",
              "      <th>name</th>\n",
              "      <th>host_name</th>\n",
              "      <th>neighbourhood_group</th>\n",
              "      <th>number_of_reviews</th>\n",
              "    </tr>\n",
              "  </thead>\n",
              "  <tbody>\n",
              "    <tr>\n",
              "      <th>0</th>\n",
              "      <td>Room near JFK Queen Bed</td>\n",
              "      <td>Dona</td>\n",
              "      <td>Queens</td>\n",
              "      <td>629</td>\n",
              "    </tr>\n",
              "    <tr>\n",
              "      <th>1</th>\n",
              "      <td>Great Bedroom in Manhattan</td>\n",
              "      <td>Jj</td>\n",
              "      <td>Manhattan</td>\n",
              "      <td>607</td>\n",
              "    </tr>\n",
              "    <tr>\n",
              "      <th>2</th>\n",
              "      <td>Beautiful Bedroom in Manhattan</td>\n",
              "      <td>Jj</td>\n",
              "      <td>Manhattan</td>\n",
              "      <td>597</td>\n",
              "    </tr>\n",
              "    <tr>\n",
              "      <th>3</th>\n",
              "      <td>Private Bedroom in Manhattan</td>\n",
              "      <td>Jj</td>\n",
              "      <td>Manhattan</td>\n",
              "      <td>594</td>\n",
              "    </tr>\n",
              "    <tr>\n",
              "      <th>4</th>\n",
              "      <td>Room Near JFK Twin Beds</td>\n",
              "      <td>Dona</td>\n",
              "      <td>Queens</td>\n",
              "      <td>576</td>\n",
              "    </tr>\n",
              "    <tr>\n",
              "      <th>5</th>\n",
              "      <td>Steps away from Laguardia airport</td>\n",
              "      <td>Maya</td>\n",
              "      <td>Queens</td>\n",
              "      <td>543</td>\n",
              "    </tr>\n",
              "    <tr>\n",
              "      <th>6</th>\n",
              "      <td>Manhattan Lux Loft.Like.Love.Lots.Look !</td>\n",
              "      <td>Carol</td>\n",
              "      <td>Manhattan</td>\n",
              "      <td>540</td>\n",
              "    </tr>\n",
              "    <tr>\n",
              "      <th>7</th>\n",
              "      <td>Cozy Room Family Home LGA Airport NO CLEANING FEE</td>\n",
              "      <td>Danielle</td>\n",
              "      <td>Queens</td>\n",
              "      <td>510</td>\n",
              "    </tr>\n",
              "    <tr>\n",
              "      <th>8</th>\n",
              "      <td>Private brownstone studio Brooklyn</td>\n",
              "      <td>Asa</td>\n",
              "      <td>Brooklyn</td>\n",
              "      <td>488</td>\n",
              "    </tr>\n",
              "    <tr>\n",
              "      <th>9</th>\n",
              "      <td>LG Private Room/Family Friendly</td>\n",
              "      <td>Wanda</td>\n",
              "      <td>Brooklyn</td>\n",
              "      <td>480</td>\n",
              "    </tr>\n",
              "  </tbody>\n",
              "</table>\n",
              "</div>\n",
              "      <button class=\"colab-df-convert\" onclick=\"convertToInteractive('df-35d6fcf2-0cb3-4ade-b0fe-7a63e300b9d3')\"\n",
              "              title=\"Convert this dataframe to an interactive table.\"\n",
              "              style=\"display:none;\">\n",
              "        \n",
              "  <svg xmlns=\"http://www.w3.org/2000/svg\" height=\"24px\"viewBox=\"0 0 24 24\"\n",
              "       width=\"24px\">\n",
              "    <path d=\"M0 0h24v24H0V0z\" fill=\"none\"/>\n",
              "    <path d=\"M18.56 5.44l.94 2.06.94-2.06 2.06-.94-2.06-.94-.94-2.06-.94 2.06-2.06.94zm-11 1L8.5 8.5l.94-2.06 2.06-.94-2.06-.94L8.5 2.5l-.94 2.06-2.06.94zm10 10l.94 2.06.94-2.06 2.06-.94-2.06-.94-.94-2.06-.94 2.06-2.06.94z\"/><path d=\"M17.41 7.96l-1.37-1.37c-.4-.4-.92-.59-1.43-.59-.52 0-1.04.2-1.43.59L10.3 9.45l-7.72 7.72c-.78.78-.78 2.05 0 2.83L4 21.41c.39.39.9.59 1.41.59.51 0 1.02-.2 1.41-.59l7.78-7.78 2.81-2.81c.8-.78.8-2.07 0-2.86zM5.41 20L4 18.59l7.72-7.72 1.47 1.35L5.41 20z\"/>\n",
              "  </svg>\n",
              "      </button>\n",
              "      \n",
              "  <style>\n",
              "    .colab-df-container {\n",
              "      display:flex;\n",
              "      flex-wrap:wrap;\n",
              "      gap: 12px;\n",
              "    }\n",
              "\n",
              "    .colab-df-convert {\n",
              "      background-color: #E8F0FE;\n",
              "      border: none;\n",
              "      border-radius: 50%;\n",
              "      cursor: pointer;\n",
              "      display: none;\n",
              "      fill: #1967D2;\n",
              "      height: 32px;\n",
              "      padding: 0 0 0 0;\n",
              "      width: 32px;\n",
              "    }\n",
              "\n",
              "    .colab-df-convert:hover {\n",
              "      background-color: #E2EBFA;\n",
              "      box-shadow: 0px 1px 2px rgba(60, 64, 67, 0.3), 0px 1px 3px 1px rgba(60, 64, 67, 0.15);\n",
              "      fill: #174EA6;\n",
              "    }\n",
              "\n",
              "    [theme=dark] .colab-df-convert {\n",
              "      background-color: #3B4455;\n",
              "      fill: #D2E3FC;\n",
              "    }\n",
              "\n",
              "    [theme=dark] .colab-df-convert:hover {\n",
              "      background-color: #434B5C;\n",
              "      box-shadow: 0px 1px 3px 1px rgba(0, 0, 0, 0.15);\n",
              "      filter: drop-shadow(0px 1px 2px rgba(0, 0, 0, 0.3));\n",
              "      fill: #FFFFFF;\n",
              "    }\n",
              "  </style>\n",
              "\n",
              "      <script>\n",
              "        const buttonEl =\n",
              "          document.querySelector('#df-35d6fcf2-0cb3-4ade-b0fe-7a63e300b9d3 button.colab-df-convert');\n",
              "        buttonEl.style.display =\n",
              "          google.colab.kernel.accessAllowed ? 'block' : 'none';\n",
              "\n",
              "        async function convertToInteractive(key) {\n",
              "          const element = document.querySelector('#df-35d6fcf2-0cb3-4ade-b0fe-7a63e300b9d3');\n",
              "          const dataTable =\n",
              "            await google.colab.kernel.invokeFunction('convertToInteractive',\n",
              "                                                     [key], {});\n",
              "          if (!dataTable) return;\n",
              "\n",
              "          const docLinkHtml = 'Like what you see? Visit the ' +\n",
              "            '<a target=\"_blank\" href=https://colab.research.google.com/notebooks/data_table.ipynb>data table notebook</a>'\n",
              "            + ' to learn more about interactive tables.';\n",
              "          element.innerHTML = '';\n",
              "          dataTable['output_type'] = 'display_data';\n",
              "          await google.colab.output.renderOutput(dataTable, element);\n",
              "          const docLink = document.createElement('div');\n",
              "          docLink.innerHTML = docLinkHtml;\n",
              "          element.appendChild(docLink);\n",
              "        }\n",
              "      </script>\n",
              "    </div>\n",
              "  </div>\n",
              "  "
            ]
          },
          "metadata": {},
          "execution_count": 7
        }
      ]
    },
    {
      "cell_type": "code",
      "source": [
        "#Plotting bar graphs for neighbourhood_group that has maximum reviews\n",
        "plt.rcParams['figure.figsize'] = (15, 8)\n",
        "width=0.4\n",
        "x=for_plot_neighbourhood['name']\n",
        "y=for_plot_neighbourhood['number_of_reviews']\n",
        "plt.bar(x,y,width)\n",
        "plt.xticks(x, rotation ='vertical')\n",
        "plt.title('Graph plotted according to the number of reviews and property name',fontsize=15)\n",
        "plt.ylabel('Total number_of_reviews',fontsize=10)\n",
        "plt.xlabel('Name of top 10 properties',fontsize=10)"
      ],
      "metadata": {
        "id": "n7yBLxT0pEpr",
        "colab": {
          "base_uri": "https://localhost:8080/",
          "height": 799
        },
        "outputId": "cc27d607-af6c-4006-8a26-843c27a706db"
      },
      "execution_count": null,
      "outputs": [
        {
          "output_type": "execute_result",
          "data": {
            "text/plain": [
              "Text(0.5, 0, 'Name of top 10 properties')"
            ]
          },
          "metadata": {},
          "execution_count": 8
        },
        {
          "output_type": "display_data",
          "data": {
            "text/plain": [
              "<Figure size 1080x576 with 1 Axes>"
            ],
            "image/png": "[encoded data removed]"
          },
          "metadata": {
            "needs_background": "light"
          }
        }
      ]
    },
    {
      "cell_type": "markdown",
      "source": [
        "##### 1. Why did you pick the specific chart?"
      ],
      "metadata": {
        "id": "h2zgqyMKr10U"
      }
    },
    {
      "cell_type": "markdown",
      "source": [
        "To show top 10 properties with highest reviews."
      ],
      "metadata": {
        "id": "MxkqGzCtr4Cy"
      }
    },
    {
      "cell_type": "markdown",
      "source": [
        "##### 2. What is/are the insight(s) found from the chart?"
      ],
      "metadata": {
        "id": "mCsVtQ68sOhP"
      }
    },
    {
      "cell_type": "markdown",
      "source": [
        "1. In the shown bar plot, x-axis represents the top 10 properties and y-axis \n",
        "represents number of reviews. \n",
        "2. From the plot, the highest number of reviews got to Room near JFK Queen Bed followed by Great bedroom in Manhattan."
      ],
      "metadata": {
        "id": "z0xAYb7Gskkz"
      }
    },
    {
      "cell_type": "markdown",
      "source": [
        "##### 3. Will the gained insights help creating a positive business impact? "
      ],
      "metadata": {
        "id": "fJ6MbtbsvAXo"
      }
    },
    {
      "cell_type": "markdown",
      "source": [
        "This chart can be useful for company to understand why some of their property have good and bad reviews which will be helpful for the company going forward."
      ],
      "metadata": {
        "id": "8o8RLRZjvGds"
      }
    },
    {
      "cell_type": "markdown",
      "source": [
        "#### Chart - 2"
      ],
      "metadata": {
        "id": "eOp0B_hLtoRo"
      }
    },
    {
      "cell_type": "markdown",
      "source": [
        "* Sort out cities from neighbourhood group to find out cities with top reviews"
      ],
      "metadata": {
        "id": "Ur8q0NMZFjPW"
      }
    },
    {
      "cell_type": "code",
      "source": [
        "sort_neigh_reviews=df.groupby(['neighbourhood_group'])['number_of_reviews'].max().reset_index()    # grouping neighbour hood and checking the max value of the group\n",
        "sort_neigh_reviews.sort_values(by='number_of_reviews',ascending=False,ignore_index=True)           #sorting the data according to number of reviews in decending order"
      ],
      "metadata": {
        "id": "CDXSXS-pFIKT",
        "colab": {
          "base_uri": "https://localhost:8080/",
          "height": 206
        },
        "outputId": "4cfb4298-8f9b-48f7-8a8c-1b552373e455"
      },
      "execution_count": null,
      "outputs": [
        {
          "output_type": "execute_result",
          "data": {
            "text/plain": [
              "  neighbourhood_group  number_of_reviews\n",
              "0              Queens                629\n",
              "1           Manhattan                607\n",
              "2            Brooklyn                488\n",
              "3       Staten Island                333\n",
              "4               Bronx                321"
            ],
            "text/html": [
              "\n",
              "  <div id=\"df-7a1a217e-8ae1-4d68-be9d-002e7c0f8bde\">\n",
              "    <div class=\"colab-df-container\">\n",
              "      <div>\n",
              "<style scoped>\n",
              "    .dataframe tbody tr th:only-of-type {\n",
              "        vertical-align: middle;\n",
              "    }\n",
              "\n",
              "    .dataframe tbody tr th {\n",
              "        vertical-align: top;\n",
              "    }\n",
              "\n",
              "    .dataframe thead th {\n",
              "        text-align: right;\n",
              "    }\n",
              "</style>\n",
              "<table border=\"1\" class=\"dataframe\">\n",
              "  <thead>\n",
              "    <tr style=\"text-align: right;\">\n",
              "      <th></th>\n",
              "      <th>neighbourhood_group</th>\n",
              "      <th>number_of_reviews</th>\n",
              "    </tr>\n",
              "  </thead>\n",
              "  <tbody>\n",
              "    <tr>\n",
              "      <th>0</th>\n",
              "      <td>Queens</td>\n",
              "      <td>629</td>\n",
              "    </tr>\n",
              "    <tr>\n",
              "      <th>1</th>\n",
              "      <td>Manhattan</td>\n",
              "      <td>607</td>\n",
              "    </tr>\n",
              "    <tr>\n",
              "      <th>2</th>\n",
              "      <td>Brooklyn</td>\n",
              "      <td>488</td>\n",
              "    </tr>\n",
              "    <tr>\n",
              "      <th>3</th>\n",
              "      <td>Staten Island</td>\n",
              "      <td>333</td>\n",
              "    </tr>\n",
              "    <tr>\n",
              "      <th>4</th>\n",
              "      <td>Bronx</td>\n",
              "      <td>321</td>\n",
              "    </tr>\n",
              "  </tbody>\n",
              "</table>\n",
              "</div>\n",
              "      <button class=\"colab-df-convert\" onclick=\"convertToInteractive('df-7a1a217e-8ae1-4d68-be9d-002e7c0f8bde')\"\n",
              "              title=\"Convert this dataframe to an interactive table.\"\n",
              "              style=\"display:none;\">\n",
              "        \n",
              "  <svg xmlns=\"http://www.w3.org/2000/svg\" height=\"24px\"viewBox=\"0 0 24 24\"\n",
              "       width=\"24px\">\n",
              "    <path d=\"M0 0h24v24H0V0z\" fill=\"none\"/>\n",
              "    <path d=\"M18.56 5.44l.94 2.06.94-2.06 2.06-.94-2.06-.94-.94-2.06-.94 2.06-2.06.94zm-11 1L8.5 8.5l.94-2.06 2.06-.94-2.06-.94L8.5 2.5l-.94 2.06-2.06.94zm10 10l.94 2.06.94-2.06 2.06-.94-2.06-.94-.94-2.06-.94 2.06-2.06.94z\"/><path d=\"M17.41 7.96l-1.37-1.37c-.4-.4-.92-.59-1.43-.59-.52 0-1.04.2-1.43.59L10.3 9.45l-7.72 7.72c-.78.78-.78 2.05 0 2.83L4 21.41c.39.39.9.59 1.41.59.51 0 1.02-.2 1.41-.59l7.78-7.78 2.81-2.81c.8-.78.8-2.07 0-2.86zM5.41 20L4 18.59l7.72-7.72 1.47 1.35L5.41 20z\"/>\n",
              "  </svg>\n",
              "      </button>\n",
              "      \n",
              "  <style>\n",
              "    .colab-df-container {\n",
              "      display:flex;\n",
              "      flex-wrap:wrap;\n",
              "      gap: 12px;\n",
              "    }\n",
              "\n",
              "    .colab-df-convert {\n",
              "      background-color: #E8F0FE;\n",
              "      border: none;\n",
              "      border-radius: 50%;\n",
              "      cursor: pointer;\n",
              "      display: none;\n",
              "      fill: #1967D2;\n",
              "      height: 32px;\n",
              "      padding: 0 0 0 0;\n",
              "      width: 32px;\n",
              "    }\n",
              "\n",
              "    .colab-df-convert:hover {\n",
              "      background-color: #E2EBFA;\n",
              "      box-shadow: 0px 1px 2px rgba(60, 64, 67, 0.3), 0px 1px 3px 1px rgba(60, 64, 67, 0.15);\n",
              "      fill: #174EA6;\n",
              "    }\n",
              "\n",
              "    [theme=dark] .colab-df-convert {\n",
              "      background-color: #3B4455;\n",
              "      fill: #D2E3FC;\n",
              "    }\n",
              "\n",
              "    [theme=dark] .colab-df-convert:hover {\n",
              "      background-color: #434B5C;\n",
              "      box-shadow: 0px 1px 3px 1px rgba(0, 0, 0, 0.15);\n",
              "      filter: drop-shadow(0px 1px 2px rgba(0, 0, 0, 0.3));\n",
              "      fill: #FFFFFF;\n",
              "    }\n",
              "  </style>\n",
              "\n",
              "      <script>\n",
              "        const buttonEl =\n",
              "          document.querySelector('#df-7a1a217e-8ae1-4d68-be9d-002e7c0f8bde button.colab-df-convert');\n",
              "        buttonEl.style.display =\n",
              "          google.colab.kernel.accessAllowed ? 'block' : 'none';\n",
              "\n",
              "        async function convertToInteractive(key) {\n",
              "          const element = document.querySelector('#df-7a1a217e-8ae1-4d68-be9d-002e7c0f8bde');\n",
              "          const dataTable =\n",
              "            await google.colab.kernel.invokeFunction('convertToInteractive',\n",
              "                                                     [key], {});\n",
              "          if (!dataTable) return;\n",
              "\n",
              "          const docLinkHtml = 'Like what you see? Visit the ' +\n",
              "            '<a target=\"_blank\" href=https://colab.research.google.com/notebooks/data_table.ipynb>data table notebook</a>'\n",
              "            + ' to learn more about interactive tables.';\n",
              "          element.innerHTML = '';\n",
              "          dataTable['output_type'] = 'display_data';\n",
              "          await google.colab.output.renderOutput(dataTable, element);\n",
              "          const docLink = document.createElement('div');\n",
              "          docLink.innerHTML = docLinkHtml;\n",
              "          element.appendChild(docLink);\n",
              "        }\n",
              "      </script>\n",
              "    </div>\n",
              "  </div>\n",
              "  "
            ]
          },
          "metadata": {},
          "execution_count": 9
        }
      ]
    },
    {
      "cell_type": "code",
      "source": [
        "#Creating graph for neighbourhood_group in context to reviews \n",
        "plt.rcParams['figure.figsize'] = (10, 5)\n",
        "width=0.4\n",
        "x=sort_neigh_reviews['neighbourhood_group']\n",
        "y=sort_neigh_reviews['number_of_reviews']\n",
        "plt.bar(x,y,width,color='#18D57F')\n",
        "plt.title('Graph plotted according to the number of reviews in each neighbood group',fontsize=15)\n",
        "plt.ylabel('Total number_of_reviews',fontsize=10)\n",
        "plt.xlabel('Neighbourhood group cities',fontsize=10)"
      ],
      "metadata": {
        "id": "tFNW44_MHNYF",
        "colab": {
          "base_uri": "https://localhost:8080/",
          "height": 369
        },
        "outputId": "38197fab-cc69-4db6-9cb5-41371cf3b2cd"
      },
      "execution_count": null,
      "outputs": [
        {
          "output_type": "execute_result",
          "data": {
            "text/plain": [
              "Text(0.5, 0, 'Neighbourhood group cities')"
            ]
          },
          "metadata": {},
          "execution_count": 10
        },
        {
          "output_type": "display_data",
          "data": {
            "text/plain": [
              "<Figure size 720x360 with 1 Axes>"
            ],
            "image/png": "[encoded data removed]"
          },
          "metadata": {
            "needs_background": "light"
          }
        }
      ]
    },
    {
      "cell_type": "markdown",
      "source": [
        "##### 1. Why did you pick the specific chart?"
      ],
      "metadata": {
        "id": "9lmTdpgJvhWA"
      }
    },
    {
      "cell_type": "markdown",
      "source": [
        "To show number of reviews in each neighbood group."
      ],
      "metadata": {
        "id": "1V_4QRcCviQq"
      }
    },
    {
      "cell_type": "markdown",
      "source": [
        "##### 2. What is/are the insight(s) found from the chart?"
      ],
      "metadata": {
        "id": "jIPXErUhv3wL"
      }
    },
    {
      "cell_type": "markdown",
      "source": [
        "1. In the shown bar plot, x-axis represents neighbourhood group and y-axis represents total number of reviews. \n",
        "2. The city Queen got most number of reviews (629) which is followed by Manhattan (607) and Brooklyn (488)."
      ],
      "metadata": {
        "id": "olRvCOZpv-DJ"
      }
    },
    {
      "cell_type": "markdown",
      "source": [
        "##### 3. Will the gained insights help creating a positive business impact? "
      ],
      "metadata": {
        "id": "4K3o8TK0wOou"
      }
    },
    {
      "cell_type": "markdown",
      "source": [
        "Company and investors can check the investment oppertunity in the neighbourhood group cities."
      ],
      "metadata": {
        "id": "cbeXRCtNwQN3"
      }
    },
    {
      "cell_type": "markdown",
      "source": [
        "#### Chart - 3"
      ],
      "metadata": {
        "id": "WDn_z6lttvvi"
      }
    },
    {
      "cell_type": "markdown",
      "source": [
        " * Percentage of types of rooms listed in air bnb or types of rooms used the \n",
        "most according to the reviews."
      ],
      "metadata": {
        "id": "7LKJbS1gp2Yd"
      }
    },
    {
      "cell_type": "code",
      "source": [
        "#check if the room_type column has null values\n",
        "room_type=df['room_type'].isnull().sum\n",
        "room_type"
      ],
      "metadata": {
        "id": "zgmy3ysjpBcX",
        "colab": {
          "base_uri": "https://localhost:8080/"
        },
        "outputId": "5eb70692-a93d-4f68-d64d-29a2c2968e62"
      },
      "execution_count": null,
      "outputs": [
        {
          "output_type": "execute_result",
          "data": {
            "text/plain": [
              "<bound method NDFrame._add_numeric_operations.<locals>.sum of 0        False\n",
              "1        False\n",
              "2        False\n",
              "3        False\n",
              "4        False\n",
              "         ...  \n",
              "48890    False\n",
              "48891    False\n",
              "48892    False\n",
              "48893    False\n",
              "48894    False\n",
              "Name: room_type, Length: 48895, dtype: bool>"
            ]
          },
          "metadata": {},
          "execution_count": 11
        }
      ]
    },
    {
      "cell_type": "code",
      "source": [
        "#when there are no null values we can count the types of each available room type\n",
        "room_type_value_count=df['room_type'].value_counts()\n",
        "room_type_value_count"
      ],
      "metadata": {
        "id": "jNUs76ttrAXL",
        "colab": {
          "base_uri": "https://localhost:8080/"
        },
        "outputId": "b3a864b7-a824-48ef-c2ee-52dfee0511d6"
      },
      "execution_count": null,
      "outputs": [
        {
          "output_type": "execute_result",
          "data": {
            "text/plain": [
              "Entire home/apt    25409\n",
              "Private room       22326\n",
              "Shared room         1160\n",
              "Name: room_type, dtype: int64"
            ]
          },
          "metadata": {},
          "execution_count": 12
        }
      ]
    },
    {
      "cell_type": "code",
      "source": [
        "#Now we can make a Pie chart out of it\n",
        "colors=['lightskyblue','lightcoral','green']\n",
        "explode=[0,0,0.1]\n",
        "room_type_value_count.plot(kind='pie',colors=colors,explode=explode,autopct='%1.1f%%')\n",
        "plt.legend()\n",
        "plt.title('Types of Rooms available in the AirBnB')\n"
      ],
      "metadata": {
        "id": "O7dZrz1frm6j",
        "colab": {
          "base_uri": "https://localhost:8080/",
          "height": 336
        },
        "outputId": "03f212a8-71ff-4b5c-f99b-f42174f87d05"
      },
      "execution_count": null,
      "outputs": [
        {
          "output_type": "execute_result",
          "data": {
            "text/plain": [
              "Text(0.5, 1.0, 'Types of Rooms available in the AirBnB')"
            ]
          },
          "metadata": {},
          "execution_count": 13
        },
        {
          "output_type": "display_data",
          "data": {
            "text/plain": [
              "<Figure size 720x360 with 1 Axes>"
            ],
            "image/png": "[encoded data removed]"
          },
          "metadata": {}
        }
      ]
    },
    {
      "cell_type": "markdown",
      "source": [
        "##### 1. Why did you pick the specific chart?"
      ],
      "metadata": {
        "id": "tWqPz28gwpDr"
      }
    },
    {
      "cell_type": "markdown",
      "source": [
        "To show Types of Rooms available in the AirBnB."
      ],
      "metadata": {
        "id": "Dbb_0YSkwqww"
      }
    },
    {
      "cell_type": "markdown",
      "source": [
        "##### 2. What is/are the insight(s) found from the chart?"
      ],
      "metadata": {
        "id": "cyZSvU0twrMq"
      }
    },
    {
      "cell_type": "markdown",
      "source": [
        "1. The shown pie chart represents the types of rooms available for Airbnb bookings. \n",
        "2. The Entire apartment contributes 52% in the overall rooms and second is private room with 45.7% and last, shared room with 2.4%."
      ],
      "metadata": {
        "id": "jjLCCgSYwwr1"
      }
    },
    {
      "cell_type": "markdown",
      "source": [
        "##### 3. Will the gained insights help creating a positive business impact? "
      ],
      "metadata": {
        "id": "66Gz_oEewyPL"
      }
    },
    {
      "cell_type": "markdown",
      "source": [
        "With this chart company and investors can look upon which room type is in demand."
      ],
      "metadata": {
        "id": "z6O8itPQy6gz"
      }
    },
    {
      "cell_type": "markdown",
      "source": [
        "#### Chart - 4"
      ],
      "metadata": {
        "id": "-RgDrRQht2D0"
      }
    },
    {
      "cell_type": "markdown",
      "source": [
        "* Check the Average room price in each area(neighbourhood_group) and find the average room price on types of rooms available(room_types)."
      ],
      "metadata": {
        "id": "Eqo-SNcLy0VN"
      }
    },
    {
      "cell_type": "code",
      "source": [
        "#For checking all the columns name\n",
        "for col in df:\n",
        "  print(col)"
      ],
      "metadata": {
        "id": "hvpu8rQbyyEJ",
        "colab": {
          "base_uri": "https://localhost:8080/"
        },
        "outputId": "21f2bd94-ae49-4956-be3b-f9ba0e983999"
      },
      "execution_count": null,
      "outputs": [
        {
          "output_type": "stream",
          "name": "stdout",
          "text": [
            "id\n",
            "name\n",
            "host_id\n",
            "host_name\n",
            "neighbourhood_group\n",
            "neighbourhood\n",
            "latitude\n",
            "longitude\n",
            "room_type\n",
            "price\n",
            "minimum_nights\n",
            "number_of_reviews\n",
            "last_review\n",
            "reviews_per_month\n",
            "calculated_host_listings_count\n",
            "availability_365\n"
          ]
        }
      ]
    },
    {
      "cell_type": "code",
      "source": [
        "#check if the there are null values in desired columns\n",
        "ls1_price=df['price'].isnull().sum()\n",
        "ls1_room_type=df['room_type'].isnull().sum()\n",
        "check_null_count=[ls1_price,ls1_room_type]\n",
        "check_null_count                                                #no null values found"
      ],
      "metadata": {
        "id": "L4SVYwFdShlL",
        "colab": {
          "base_uri": "https://localhost:8080/"
        },
        "outputId": "c0888a78-12d0-4fb8-ecf8-59889f1cb5c3"
      },
      "execution_count": null,
      "outputs": [
        {
          "output_type": "execute_result",
          "data": {
            "text/plain": [
              "[0, 0]"
            ]
          },
          "metadata": {},
          "execution_count": 15
        }
      ]
    },
    {
      "cell_type": "code",
      "source": [
        "#Average price of listings in the neighbourhood_group\n",
        "average_price=df.groupby(['neighbourhood_group'])['price'].mean().reset_index()\n",
        "average_price_of_neighbourhood_group=average_price.sort_values(by='price',ascending=False,ignore_index=True)         #Sorted average price in decending order for neighbourhood_group\n",
        "average_price_of_neighbourhood_group"
      ],
      "metadata": {
        "id": "H_0-cKi4Wric",
        "colab": {
          "base_uri": "https://localhost:8080/",
          "height": 206
        },
        "outputId": "219d8bc4-1cd5-4e62-d3d5-2d27639950a0"
      },
      "execution_count": null,
      "outputs": [
        {
          "output_type": "execute_result",
          "data": {
            "text/plain": [
              "  neighbourhood_group       price\n",
              "0           Manhattan  196.875814\n",
              "1            Brooklyn  124.383207\n",
              "2       Staten Island  114.812332\n",
              "3              Queens   99.517649\n",
              "4               Bronx   87.496792"
            ],
            "text/html": [
              "\n",
              "  <div id=\"df-d4d32fff-48e9-4830-b2d9-372b0b59311b\">\n",
              "    <div class=\"colab-df-container\">\n",
              "      <div>\n",
              "<style scoped>\n",
              "    .dataframe tbody tr th:only-of-type {\n",
              "        vertical-align: middle;\n",
              "    }\n",
              "\n",
              "    .dataframe tbody tr th {\n",
              "        vertical-align: top;\n",
              "    }\n",
              "\n",
              "    .dataframe thead th {\n",
              "        text-align: right;\n",
              "    }\n",
              "</style>\n",
              "<table border=\"1\" class=\"dataframe\">\n",
              "  <thead>\n",
              "    <tr style=\"text-align: right;\">\n",
              "      <th></th>\n",
              "      <th>neighbourhood_group</th>\n",
              "      <th>price</th>\n",
              "    </tr>\n",
              "  </thead>\n",
              "  <tbody>\n",
              "    <tr>\n",
              "      <th>0</th>\n",
              "      <td>Manhattan</td>\n",
              "      <td>196.875814</td>\n",
              "    </tr>\n",
              "    <tr>\n",
              "      <th>1</th>\n",
              "      <td>Brooklyn</td>\n",
              "      <td>124.383207</td>\n",
              "    </tr>\n",
              "    <tr>\n",
              "      <th>2</th>\n",
              "      <td>Staten Island</td>\n",
              "      <td>114.812332</td>\n",
              "    </tr>\n",
              "    <tr>\n",
              "      <th>3</th>\n",
              "      <td>Queens</td>\n",
              "      <td>99.517649</td>\n",
              "    </tr>\n",
              "    <tr>\n",
              "      <th>4</th>\n",
              "      <td>Bronx</td>\n",
              "      <td>87.496792</td>\n",
              "    </tr>\n",
              "  </tbody>\n",
              "</table>\n",
              "</div>\n",
              "      <button class=\"colab-df-convert\" onclick=\"convertToInteractive('df-d4d32fff-48e9-4830-b2d9-372b0b59311b')\"\n",
              "              title=\"Convert this dataframe to an interactive table.\"\n",
              "              style=\"display:none;\">\n",
              "        \n",
              "  <svg xmlns=\"http://www.w3.org/2000/svg\" height=\"24px\"viewBox=\"0 0 24 24\"\n",
              "       width=\"24px\">\n",
              "    <path d=\"M0 0h24v24H0V0z\" fill=\"none\"/>\n",
              "    <path d=\"M18.56 5.44l.94 2.06.94-2.06 2.06-.94-2.06-.94-.94-2.06-.94 2.06-2.06.94zm-11 1L8.5 8.5l.94-2.06 2.06-.94-2.06-.94L8.5 2.5l-.94 2.06-2.06.94zm10 10l.94 2.06.94-2.06 2.06-.94-2.06-.94-.94-2.06-.94 2.06-2.06.94z\"/><path d=\"M17.41 7.96l-1.37-1.37c-.4-.4-.92-.59-1.43-.59-.52 0-1.04.2-1.43.59L10.3 9.45l-7.72 7.72c-.78.78-.78 2.05 0 2.83L4 21.41c.39.39.9.59 1.41.59.51 0 1.02-.2 1.41-.59l7.78-7.78 2.81-2.81c.8-.78.8-2.07 0-2.86zM5.41 20L4 18.59l7.72-7.72 1.47 1.35L5.41 20z\"/>\n",
              "  </svg>\n",
              "      </button>\n",
              "      \n",
              "  <style>\n",
              "    .colab-df-container {\n",
              "      display:flex;\n",
              "      flex-wrap:wrap;\n",
              "      gap: 12px;\n",
              "    }\n",
              "\n",
              "    .colab-df-convert {\n",
              "      background-color: #E8F0FE;\n",
              "      border: none;\n",
              "      border-radius: 50%;\n",
              "      cursor: pointer;\n",
              "      display: none;\n",
              "      fill: #1967D2;\n",
              "      height: 32px;\n",
              "      padding: 0 0 0 0;\n",
              "      width: 32px;\n",
              "    }\n",
              "\n",
              "    .colab-df-convert:hover {\n",
              "      background-color: #E2EBFA;\n",
              "      box-shadow: 0px 1px 2px rgba(60, 64, 67, 0.3), 0px 1px 3px 1px rgba(60, 64, 67, 0.15);\n",
              "      fill: #174EA6;\n",
              "    }\n",
              "\n",
              "    [theme=dark] .colab-df-convert {\n",
              "      background-color: #3B4455;\n",
              "      fill: #D2E3FC;\n",
              "    }\n",
              "\n",
              "    [theme=dark] .colab-df-convert:hover {\n",
              "      background-color: #434B5C;\n",
              "      box-shadow: 0px 1px 3px 1px rgba(0, 0, 0, 0.15);\n",
              "      filter: drop-shadow(0px 1px 2px rgba(0, 0, 0, 0.3));\n",
              "      fill: #FFFFFF;\n",
              "    }\n",
              "  </style>\n",
              "\n",
              "      <script>\n",
              "        const buttonEl =\n",
              "          document.querySelector('#df-d4d32fff-48e9-4830-b2d9-372b0b59311b button.colab-df-convert');\n",
              "        buttonEl.style.display =\n",
              "          google.colab.kernel.accessAllowed ? 'block' : 'none';\n",
              "\n",
              "        async function convertToInteractive(key) {\n",
              "          const element = document.querySelector('#df-d4d32fff-48e9-4830-b2d9-372b0b59311b');\n",
              "          const dataTable =\n",
              "            await google.colab.kernel.invokeFunction('convertToInteractive',\n",
              "                                                     [key], {});\n",
              "          if (!dataTable) return;\n",
              "\n",
              "          const docLinkHtml = 'Like what you see? Visit the ' +\n",
              "            '<a target=\"_blank\" href=https://colab.research.google.com/notebooks/data_table.ipynb>data table notebook</a>'\n",
              "            + ' to learn more about interactive tables.';\n",
              "          element.innerHTML = '';\n",
              "          dataTable['output_type'] = 'display_data';\n",
              "          await google.colab.output.renderOutput(dataTable, element);\n",
              "          const docLink = document.createElement('div');\n",
              "          docLink.innerHTML = docLinkHtml;\n",
              "          element.appendChild(docLink);\n",
              "        }\n",
              "      </script>\n",
              "    </div>\n",
              "  </div>\n",
              "  "
            ]
          },
          "metadata": {},
          "execution_count": 16
        }
      ]
    },
    {
      "cell_type": "code",
      "source": [
        "#Creating graph for neighbourhood_group in context to price available in the listings\n",
        "plt.rcParams['figure.figsize'] = (10, 5)\n",
        "width=0.4\n",
        "x=average_price_of_neighbourhood_group['neighbourhood_group']\n",
        "y=average_price_of_neighbourhood_group['price']\n",
        "plt.bar(x,y,width,color='#7FD518')\n",
        "plt.title('Graph plotted according to the neighbourhood group with top prices from the listings',fontsize=15)\n",
        "plt.ylabel('Price datas from the AirBnB prices',fontsize=10)\n",
        "plt.xlabel('Neighbourhood group cities from AirBnB',fontsize=10)\n",
        "plt.grid()"
      ],
      "metadata": {
        "id": "hvtPX3pphaGo",
        "colab": {
          "base_uri": "https://localhost:8080/",
          "height": 352
        },
        "outputId": "8f304ce4-a12c-47a1-e66d-fd8f62e07944"
      },
      "execution_count": null,
      "outputs": [
        {
          "output_type": "display_data",
          "data": {
            "text/plain": [
              "<Figure size 720x360 with 1 Axes>"
            ],
            "image/png": "[encoded data removed]"
          },
          "metadata": {
            "needs_background": "light"
          }
        }
      ]
    },
    {
      "cell_type": "markdown",
      "source": [
        "##### 1. Why did you pick the specific chart?"
      ],
      "metadata": {
        "id": "Ts_6ctWlw_Za"
      }
    },
    {
      "cell_type": "markdown",
      "source": [
        "To show neighbourhood group with top prices from the listings."
      ],
      "metadata": {
        "id": "EqWO6TbqzUEs"
      }
    },
    {
      "cell_type": "markdown",
      "source": [
        "##### 2. What is/are the insight(s) found from the chart?"
      ],
      "metadata": {
        "id": "eywRyzC4xwsv"
      }
    },
    {
      "cell_type": "markdown",
      "source": [
        "1. In the shown bar plot,  x-axis represents the cities of neighbourhood group  and y-axis represents average price data.\n",
        "2. The highest average price according to the bar plot is of Manhattan (196.87) followed by Brooklyn(124.38) and Staten Island(114.81)."
      ],
      "metadata": {
        "id": "Z7iKzbcZzWre"
      }
    },
    {
      "cell_type": "markdown",
      "source": [
        "##### 3. Will the gained insights help creating a positive business impact? "
      ],
      "metadata": {
        "id": "byoyE2pZyC0o"
      }
    },
    {
      "cell_type": "markdown",
      "source": [
        "The datas provide average price in each cities and showcasing them from highest to lowest thus representing the prices according to the cost of living. "
      ],
      "metadata": {
        "id": "CKAFThKRzkOH"
      }
    },
    {
      "cell_type": "markdown",
      "source": [
        "#### Chart - 5"
      ],
      "metadata": {
        "id": "RVlfxnR0uHON"
      }
    },
    {
      "cell_type": "code",
      "source": [
        "# Now we want datas for average prices on types of rooms available\n",
        "average_price_room=df.groupby(['room_type'])['price'].mean().reset_index()\n",
        "average_price_room_type=average_price_room.sort_values(by='price',ascending=False,ignore_index=True) \n",
        "average_price_room_type=average_price_room_type.set_index('room_type')\n",
        "average_price_room_type"
      ],
      "metadata": {
        "id": "KHiVuOKZjBe1",
        "colab": {
          "base_uri": "https://localhost:8080/",
          "height": 175
        },
        "outputId": "1788ca2d-8ce2-4ad0-bc18-d5b19cd88578"
      },
      "execution_count": null,
      "outputs": [
        {
          "output_type": "execute_result",
          "data": {
            "text/plain": [
              "                      price\n",
              "room_type                  \n",
              "Entire home/apt  211.794246\n",
              "Private room      89.780973\n",
              "Shared room       70.127586"
            ],
            "text/html": [
              "\n",
              "  <div id=\"df-e67836b6-24f9-4cbf-b059-479fb2a54890\">\n",
              "    <div class=\"colab-df-container\">\n",
              "      <div>\n",
              "<style scoped>\n",
              "    .dataframe tbody tr th:only-of-type {\n",
              "        vertical-align: middle;\n",
              "    }\n",
              "\n",
              "    .dataframe tbody tr th {\n",
              "        vertical-align: top;\n",
              "    }\n",
              "\n",
              "    .dataframe thead th {\n",
              "        text-align: right;\n",
              "    }\n",
              "</style>\n",
              "<table border=\"1\" class=\"dataframe\">\n",
              "  <thead>\n",
              "    <tr style=\"text-align: right;\">\n",
              "      <th></th>\n",
              "      <th>price</th>\n",
              "    </tr>\n",
              "    <tr>\n",
              "      <th>room_type</th>\n",
              "      <th></th>\n",
              "    </tr>\n",
              "  </thead>\n",
              "  <tbody>\n",
              "    <tr>\n",
              "      <th>Entire home/apt</th>\n",
              "      <td>211.794246</td>\n",
              "    </tr>\n",
              "    <tr>\n",
              "      <th>Private room</th>\n",
              "      <td>89.780973</td>\n",
              "    </tr>\n",
              "    <tr>\n",
              "      <th>Shared room</th>\n",
              "      <td>70.127586</td>\n",
              "    </tr>\n",
              "  </tbody>\n",
              "</table>\n",
              "</div>\n",
              "      <button class=\"colab-df-convert\" onclick=\"convertToInteractive('df-e67836b6-24f9-4cbf-b059-479fb2a54890')\"\n",
              "              title=\"Convert this dataframe to an interactive table.\"\n",
              "              style=\"display:none;\">\n",
              "        \n",
              "  <svg xmlns=\"http://www.w3.org/2000/svg\" height=\"24px\"viewBox=\"0 0 24 24\"\n",
              "       width=\"24px\">\n",
              "    <path d=\"M0 0h24v24H0V0z\" fill=\"none\"/>\n",
              "    <path d=\"M18.56 5.44l.94 2.06.94-2.06 2.06-.94-2.06-.94-.94-2.06-.94 2.06-2.06.94zm-11 1L8.5 8.5l.94-2.06 2.06-.94-2.06-.94L8.5 2.5l-.94 2.06-2.06.94zm10 10l.94 2.06.94-2.06 2.06-.94-2.06-.94-.94-2.06-.94 2.06-2.06.94z\"/><path d=\"M17.41 7.96l-1.37-1.37c-.4-.4-.92-.59-1.43-.59-.52 0-1.04.2-1.43.59L10.3 9.45l-7.72 7.72c-.78.78-.78 2.05 0 2.83L4 21.41c.39.39.9.59 1.41.59.51 0 1.02-.2 1.41-.59l7.78-7.78 2.81-2.81c.8-.78.8-2.07 0-2.86zM5.41 20L4 18.59l7.72-7.72 1.47 1.35L5.41 20z\"/>\n",
              "  </svg>\n",
              "      </button>\n",
              "      \n",
              "  <style>\n",
              "    .colab-df-container {\n",
              "      display:flex;\n",
              "      flex-wrap:wrap;\n",
              "      gap: 12px;\n",
              "    }\n",
              "\n",
              "    .colab-df-convert {\n",
              "      background-color: #E8F0FE;\n",
              "      border: none;\n",
              "      border-radius: 50%;\n",
              "      cursor: pointer;\n",
              "      display: none;\n",
              "      fill: #1967D2;\n",
              "      height: 32px;\n",
              "      padding: 0 0 0 0;\n",
              "      width: 32px;\n",
              "    }\n",
              "\n",
              "    .colab-df-convert:hover {\n",
              "      background-color: #E2EBFA;\n",
              "      box-shadow: 0px 1px 2px rgba(60, 64, 67, 0.3), 0px 1px 3px 1px rgba(60, 64, 67, 0.15);\n",
              "      fill: #174EA6;\n",
              "    }\n",
              "\n",
              "    [theme=dark] .colab-df-convert {\n",
              "      background-color: #3B4455;\n",
              "      fill: #D2E3FC;\n",
              "    }\n",
              "\n",
              "    [theme=dark] .colab-df-convert:hover {\n",
              "      background-color: #434B5C;\n",
              "      box-shadow: 0px 1px 3px 1px rgba(0, 0, 0, 0.15);\n",
              "      filter: drop-shadow(0px 1px 2px rgba(0, 0, 0, 0.3));\n",
              "      fill: #FFFFFF;\n",
              "    }\n",
              "  </style>\n",
              "\n",
              "      <script>\n",
              "        const buttonEl =\n",
              "          document.querySelector('#df-e67836b6-24f9-4cbf-b059-479fb2a54890 button.colab-df-convert');\n",
              "        buttonEl.style.display =\n",
              "          google.colab.kernel.accessAllowed ? 'block' : 'none';\n",
              "\n",
              "        async function convertToInteractive(key) {\n",
              "          const element = document.querySelector('#df-e67836b6-24f9-4cbf-b059-479fb2a54890');\n",
              "          const dataTable =\n",
              "            await google.colab.kernel.invokeFunction('convertToInteractive',\n",
              "                                                     [key], {});\n",
              "          if (!dataTable) return;\n",
              "\n",
              "          const docLinkHtml = 'Like what you see? Visit the ' +\n",
              "            '<a target=\"_blank\" href=https://colab.research.google.com/notebooks/data_table.ipynb>data table notebook</a>'\n",
              "            + ' to learn more about interactive tables.';\n",
              "          element.innerHTML = '';\n",
              "          dataTable['output_type'] = 'display_data';\n",
              "          await google.colab.output.renderOutput(dataTable, element);\n",
              "          const docLink = document.createElement('div');\n",
              "          docLink.innerHTML = docLinkHtml;\n",
              "          element.appendChild(docLink);\n",
              "        }\n",
              "      </script>\n",
              "    </div>\n",
              "  </div>\n",
              "  "
            ]
          },
          "metadata": {},
          "execution_count": 18
        }
      ]
    },
    {
      "cell_type": "code",
      "source": [
        "#Plotting bar chart for average price in listings\n",
        "plt.rcParams['figure.figsize'] = (10, 5)\n",
        "average_price_room_type.plot(kind='bar',width=.2,color='#900C3F')\n",
        "plt.title('Average room price according to room types available')\n",
        "plt.ylabel('Average Price of rooms according to their types')\n",
        "plt.xlabel('Room types available in the listings')\n",
        "plt.grid()"
      ],
      "metadata": {
        "id": "F-e7JmoxkQEd",
        "colab": {
          "base_uri": "https://localhost:8080/",
          "height": 420
        },
        "outputId": "36fd835a-b45f-48cd-f3b9-55828bbca18d"
      },
      "execution_count": null,
      "outputs": [
        {
          "output_type": "display_data",
          "data": {
            "text/plain": [
              "<Figure size 720x360 with 1 Axes>"
            ],
            "image/png": "[encoded data removed]"
          },
          "metadata": {
            "needs_background": "light"
          }
        }
      ]
    },
    {
      "cell_type": "markdown",
      "source": [
        "##### 1. Why did you pick the specific chart?"
      ],
      "metadata": {
        "id": "Llq9KtrYxBoF"
      }
    },
    {
      "cell_type": "markdown",
      "source": [
        "To share the average room price according to room types available"
      ],
      "metadata": {
        "id": "4K7FD73f0JKE"
      }
    },
    {
      "cell_type": "markdown",
      "source": [
        "##### 2. What is/are the insight(s) found from the chart?"
      ],
      "metadata": {
        "id": "yDhCEeOYxuPK"
      }
    },
    {
      "cell_type": "markdown",
      "source": [
        "1. In the shown bar plot, x-axis represents the room types available and y-axis represents the average prices of the rooms. \n",
        "2. The highest average price of rooms are entire apartments which charges 211.79 followed by private room(89.78) and shared room(70.12)."
      ],
      "metadata": {
        "id": "rjvAY0zy0Nwe"
      }
    },
    {
      "cell_type": "markdown",
      "source": [
        "##### 3. Will the gained insights help creating a positive business impact? "
      ],
      "metadata": {
        "id": "zHE9MFClyHWi"
      }
    },
    {
      "cell_type": "markdown",
      "source": [
        "This datas can be useful insight for travellers who wants to gain knowledge on average room prices"
      ],
      "metadata": {
        "id": "w-zE-uKn0qYz"
      }
    },
    {
      "cell_type": "markdown",
      "source": [
        "#### Chart - 6"
      ],
      "metadata": {
        "id": "1_TMMspYuPCQ"
      }
    },
    {
      "cell_type": "markdown",
      "source": [
        "* Top listings with highest prices and top listings with cheapest price of rooms."
      ],
      "metadata": {
        "id": "4nCW1BBwqb1N"
      }
    },
    {
      "cell_type": "code",
      "source": [
        "#sorting the DataFrame of names and prices \n",
        "top_listing_hig_room_price=df[['name','price']].sort_values(by='price',ascending=False,ignore_index=True)[:10] \n",
        "top_listing_hig_room_price=top_listing_hig_room_price.set_index('name')"
      ],
      "metadata": {
        "id": "CLk_EWrtqQxt"
      },
      "execution_count": null,
      "outputs": []
    },
    {
      "cell_type": "code",
      "source": [
        "#Bar plot for top 10 listings according to their prices\n",
        "plt.rcParams['figure.figsize'] = (10, 5)\n",
        "top_listing_hig_room_price.plot(kind='bar',width=.2,color='#0C9B4B')\n",
        "plt.title('Room price for top listings in AirBnB')\n",
        "plt.ylabel('Prices available according to the listings')\n",
        "plt.xlabel('Listings with top prices available')\n",
        "plt.grid()"
      ],
      "metadata": {
        "id": "_lKapRVI9yFZ",
        "colab": {
          "base_uri": "https://localhost:8080/",
          "height": 599
        },
        "outputId": "3492246a-d1fc-440e-a152-271403247ff7"
      },
      "execution_count": null,
      "outputs": [
        {
          "output_type": "display_data",
          "data": {
            "text/plain": [
              "<Figure size 720x360 with 1 Axes>"
            ],
            "image/png": "[encoded data removed]"
          },
          "metadata": {
            "needs_background": "light"
          }
        }
      ]
    },
    {
      "cell_type": "markdown",
      "source": [
        "##### 1. Why did you pick the specific chart?"
      ],
      "metadata": {
        "id": "lEs8BHJLxEH4"
      }
    },
    {
      "cell_type": "markdown",
      "source": [
        "To check top 10 costliest properties."
      ],
      "metadata": {
        "id": "0fRw_vlt1CT-"
      }
    },
    {
      "cell_type": "markdown",
      "source": [
        "##### 2. What is/are the insight(s) found from the chart?"
      ],
      "metadata": {
        "id": "Y5R37K0Lxren"
      }
    },
    {
      "cell_type": "markdown",
      "source": [
        "1. In the shown bar plot, x-axis represents listings of house names and y-axis represents the prices in the data. \n",
        "2. In the graph, Furnished room in Astoria apartment, Luxury one bedroom apartment and 1-BR Lincoln center tied with the price of 10000$ followed by 2br – Heart of NYC, Quiet clean Lit @ LES and Chinatown and Spanish Harlem apartment."
      ],
      "metadata": {
        "id": "CCCJarua1Sus"
      }
    },
    {
      "cell_type": "markdown",
      "source": [
        "##### 3. Will the gained insights help creating a positive business impact? "
      ],
      "metadata": {
        "id": "kytAmA7XyKAw"
      }
    },
    {
      "cell_type": "markdown",
      "source": [
        "People who are looking for expensive properties to rent can look upon these datas."
      ],
      "metadata": {
        "id": "dH0r-0uo1_sk"
      }
    },
    {
      "cell_type": "markdown",
      "source": [
        "#### Chart - 7"
      ],
      "metadata": {
        "id": "KRlOq58GuUm2"
      }
    },
    {
      "cell_type": "code",
      "source": [
        "#sorting the DataFrame of names and prices for lowest listings\n",
        "dg=df[df['price']!=0] #cleaning up zeros from our dataframe where prices are zero\n",
        "dg.loc[dg['price']<=15, 'price'] = df['price'].median()  # setting up the average lowest price to 15\n",
        "top_listing_low_room_price=dg[['name','price']].sort_values(by='price',ascending=True,ignore_index=True)[:10] \n",
        "top_listing_low_room_price=top_listing_low_room_price.set_index('name')\n",
        "top_listing_low_room_price"
      ],
      "metadata": {
        "id": "eexkDn2LAZCm",
        "colab": {
          "base_uri": "https://localhost:8080/",
          "height": 498
        },
        "outputId": "ee2bdb58-881a-451e-f3b0-f85681d90436"
      },
      "execution_count": null,
      "outputs": [
        {
          "output_type": "stream",
          "name": "stderr",
          "text": [
            "/usr/local/lib/python3.8/dist-packages/pandas/core/indexing.py:1817: SettingWithCopyWarning: \n",
            "A value is trying to be set on a copy of a slice from a DataFrame.\n",
            "Try using .loc[row_indexer,col_indexer] = value instead\n",
            "\n",
            "See the caveats in the documentation: https://pandas.pydata.org/pandas-docs/stable/user_guide/indexing.html#returning-a-view-versus-a-copy\n",
            "  self._setitem_single_column(loc, value, pi)\n"
          ]
        },
        {
          "output_type": "execute_result",
          "data": {
            "text/plain": [
              "                                                    price\n",
              "name                                                     \n",
              "The Oasis.                                             16\n",
              "Prewar classic NYC apartment.                          16\n",
              "Beautiful SoHo Loft                                    16\n",
              "Cable and wfi, L/G included.                           16\n",
              "Large 1br Duplex in Heart of Upper East Side           16\n",
              "Room close to La Guardia Airport                       16\n",
              "$455 Cozy 1bd, BKLYN Sublet March                      18\n",
              "A.Hamilton(for GUYS only)                              18\n",
              "Tight budget tours NYC? Cheap, Clean and close all     19\n",
              "Calm bed. perfect for students and travelers.          19"
            ],
            "text/html": [
              "\n",
              "  <div id=\"df-cfb0cd9b-0d6b-4de6-aca0-1ad422dcec77\">\n",
              "    <div class=\"colab-df-container\">\n",
              "      <div>\n",
              "<style scoped>\n",
              "    .dataframe tbody tr th:only-of-type {\n",
              "        vertical-align: middle;\n",
              "    }\n",
              "\n",
              "    .dataframe tbody tr th {\n",
              "        vertical-align: top;\n",
              "    }\n",
              "\n",
              "    .dataframe thead th {\n",
              "        text-align: right;\n",
              "    }\n",
              "</style>\n",
              "<table border=\"1\" class=\"dataframe\">\n",
              "  <thead>\n",
              "    <tr style=\"text-align: right;\">\n",
              "      <th></th>\n",
              "      <th>price</th>\n",
              "    </tr>\n",
              "    <tr>\n",
              "      <th>name</th>\n",
              "      <th></th>\n",
              "    </tr>\n",
              "  </thead>\n",
              "  <tbody>\n",
              "    <tr>\n",
              "      <th>The Oasis.</th>\n",
              "      <td>16</td>\n",
              "    </tr>\n",
              "    <tr>\n",
              "      <th>Prewar classic NYC apartment.</th>\n",
              "      <td>16</td>\n",
              "    </tr>\n",
              "    <tr>\n",
              "      <th>Beautiful SoHo Loft</th>\n",
              "      <td>16</td>\n",
              "    </tr>\n",
              "    <tr>\n",
              "      <th>Cable and wfi, L/G included.</th>\n",
              "      <td>16</td>\n",
              "    </tr>\n",
              "    <tr>\n",
              "      <th>Large 1br Duplex in Heart of Upper East Side</th>\n",
              "      <td>16</td>\n",
              "    </tr>\n",
              "    <tr>\n",
              "      <th>Room close to La Guardia Airport</th>\n",
              "      <td>16</td>\n",
              "    </tr>\n",
              "    <tr>\n",
              "      <th>$455 Cozy 1bd, BKLYN Sublet March</th>\n",
              "      <td>18</td>\n",
              "    </tr>\n",
              "    <tr>\n",
              "      <th>A.Hamilton(for GUYS only)</th>\n",
              "      <td>18</td>\n",
              "    </tr>\n",
              "    <tr>\n",
              "      <th>Tight budget tours NYC? Cheap, Clean and close all</th>\n",
              "      <td>19</td>\n",
              "    </tr>\n",
              "    <tr>\n",
              "      <th>Calm bed. perfect for students and travelers.</th>\n",
              "      <td>19</td>\n",
              "    </tr>\n",
              "  </tbody>\n",
              "</table>\n",
              "</div>\n",
              "      <button class=\"colab-df-convert\" onclick=\"convertToInteractive('df-cfb0cd9b-0d6b-4de6-aca0-1ad422dcec77')\"\n",
              "              title=\"Convert this dataframe to an interactive table.\"\n",
              "              style=\"display:none;\">\n",
              "        \n",
              "  <svg xmlns=\"http://www.w3.org/2000/svg\" height=\"24px\"viewBox=\"0 0 24 24\"\n",
              "       width=\"24px\">\n",
              "    <path d=\"M0 0h24v24H0V0z\" fill=\"none\"/>\n",
              "    <path d=\"M18.56 5.44l.94 2.06.94-2.06 2.06-.94-2.06-.94-.94-2.06-.94 2.06-2.06.94zm-11 1L8.5 8.5l.94-2.06 2.06-.94-2.06-.94L8.5 2.5l-.94 2.06-2.06.94zm10 10l.94 2.06.94-2.06 2.06-.94-2.06-.94-.94-2.06-.94 2.06-2.06.94z\"/><path d=\"M17.41 7.96l-1.37-1.37c-.4-.4-.92-.59-1.43-.59-.52 0-1.04.2-1.43.59L10.3 9.45l-7.72 7.72c-.78.78-.78 2.05 0 2.83L4 21.41c.39.39.9.59 1.41.59.51 0 1.02-.2 1.41-.59l7.78-7.78 2.81-2.81c.8-.78.8-2.07 0-2.86zM5.41 20L4 18.59l7.72-7.72 1.47 1.35L5.41 20z\"/>\n",
              "  </svg>\n",
              "      </button>\n",
              "      \n",
              "  <style>\n",
              "    .colab-df-container {\n",
              "      display:flex;\n",
              "      flex-wrap:wrap;\n",
              "      gap: 12px;\n",
              "    }\n",
              "\n",
              "    .colab-df-convert {\n",
              "      background-color: #E8F0FE;\n",
              "      border: none;\n",
              "      border-radius: 50%;\n",
              "      cursor: pointer;\n",
              "      display: none;\n",
              "      fill: #1967D2;\n",
              "      height: 32px;\n",
              "      padding: 0 0 0 0;\n",
              "      width: 32px;\n",
              "    }\n",
              "\n",
              "    .colab-df-convert:hover {\n",
              "      background-color: #E2EBFA;\n",
              "      box-shadow: 0px 1px 2px rgba(60, 64, 67, 0.3), 0px 1px 3px 1px rgba(60, 64, 67, 0.15);\n",
              "      fill: #174EA6;\n",
              "    }\n",
              "\n",
              "    [theme=dark] .colab-df-convert {\n",
              "      background-color: #3B4455;\n",
              "      fill: #D2E3FC;\n",
              "    }\n",
              "\n",
              "    [theme=dark] .colab-df-convert:hover {\n",
              "      background-color: #434B5C;\n",
              "      box-shadow: 0px 1px 3px 1px rgba(0, 0, 0, 0.15);\n",
              "      filter: drop-shadow(0px 1px 2px rgba(0, 0, 0, 0.3));\n",
              "      fill: #FFFFFF;\n",
              "    }\n",
              "  </style>\n",
              "\n",
              "      <script>\n",
              "        const buttonEl =\n",
              "          document.querySelector('#df-cfb0cd9b-0d6b-4de6-aca0-1ad422dcec77 button.colab-df-convert');\n",
              "        buttonEl.style.display =\n",
              "          google.colab.kernel.accessAllowed ? 'block' : 'none';\n",
              "\n",
              "        async function convertToInteractive(key) {\n",
              "          const element = document.querySelector('#df-cfb0cd9b-0d6b-4de6-aca0-1ad422dcec77');\n",
              "          const dataTable =\n",
              "            await google.colab.kernel.invokeFunction('convertToInteractive',\n",
              "                                                     [key], {});\n",
              "          if (!dataTable) return;\n",
              "\n",
              "          const docLinkHtml = 'Like what you see? Visit the ' +\n",
              "            '<a target=\"_blank\" href=https://colab.research.google.com/notebooks/data_table.ipynb>data table notebook</a>'\n",
              "            + ' to learn more about interactive tables.';\n",
              "          element.innerHTML = '';\n",
              "          dataTable['output_type'] = 'display_data';\n",
              "          await google.colab.output.renderOutput(dataTable, element);\n",
              "          const docLink = document.createElement('div');\n",
              "          docLink.innerHTML = docLinkHtml;\n",
              "          element.appendChild(docLink);\n",
              "        }\n",
              "      </script>\n",
              "    </div>\n",
              "  </div>\n",
              "  "
            ]
          },
          "metadata": {},
          "execution_count": 22
        }
      ]
    },
    {
      "cell_type": "code",
      "source": [
        "#Plotting graph cheapest hotels\n",
        "plt.rcParams['figure.figsize'] = (10, 5)\n",
        "top_listing_low_room_price.plot(kind='bar',width=.2,color='red')\n",
        "plt.title('Listings prices for cheapest hotels in AirBnB')\n",
        "plt.ylabel('Prices available according to the listings')\n",
        "plt.xlabel('Listings with cheapest prices available')\n",
        "plt.grid()"
      ],
      "metadata": {
        "id": "Z2KWfshI88OU",
        "colab": {
          "base_uri": "https://localhost:8080/",
          "height": 596
        },
        "outputId": "80b99894-d5ef-4303-c5cc-e00d66189d4e"
      },
      "execution_count": null,
      "outputs": [
        {
          "output_type": "display_data",
          "data": {
            "text/plain": [
              "<Figure size 720x360 with 1 Axes>"
            ],
            "image/png": "[encoded data removed]"
          },
          "metadata": {
            "needs_background": "light"
          }
        }
      ]
    },
    {
      "cell_type": "markdown",
      "source": [
        "##### 1. Why did you pick the specific chart?"
      ],
      "metadata": {
        "id": "E0iqP7YvxJta"
      }
    },
    {
      "cell_type": "markdown",
      "source": [
        "To check top 10 cheapest properties people can rent from AirBnB listings"
      ],
      "metadata": {
        "id": "uuixrjUH2GFh"
      }
    },
    {
      "cell_type": "markdown",
      "source": [
        "##### 2. What is/are the insight(s) found from the chart?"
      ],
      "metadata": {
        "id": "3-SPxX7ixpSU"
      }
    },
    {
      "cell_type": "markdown",
      "source": [
        "1. In the shown bar plot, x-axis represents the listing of houses and y-axis represents the lowest prices. \n",
        "2. From the plot, we can understand that The Oasis and Prewar classic NYC apartment are the cheapest houses in AirBnB listings"
      ],
      "metadata": {
        "id": "VpViWhyt2Pwu"
      }
    },
    {
      "cell_type": "markdown",
      "source": [
        "##### 3. Will the gained insights help creating a positive business impact? "
      ],
      "metadata": {
        "id": "9n7CMwKkyMpl"
      }
    },
    {
      "cell_type": "markdown",
      "source": [
        "People who wants to rent cheapest properties can get insights from these datas"
      ],
      "metadata": {
        "id": "NJ1IZ5mr2h88"
      }
    },
    {
      "cell_type": "markdown",
      "source": [
        "#### Chart - 8"
      ],
      "metadata": {
        "id": "t-pyeCFGuYX3"
      }
    },
    {
      "cell_type": "markdown",
      "source": [
        "* Find average of minimum number of nights people have stayed in neighbourhood group according to the room type."
      ],
      "metadata": {
        "id": "6rhKbhcL8mM1"
      }
    },
    {
      "cell_type": "code",
      "source": [
        "#Getting the average of minimum nights people have stayed according to the room type and getting the unstack data out of it.\n",
        "group_room_type_and_name_unstack=df.groupby(['neighbourhood_group','room_type'])['minimum_nights'].mean().unstack()\n",
        "group_room_type_and_name_unstack"
      ],
      "metadata": {
        "id": "EoP0MEkNwMXe",
        "colab": {
          "base_uri": "https://localhost:8080/",
          "height": 238
        },
        "outputId": "1e986d1c-4350-4a5d-bbfa-097812c117ef"
      },
      "execution_count": null,
      "outputs": [
        {
          "output_type": "execute_result",
          "data": {
            "text/plain": [
              "room_type            Entire home/apt  Private room  Shared room\n",
              "neighbourhood_group                                            \n",
              "Bronx                       5.957784      3.858896     3.366667\n",
              "Brooklyn                    6.531332      5.539479     7.753027\n",
              "Manhattan                  10.539283      5.446880     6.766667\n",
              "Queens                      5.369752      5.120107     4.232323\n",
              "Staten Island               6.238636      3.632979     2.333333"
            ],
            "text/html": [
              "\n",
              "  <div id=\"df-d1f9d072-dd26-452f-bc5a-b597ab167f67\">\n",
              "    <div class=\"colab-df-container\">\n",
              "      <div>\n",
              "<style scoped>\n",
              "    .dataframe tbody tr th:only-of-type {\n",
              "        vertical-align: middle;\n",
              "    }\n",
              "\n",
              "    .dataframe tbody tr th {\n",
              "        vertical-align: top;\n",
              "    }\n",
              "\n",
              "    .dataframe thead th {\n",
              "        text-align: right;\n",
              "    }\n",
              "</style>\n",
              "<table border=\"1\" class=\"dataframe\">\n",
              "  <thead>\n",
              "    <tr style=\"text-align: right;\">\n",
              "      <th>room_type</th>\n",
              "      <th>Entire home/apt</th>\n",
              "      <th>Private room</th>\n",
              "      <th>Shared room</th>\n",
              "    </tr>\n",
              "    <tr>\n",
              "      <th>neighbourhood_group</th>\n",
              "      <th></th>\n",
              "      <th></th>\n",
              "      <th></th>\n",
              "    </tr>\n",
              "  </thead>\n",
              "  <tbody>\n",
              "    <tr>\n",
              "      <th>Bronx</th>\n",
              "      <td>5.957784</td>\n",
              "      <td>3.858896</td>\n",
              "      <td>3.366667</td>\n",
              "    </tr>\n",
              "    <tr>\n",
              "      <th>Brooklyn</th>\n",
              "      <td>6.531332</td>\n",
              "      <td>5.539479</td>\n",
              "      <td>7.753027</td>\n",
              "    </tr>\n",
              "    <tr>\n",
              "      <th>Manhattan</th>\n",
              "      <td>10.539283</td>\n",
              "      <td>5.446880</td>\n",
              "      <td>6.766667</td>\n",
              "    </tr>\n",
              "    <tr>\n",
              "      <th>Queens</th>\n",
              "      <td>5.369752</td>\n",
              "      <td>5.120107</td>\n",
              "      <td>4.232323</td>\n",
              "    </tr>\n",
              "    <tr>\n",
              "      <th>Staten Island</th>\n",
              "      <td>6.238636</td>\n",
              "      <td>3.632979</td>\n",
              "      <td>2.333333</td>\n",
              "    </tr>\n",
              "  </tbody>\n",
              "</table>\n",
              "</div>\n",
              "      <button class=\"colab-df-convert\" onclick=\"convertToInteractive('df-d1f9d072-dd26-452f-bc5a-b597ab167f67')\"\n",
              "              title=\"Convert this dataframe to an interactive table.\"\n",
              "              style=\"display:none;\">\n",
              "        \n",
              "  <svg xmlns=\"http://www.w3.org/2000/svg\" height=\"24px\"viewBox=\"0 0 24 24\"\n",
              "       width=\"24px\">\n",
              "    <path d=\"M0 0h24v24H0V0z\" fill=\"none\"/>\n",
              "    <path d=\"M18.56 5.44l.94 2.06.94-2.06 2.06-.94-2.06-.94-.94-2.06-.94 2.06-2.06.94zm-11 1L8.5 8.5l.94-2.06 2.06-.94-2.06-.94L8.5 2.5l-.94 2.06-2.06.94zm10 10l.94 2.06.94-2.06 2.06-.94-2.06-.94-.94-2.06-.94 2.06-2.06.94z\"/><path d=\"M17.41 7.96l-1.37-1.37c-.4-.4-.92-.59-1.43-.59-.52 0-1.04.2-1.43.59L10.3 9.45l-7.72 7.72c-.78.78-.78 2.05 0 2.83L4 21.41c.39.39.9.59 1.41.59.51 0 1.02-.2 1.41-.59l7.78-7.78 2.81-2.81c.8-.78.8-2.07 0-2.86zM5.41 20L4 18.59l7.72-7.72 1.47 1.35L5.41 20z\"/>\n",
              "  </svg>\n",
              "      </button>\n",
              "      \n",
              "  <style>\n",
              "    .colab-df-container {\n",
              "      display:flex;\n",
              "      flex-wrap:wrap;\n",
              "      gap: 12px;\n",
              "    }\n",
              "\n",
              "    .colab-df-convert {\n",
              "      background-color: #E8F0FE;\n",
              "      border: none;\n",
              "      border-radius: 50%;\n",
              "      cursor: pointer;\n",
              "      display: none;\n",
              "      fill: #1967D2;\n",
              "      height: 32px;\n",
              "      padding: 0 0 0 0;\n",
              "      width: 32px;\n",
              "    }\n",
              "\n",
              "    .colab-df-convert:hover {\n",
              "      background-color: #E2EBFA;\n",
              "      box-shadow: 0px 1px 2px rgba(60, 64, 67, 0.3), 0px 1px 3px 1px rgba(60, 64, 67, 0.15);\n",
              "      fill: #174EA6;\n",
              "    }\n",
              "\n",
              "    [theme=dark] .colab-df-convert {\n",
              "      background-color: #3B4455;\n",
              "      fill: #D2E3FC;\n",
              "    }\n",
              "\n",
              "    [theme=dark] .colab-df-convert:hover {\n",
              "      background-color: #434B5C;\n",
              "      box-shadow: 0px 1px 3px 1px rgba(0, 0, 0, 0.15);\n",
              "      filter: drop-shadow(0px 1px 2px rgba(0, 0, 0, 0.3));\n",
              "      fill: #FFFFFF;\n",
              "    }\n",
              "  </style>\n",
              "\n",
              "      <script>\n",
              "        const buttonEl =\n",
              "          document.querySelector('#df-d1f9d072-dd26-452f-bc5a-b597ab167f67 button.colab-df-convert');\n",
              "        buttonEl.style.display =\n",
              "          google.colab.kernel.accessAllowed ? 'block' : 'none';\n",
              "\n",
              "        async function convertToInteractive(key) {\n",
              "          const element = document.querySelector('#df-d1f9d072-dd26-452f-bc5a-b597ab167f67');\n",
              "          const dataTable =\n",
              "            await google.colab.kernel.invokeFunction('convertToInteractive',\n",
              "                                                     [key], {});\n",
              "          if (!dataTable) return;\n",
              "\n",
              "          const docLinkHtml = 'Like what you see? Visit the ' +\n",
              "            '<a target=\"_blank\" href=https://colab.research.google.com/notebooks/data_table.ipynb>data table notebook</a>'\n",
              "            + ' to learn more about interactive tables.';\n",
              "          element.innerHTML = '';\n",
              "          dataTable['output_type'] = 'display_data';\n",
              "          await google.colab.output.renderOutput(dataTable, element);\n",
              "          const docLink = document.createElement('div');\n",
              "          docLink.innerHTML = docLinkHtml;\n",
              "          element.appendChild(docLink);\n",
              "        }\n",
              "      </script>\n",
              "    </div>\n",
              "  </div>\n",
              "  "
            ]
          },
          "metadata": {},
          "execution_count": 24
        }
      ]
    },
    {
      "cell_type": "code",
      "source": [
        "#Plotting a candle chart for average numbernights people have prefered to stay for each room type in each neighbourhood group.\n",
        "df.groupby(['neighbourhood_group','room_type'])['minimum_nights'].mean().unstack().plot(kind=\"box\")\n",
        "plt.title('Minimum average number of nights people have stayed in neighbourhood group room type')\n",
        "plt.ylabel('Average number of nights')\n",
        "plt.xlabel('Types of rooms available')"
      ],
      "metadata": {
        "id": "FEB2Tue_uWNg",
        "colab": {
          "base_uri": "https://localhost:8080/",
          "height": 367
        },
        "outputId": "165a8444-c4b0-4ead-f9f6-060d300702fe"
      },
      "execution_count": null,
      "outputs": [
        {
          "output_type": "execute_result",
          "data": {
            "text/plain": [
              "Text(0.5, 0, 'Types of rooms available')"
            ]
          },
          "metadata": {},
          "execution_count": 25
        },
        {
          "output_type": "display_data",
          "data": {
            "text/plain": [
              "<Figure size 720x360 with 1 Axes>"
            ],
            "image/png": "[encoded data removed]"
          },
          "metadata": {
            "needs_background": "light"
          }
        }
      ]
    },
    {
      "cell_type": "markdown",
      "source": [
        "##### 1. Why did you pick the specific chart?"
      ],
      "metadata": {
        "id": "QeUEuNyyxL2v"
      }
    },
    {
      "cell_type": "markdown",
      "source": [
        "To check average number of nights people have stayed in each types of rooms in all the neighbourhood group "
      ],
      "metadata": {
        "id": "EKwZWw5d3mJg"
      }
    },
    {
      "cell_type": "markdown",
      "source": [
        "##### 2. What is/are the insight(s) found from the chart?"
      ],
      "metadata": {
        "id": "Y8cWEbiMxm-h"
      }
    },
    {
      "cell_type": "markdown",
      "source": [
        "1. In the shown candle graph, x-axis represents the types of rooms and y-axis represents the neighbourhood group.\n",
        "2. Manhattan have maximum average night stays overall."
      ],
      "metadata": {
        "id": "e321psoq4WP8"
      }
    },
    {
      "cell_type": "markdown",
      "source": [
        "##### 3. Will the gained insights help creating a positive business impact? "
      ],
      "metadata": {
        "id": "FCscqAFQyRe9"
      }
    },
    {
      "cell_type": "markdown",
      "source": [
        "Bookings can be done by seeing the insights of these datas."
      ],
      "metadata": {
        "id": "UknviZcf4eaI"
      }
    },
    {
      "cell_type": "markdown",
      "source": [
        "#### Chart - 9"
      ],
      "metadata": {
        "id": "Ci_Xzes7uc3i"
      }
    },
    {
      "cell_type": "markdown",
      "source": [
        "* What is the correlation in the given dataset Listings provided by AirBnB"
      ],
      "metadata": {
        "id": "QmxG1HEGeWZs"
      }
    },
    {
      "cell_type": "code",
      "source": [
        "#Extract the columns for which you need to get the correlations in the given dataset\n",
        "df_corr=df[['latitude','longitude','room_type','price','minimum_nights','number_of_reviews','last_review','reviews_per_month','calculated_host_listings_count','availability_365']]\n",
        "corr_df=df_corr.corr()\n",
        "corr_df"
      ],
      "metadata": {
        "id": "FlVwaDM9fQ-M",
        "colab": {
          "base_uri": "https://localhost:8080/",
          "height": 364
        },
        "outputId": "b90ce173-6d6d-4a7c-badb-e916b7d46ab8"
      },
      "execution_count": null,
      "outputs": [
        {
          "output_type": "execute_result",
          "data": {
            "text/plain": [
              "                                latitude  longitude     price  minimum_nights  \\\n",
              "latitude                        1.000000   0.084788  0.033939        0.024869   \n",
              "longitude                       0.084788   1.000000 -0.150019       -0.062747   \n",
              "price                           0.033939  -0.150019  1.000000        0.042799   \n",
              "minimum_nights                  0.024869  -0.062747  0.042799        1.000000   \n",
              "number_of_reviews              -0.015389   0.059094 -0.047954       -0.080116   \n",
              "reviews_per_month              -0.010142   0.145948 -0.030608       -0.121702   \n",
              "calculated_host_listings_count  0.019517  -0.114713  0.057472        0.127960   \n",
              "availability_365               -0.010983   0.082731  0.081829        0.144303   \n",
              "\n",
              "                                number_of_reviews  reviews_per_month  \\\n",
              "latitude                                -0.015389          -0.010142   \n",
              "longitude                                0.059094           0.145948   \n",
              "price                                   -0.047954          -0.030608   \n",
              "minimum_nights                          -0.080116          -0.121702   \n",
              "number_of_reviews                        1.000000           0.549868   \n",
              "reviews_per_month                        0.549868           1.000000   \n",
              "calculated_host_listings_count          -0.072376          -0.009421   \n",
              "availability_365                         0.172028           0.185791   \n",
              "\n",
              "                                calculated_host_listings_count  \\\n",
              "latitude                                              0.019517   \n",
              "longitude                                            -0.114713   \n",
              "price                                                 0.057472   \n",
              "minimum_nights                                        0.127960   \n",
              "number_of_reviews                                    -0.072376   \n",
              "reviews_per_month                                    -0.009421   \n",
              "calculated_host_listings_count                        1.000000   \n",
              "availability_365                                      0.225701   \n",
              "\n",
              "                                availability_365  \n",
              "latitude                               -0.010983  \n",
              "longitude                               0.082731  \n",
              "price                                   0.081829  \n",
              "minimum_nights                          0.144303  \n",
              "number_of_reviews                       0.172028  \n",
              "reviews_per_month                       0.185791  \n",
              "calculated_host_listings_count          0.225701  \n",
              "availability_365                        1.000000  "
            ],
            "text/html": [
              "\n",
              "  <div id=\"df-707dc520-4795-4fa7-bdd6-04ecf7f4d06c\">\n",
              "    <div class=\"colab-df-container\">\n",
              "      <div>\n",
              "<style scoped>\n",
              "    .dataframe tbody tr th:only-of-type {\n",
              "        vertical-align: middle;\n",
              "    }\n",
              "\n",
              "    .dataframe tbody tr th {\n",
              "        vertical-align: top;\n",
              "    }\n",
              "\n",
              "    .dataframe thead th {\n",
              "        text-align: right;\n",
              "    }\n",
              "</style>\n",
              "<table border=\"1\" class=\"dataframe\">\n",
              "  <thead>\n",
              "    <tr style=\"text-align: right;\">\n",
              "      <th></th>\n",
              "      <th>latitude</th>\n",
              "      <th>longitude</th>\n",
              "      <th>price</th>\n",
              "      <th>minimum_nights</th>\n",
              "      <th>number_of_reviews</th>\n",
              "      <th>reviews_per_month</th>\n",
              "      <th>calculated_host_listings_count</th>\n",
              "      <th>availability_365</th>\n",
              "    </tr>\n",
              "  </thead>\n",
              "  <tbody>\n",
              "    <tr>\n",
              "      <th>latitude</th>\n",
              "      <td>1.000000</td>\n",
              "      <td>0.084788</td>\n",
              "      <td>0.033939</td>\n",
              "      <td>0.024869</td>\n",
              "      <td>-0.015389</td>\n",
              "      <td>-0.010142</td>\n",
              "      <td>0.019517</td>\n",
              "      <td>-0.010983</td>\n",
              "    </tr>\n",
              "    <tr>\n",
              "      <th>longitude</th>\n",
              "      <td>0.084788</td>\n",
              "      <td>1.000000</td>\n",
              "      <td>-0.150019</td>\n",
              "      <td>-0.062747</td>\n",
              "      <td>0.059094</td>\n",
              "      <td>0.145948</td>\n",
              "      <td>-0.114713</td>\n",
              "      <td>0.082731</td>\n",
              "    </tr>\n",
              "    <tr>\n",
              "      <th>price</th>\n",
              "      <td>0.033939</td>\n",
              "      <td>-0.150019</td>\n",
              "      <td>1.000000</td>\n",
              "      <td>0.042799</td>\n",
              "      <td>-0.047954</td>\n",
              "      <td>-0.030608</td>\n",
              "      <td>0.057472</td>\n",
              "      <td>0.081829</td>\n",
              "    </tr>\n",
              "    <tr>\n",
              "      <th>minimum_nights</th>\n",
              "      <td>0.024869</td>\n",
              "      <td>-0.062747</td>\n",
              "      <td>0.042799</td>\n",
              "      <td>1.000000</td>\n",
              "      <td>-0.080116</td>\n",
              "      <td>-0.121702</td>\n",
              "      <td>0.127960</td>\n",
              "      <td>0.144303</td>\n",
              "    </tr>\n",
              "    <tr>\n",
              "      <th>number_of_reviews</th>\n",
              "      <td>-0.015389</td>\n",
              "      <td>0.059094</td>\n",
              "      <td>-0.047954</td>\n",
              "      <td>-0.080116</td>\n",
              "      <td>1.000000</td>\n",
              "      <td>0.549868</td>\n",
              "      <td>-0.072376</td>\n",
              "      <td>0.172028</td>\n",
              "    </tr>\n",
              "    <tr>\n",
              "      <th>reviews_per_month</th>\n",
              "      <td>-0.010142</td>\n",
              "      <td>0.145948</td>\n",
              "      <td>-0.030608</td>\n",
              "      <td>-0.121702</td>\n",
              "      <td>0.549868</td>\n",
              "      <td>1.000000</td>\n",
              "      <td>-0.009421</td>\n",
              "      <td>0.185791</td>\n",
              "    </tr>\n",
              "    <tr>\n",
              "      <th>calculated_host_listings_count</th>\n",
              "      <td>0.019517</td>\n",
              "      <td>-0.114713</td>\n",
              "      <td>0.057472</td>\n",
              "      <td>0.127960</td>\n",
              "      <td>-0.072376</td>\n",
              "      <td>-0.009421</td>\n",
              "      <td>1.000000</td>\n",
              "      <td>0.225701</td>\n",
              "    </tr>\n",
              "    <tr>\n",
              "      <th>availability_365</th>\n",
              "      <td>-0.010983</td>\n",
              "      <td>0.082731</td>\n",
              "      <td>0.081829</td>\n",
              "      <td>0.144303</td>\n",
              "      <td>0.172028</td>\n",
              "      <td>0.185791</td>\n",
              "      <td>0.225701</td>\n",
              "      <td>1.000000</td>\n",
              "    </tr>\n",
              "  </tbody>\n",
              "</table>\n",
              "</div>\n",
              "      <button class=\"colab-df-convert\" onclick=\"convertToInteractive('df-707dc520-4795-4fa7-bdd6-04ecf7f4d06c')\"\n",
              "              title=\"Convert this dataframe to an interactive table.\"\n",
              "              style=\"display:none;\">\n",
              "        \n",
              "  <svg xmlns=\"http://www.w3.org/2000/svg\" height=\"24px\"viewBox=\"0 0 24 24\"\n",
              "       width=\"24px\">\n",
              "    <path d=\"M0 0h24v24H0V0z\" fill=\"none\"/>\n",
              "    <path d=\"M18.56 5.44l.94 2.06.94-2.06 2.06-.94-2.06-.94-.94-2.06-.94 2.06-2.06.94zm-11 1L8.5 8.5l.94-2.06 2.06-.94-2.06-.94L8.5 2.5l-.94 2.06-2.06.94zm10 10l.94 2.06.94-2.06 2.06-.94-2.06-.94-.94-2.06-.94 2.06-2.06.94z\"/><path d=\"M17.41 7.96l-1.37-1.37c-.4-.4-.92-.59-1.43-.59-.52 0-1.04.2-1.43.59L10.3 9.45l-7.72 7.72c-.78.78-.78 2.05 0 2.83L4 21.41c.39.39.9.59 1.41.59.51 0 1.02-.2 1.41-.59l7.78-7.78 2.81-2.81c.8-.78.8-2.07 0-2.86zM5.41 20L4 18.59l7.72-7.72 1.47 1.35L5.41 20z\"/>\n",
              "  </svg>\n",
              "      </button>\n",
              "      \n",
              "  <style>\n",
              "    .colab-df-container {\n",
              "      display:flex;\n",
              "      flex-wrap:wrap;\n",
              "      gap: 12px;\n",
              "    }\n",
              "\n",
              "    .colab-df-convert {\n",
              "      background-color: #E8F0FE;\n",
              "      border: none;\n",
              "      border-radius: 50%;\n",
              "      cursor: pointer;\n",
              "      display: none;\n",
              "      fill: #1967D2;\n",
              "      height: 32px;\n",
              "      padding: 0 0 0 0;\n",
              "      width: 32px;\n",
              "    }\n",
              "\n",
              "    .colab-df-convert:hover {\n",
              "      background-color: #E2EBFA;\n",
              "      box-shadow: 0px 1px 2px rgba(60, 64, 67, 0.3), 0px 1px 3px 1px rgba(60, 64, 67, 0.15);\n",
              "      fill: #174EA6;\n",
              "    }\n",
              "\n",
              "    [theme=dark] .colab-df-convert {\n",
              "      background-color: #3B4455;\n",
              "      fill: #D2E3FC;\n",
              "    }\n",
              "\n",
              "    [theme=dark] .colab-df-convert:hover {\n",
              "      background-color: #434B5C;\n",
              "      box-shadow: 0px 1px 3px 1px rgba(0, 0, 0, 0.15);\n",
              "      filter: drop-shadow(0px 1px 2px rgba(0, 0, 0, 0.3));\n",
              "      fill: #FFFFFF;\n",
              "    }\n",
              "  </style>\n",
              "\n",
              "      <script>\n",
              "        const buttonEl =\n",
              "          document.querySelector('#df-707dc520-4795-4fa7-bdd6-04ecf7f4d06c button.colab-df-convert');\n",
              "        buttonEl.style.display =\n",
              "          google.colab.kernel.accessAllowed ? 'block' : 'none';\n",
              "\n",
              "        async function convertToInteractive(key) {\n",
              "          const element = document.querySelector('#df-707dc520-4795-4fa7-bdd6-04ecf7f4d06c');\n",
              "          const dataTable =\n",
              "            await google.colab.kernel.invokeFunction('convertToInteractive',\n",
              "                                                     [key], {});\n",
              "          if (!dataTable) return;\n",
              "\n",
              "          const docLinkHtml = 'Like what you see? Visit the ' +\n",
              "            '<a target=\"_blank\" href=https://colab.research.google.com/notebooks/data_table.ipynb>data table notebook</a>'\n",
              "            + ' to learn more about interactive tables.';\n",
              "          element.innerHTML = '';\n",
              "          dataTable['output_type'] = 'display_data';\n",
              "          await google.colab.output.renderOutput(dataTable, element);\n",
              "          const docLink = document.createElement('div');\n",
              "          docLink.innerHTML = docLinkHtml;\n",
              "          element.appendChild(docLink);\n",
              "        }\n",
              "      </script>\n",
              "    </div>\n",
              "  </div>\n",
              "  "
            ]
          },
          "metadata": {},
          "execution_count": 26
        }
      ]
    },
    {
      "cell_type": "code",
      "source": [
        "#Lets Plot the corelation between coloumns in AirBnB listings\n",
        "plt.figure(figsize=(10,5))\n",
        "sns.heatmap(corr_df,annot=True,cmap='BuGn')"
      ],
      "metadata": {
        "id": "0uj4YDETjYA8",
        "colab": {
          "base_uri": "https://localhost:8080/",
          "height": 483
        },
        "outputId": "556710c7-5abb-47d1-85d7-e1330967272a"
      },
      "execution_count": null,
      "outputs": [
        {
          "output_type": "execute_result",
          "data": {
            "text/plain": [
              "<matplotlib.axes._subplots.AxesSubplot at 0x7f5a1cd9a160>"
            ]
          },
          "metadata": {},
          "execution_count": 27
        },
        {
          "output_type": "display_data",
          "data": {
            "text/plain": [
              "<Figure size 720x360 with 2 Axes>"
            ],
            "image/png": "[encoded data removed]"
          },
          "metadata": {
            "needs_background": "light"
          }
        }
      ]
    },
    {
      "cell_type": "markdown",
      "source": [
        "##### 1. Why did you pick the specific chart?"
      ],
      "metadata": {
        "id": "DAdez-uqxNxY"
      }
    },
    {
      "cell_type": "markdown",
      "source": [
        "To check the coorelation between different datas in the dataset."
      ],
      "metadata": {
        "id": "7BLkdV-V4s2M"
      }
    },
    {
      "cell_type": "markdown",
      "source": [
        "##### 2. What is/are the insight(s) found from the chart?"
      ],
      "metadata": {
        "id": "QWeRbdH4xlBp"
      }
    },
    {
      "cell_type": "markdown",
      "source": [
        "The correlation shown are positive related correlation since most of datas lies on the positive side."
      ],
      "metadata": {
        "id": "JddXXdPz45Jw"
      }
    },
    {
      "cell_type": "markdown",
      "source": [
        "##### 3. Will the gained insights help creating a positive business impact? "
      ],
      "metadata": {
        "id": "OwuNV-HSyT4T"
      }
    },
    {
      "cell_type": "markdown",
      "source": [
        "It gives the insight if the coorelation is on a positive or negative side."
      ],
      "metadata": {
        "id": "RK10X0NC5OpZ"
      }
    },
    {
      "cell_type": "markdown",
      "source": [
        "#### Chart - 10"
      ],
      "metadata": {
        "id": "YTw2IY2luhFO"
      }
    },
    {
      "cell_type": "markdown",
      "source": [
        "* Plot the graph to show room type location of hotels according to their lattitude and longitude"
      ],
      "metadata": {
        "id": "k4sliq7snlon"
      }
    },
    {
      "cell_type": "code",
      "source": [
        "#checking the null values in latitude and longitude.\n",
        "df['latitude'].isnull().sum()\n",
        "df['longitude'].isnull().sum()"
      ],
      "metadata": {
        "id": "JRIi4nFgr6Bo",
        "colab": {
          "base_uri": "https://localhost:8080/"
        },
        "outputId": "0e8f09b8-983c-4dee-b19a-9c609af3bdb9"
      },
      "execution_count": null,
      "outputs": [
        {
          "output_type": "execute_result",
          "data": {
            "text/plain": [
              "0"
            ]
          },
          "metadata": {},
          "execution_count": 28
        }
      ]
    },
    {
      "cell_type": "code",
      "source": [
        "#Plotting a scatter plot using seaborne library for room types available at each lattitude and longitude.\n",
        "x=df.latitude\n",
        "y=df.longitude\n",
        "room_type_plot=df.room_type\n",
        "sns.set(rc={'figure.figsize':(15,8)})\n",
        "sns.scatterplot(x, y, room_type_plot)\n",
        "plt.title('A Plot for types of rooms available at different locations',fontsize=15)"
      ],
      "metadata": {
        "id": "pm6eceS8nkth",
        "colab": {
          "base_uri": "https://localhost:8080/",
          "height": 592
        },
        "outputId": "b0934403-1a65-4a1d-a674-1f9f7d56ab85"
      },
      "execution_count": null,
      "outputs": [
        {
          "output_type": "stream",
          "name": "stderr",
          "text": [
            "/usr/local/lib/python3.8/dist-packages/seaborn/_decorators.py:36: FutureWarning: Pass the following variables as keyword args: x, y, hue. From version 0.12, the only valid positional argument will be `data`, and passing other arguments without an explicit keyword will result in an error or misinterpretation.\n",
            "  warnings.warn(\n"
          ]
        },
        {
          "output_type": "execute_result",
          "data": {
            "text/plain": [
              "Text(0.5, 1.0, 'A Plot for types of rooms available at different locations')"
            ]
          },
          "metadata": {},
          "execution_count": 29
        },
        {
          "output_type": "display_data",
          "data": {
            "text/plain": [
              "<Figure size 1080x576 with 1 Axes>"
            ],
            "image/png": "[encoded data removed]"
          },
          "metadata": {}
        }
      ]
    },
    {
      "cell_type": "markdown",
      "source": [
        "##### 1. Why did you pick the specific chart?"
      ],
      "metadata": {
        "id": "SZBwd1RTxQMk"
      }
    },
    {
      "cell_type": "markdown",
      "source": [
        "To see how the rooms are scattered along the map."
      ],
      "metadata": {
        "id": "ucPq1zLY5ipo"
      }
    },
    {
      "cell_type": "markdown",
      "source": [
        "##### 2. What is/are the insight(s) found from the chart?"
      ],
      "metadata": {
        "id": "pQsQisCIxjBh"
      }
    },
    {
      "cell_type": "markdown",
      "source": [
        "1. In the graph shown, x-axis represent latitude and y-axis represents longitude.  \n",
        "2.  From the graph, the insights we got is that shared rooms are less used than private and entire rooms. "
      ],
      "metadata": {
        "id": "_QbuqzS45sCt"
      }
    },
    {
      "cell_type": "markdown",
      "source": [
        "##### 3. Will the gained insights help creating a positive business impact? "
      ],
      "metadata": {
        "id": "ufE6Yz3iyWfC"
      }
    },
    {
      "cell_type": "markdown",
      "source": [
        "A good insights to check where the properties are located fromeach other according to the room type."
      ],
      "metadata": {
        "id": "K4SXxSr151dD"
      }
    },
    {
      "cell_type": "code",
      "source": [
        "for i in df:\n",
        "  print(i)"
      ],
      "metadata": {
        "id": "eiFlgQ8upoMX",
        "colab": {
          "base_uri": "https://localhost:8080/"
        },
        "outputId": "ea6d9847-93f2-44b4-eee7-fd8a6373d281"
      },
      "execution_count": null,
      "outputs": [
        {
          "output_type": "stream",
          "name": "stdout",
          "text": [
            "id\n",
            "name\n",
            "host_id\n",
            "host_name\n",
            "neighbourhood_group\n",
            "neighbourhood\n",
            "latitude\n",
            "longitude\n",
            "room_type\n",
            "price\n",
            "minimum_nights\n",
            "number_of_reviews\n",
            "last_review\n",
            "reviews_per_month\n",
            "calculated_host_listings_count\n",
            "availability_365\n"
          ]
        }
      ]
    },
    {
      "cell_type": "markdown",
      "source": [
        "### Dataset Rows & Columns count"
      ],
      "metadata": {
        "id": "7hBIi_osiCS2"
      }
    },
    {
      "cell_type": "code",
      "source": [
        "# Dataset Rows & Columns count\n",
        "df.shape"
      ],
      "metadata": {
        "id": "Kllu7SJgmLij",
        "colab": {
          "base_uri": "https://localhost:8080/"
        },
        "outputId": "9b7ac934-d9e2-46b6-cc03-df4ef343812d"
      },
      "execution_count": null,
      "outputs": [
        {
          "output_type": "execute_result",
          "data": {
            "text/plain": [
              "(48895, 16)"
            ]
          },
          "metadata": {},
          "execution_count": 31
        }
      ]
    },
    {
      "cell_type": "markdown",
      "source": [
        "### Dataset Information"
      ],
      "metadata": {
        "id": "JlHwYmJAmNHm"
      }
    },
    {
      "cell_type": "code",
      "source": [
        "# Dataset Info\n",
        "df.info()"
      ],
      "metadata": {
        "id": "e9hRXRi6meOf",
        "colab": {
          "base_uri": "https://localhost:8080/"
        },
        "outputId": "8afa1235-891b-4aa5-e426-ba4b5f41c5f8"
      },
      "execution_count": null,
      "outputs": [
        {
          "output_type": "stream",
          "name": "stdout",
          "text": [
            "<class 'pandas.core.frame.DataFrame'>\n",
            "RangeIndex: 48895 entries, 0 to 48894\n",
            "Data columns (total 16 columns):\n",
            " #   Column                          Non-Null Count  Dtype  \n",
            "---  ------                          --------------  -----  \n",
            " 0   id                              48895 non-null  int64  \n",
            " 1   name                            48879 non-null  object \n",
            " 2   host_id                         48895 non-null  int64  \n",
            " 3   host_name                       48874 non-null  object \n",
            " 4   neighbourhood_group             48895 non-null  object \n",
            " 5   neighbourhood                   48895 non-null  object \n",
            " 6   latitude                        48895 non-null  float64\n",
            " 7   longitude                       48895 non-null  float64\n",
            " 8   room_type                       48895 non-null  object \n",
            " 9   price                           48895 non-null  int64  \n",
            " 10  minimum_nights                  48895 non-null  int64  \n",
            " 11  number_of_reviews               48895 non-null  int64  \n",
            " 12  last_review                     38843 non-null  object \n",
            " 13  reviews_per_month               38843 non-null  float64\n",
            " 14  calculated_host_listings_count  48895 non-null  int64  \n",
            " 15  availability_365                48895 non-null  int64  \n",
            "dtypes: float64(3), int64(7), object(6)\n",
            "memory usage: 6.0+ MB\n"
          ]
        }
      ]
    },
    {
      "cell_type": "markdown",
      "source": [
        "#### Duplicate Values"
      ],
      "metadata": {
        "id": "35m5QtbWiB9F"
      }
    },
    {
      "cell_type": "code",
      "source": [
        "# Dataset Duplicate Value Count\n",
        "dupe_price=df['price'].duplicated().sum()\n",
        "dupe_room_type=df['room_type'].duplicated().sum()\n",
        "check_null_count_dupe_values=[dupe_price,dupe_room_type,df.shape]\n",
        "check_null_count_dupe_values #3 datas are unique regarding which the values are checked upon"
      ],
      "metadata": {
        "id": "1sLdpKYkmox0",
        "colab": {
          "base_uri": "https://localhost:8080/"
        },
        "outputId": "a500e49f-25c2-41da-e9cb-d58ac856eff1"
      },
      "execution_count": null,
      "outputs": [
        {
          "output_type": "execute_result",
          "data": {
            "text/plain": [
              "[48221, 48892, (48895, 16)]"
            ]
          },
          "metadata": {},
          "execution_count": 33
        }
      ]
    },
    {
      "cell_type": "markdown",
      "source": [
        "#### Missing Values/Null Values"
      ],
      "metadata": {
        "id": "PoPl-ycgm1ru"
      }
    },
    {
      "cell_type": "code",
      "source": [
        "# Missing Values/Null Values Count\n",
        "null_sum_df=df.isnull().sum()\n",
        "null_sum_df"
      ],
      "metadata": {
        "id": "GgHWkxvamxVg",
        "colab": {
          "base_uri": "https://localhost:8080/"
        },
        "outputId": "714ee133-ab6c-4ff0-8a77-83e28945529d"
      },
      "execution_count": null,
      "outputs": [
        {
          "output_type": "execute_result",
          "data": {
            "text/plain": [
              "id                                    0\n",
              "name                                 16\n",
              "host_id                               0\n",
              "host_name                            21\n",
              "neighbourhood_group                   0\n",
              "neighbourhood                         0\n",
              "latitude                              0\n",
              "longitude                             0\n",
              "room_type                             0\n",
              "price                                 0\n",
              "minimum_nights                        0\n",
              "number_of_reviews                     0\n",
              "last_review                       10052\n",
              "reviews_per_month                 10052\n",
              "calculated_host_listings_count        0\n",
              "availability_365                      0\n",
              "dtype: int64"
            ]
          },
          "metadata": {},
          "execution_count": 34
        }
      ]
    },
    {
      "cell_type": "code",
      "source": [
        "# Visualizing the missing values\n",
        "data_visualization=df[df.isnull()]\n",
        "data_visualization"
      ],
      "metadata": {
        "id": "3q5wnI3om9sJ",
        "colab": {
          "base_uri": "https://localhost:8080/"
        },
        "outputId": "da2b5500-10af-4a1e-96c7-151119deefdd"
      },
      "execution_count": null,
      "outputs": [
        {
          "output_type": "execute_result",
          "data": {
            "text/plain": [
              "       id name  host_id host_name neighbourhood_group neighbourhood  latitude  \\\n",
              "0     NaN  NaN      NaN       NaN                 NaN           NaN       NaN   \n",
              "1     NaN  NaN      NaN       NaN                 NaN           NaN       NaN   \n",
              "2     NaN  NaN      NaN       NaN                 NaN           NaN       NaN   \n",
              "3     NaN  NaN      NaN       NaN                 NaN           NaN       NaN   \n",
              "4     NaN  NaN      NaN       NaN                 NaN           NaN       NaN   \n",
              "...    ..  ...      ...       ...                 ...           ...       ...   \n",
              "48890 NaN  NaN      NaN       NaN                 NaN           NaN       NaN   \n",
              "48891 NaN  NaN      NaN       NaN                 NaN           NaN       NaN   \n",
              "48892 NaN  NaN      NaN       NaN                 NaN           NaN       NaN   \n",
              "48893 NaN  NaN      NaN       NaN                 NaN           NaN       NaN   \n",
              "48894 NaN  NaN      NaN       NaN                 NaN           NaN       NaN   \n",
              "\n",
              "       longitude room_type  price  minimum_nights  number_of_reviews  \\\n",
              "0            NaN       NaN    NaN             NaN                NaN   \n",
              "1            NaN       NaN    NaN             NaN                NaN   \n",
              "2            NaN       NaN    NaN             NaN                NaN   \n",
              "3            NaN       NaN    NaN             NaN                NaN   \n",
              "4            NaN       NaN    NaN             NaN                NaN   \n",
              "...          ...       ...    ...             ...                ...   \n",
              "48890        NaN       NaN    NaN             NaN                NaN   \n",
              "48891        NaN       NaN    NaN             NaN                NaN   \n",
              "48892        NaN       NaN    NaN             NaN                NaN   \n",
              "48893        NaN       NaN    NaN             NaN                NaN   \n",
              "48894        NaN       NaN    NaN             NaN                NaN   \n",
              "\n",
              "      last_review  reviews_per_month  calculated_host_listings_count  \\\n",
              "0             NaN                NaN                             NaN   \n",
              "1             NaN                NaN                             NaN   \n",
              "2             NaN                NaN                             NaN   \n",
              "3             NaN                NaN                             NaN   \n",
              "4             NaN                NaN                             NaN   \n",
              "...           ...                ...                             ...   \n",
              "48890         NaN                NaN                             NaN   \n",
              "48891         NaN                NaN                             NaN   \n",
              "48892         NaN                NaN                             NaN   \n",
              "48893         NaN                NaN                             NaN   \n",
              "48894         NaN                NaN                             NaN   \n",
              "\n",
              "       availability_365  \n",
              "0                   NaN  \n",
              "1                   NaN  \n",
              "2                   NaN  \n",
              "3                   NaN  \n",
              "4                   NaN  \n",
              "...                 ...  \n",
              "48890               NaN  \n",
              "48891               NaN  \n",
              "48892               NaN  \n",
              "48893               NaN  \n",
              "48894               NaN  \n",
              "\n",
              "[48895 rows x 16 columns]"
            ],
            "text/html": [
              "\n",
              "  <div id=\"df-c925bc83-f69c-47ee-ab99-13f9b710a7ff\">\n",
              "    <div class=\"colab-df-container\">\n",
              "      <div>\n",
              "<style scoped>\n",
              "    .dataframe tbody tr th:only-of-type {\n",
              "        vertical-align: middle;\n",
              "    }\n",
              "\n",
              "    .dataframe tbody tr th {\n",
              "        vertical-align: top;\n",
              "    }\n",
              "\n",
              "    .dataframe thead th {\n",
              "        text-align: right;\n",
              "    }\n",
              "</style>\n",
              "<table border=\"1\" class=\"dataframe\">\n",
              "  <thead>\n",
              "    <tr style=\"text-align: right;\">\n",
              "      <th></th>\n",
              "      <th>id</th>\n",
              "      <th>name</th>\n",
              "      <th>host_id</th>\n",
              "      <th>host_name</th>\n",
              "      <th>neighbourhood_group</th>\n",
              "      <th>neighbourhood</th>\n",
              "      <th>latitude</th>\n",
              "      <th>longitude</th>\n",
              "      <th>room_type</th>\n",
              "      <th>price</th>\n",
              "      <th>minimum_nights</th>\n",
              "      <th>number_of_reviews</th>\n",
              "      <th>last_review</th>\n",
              "      <th>reviews_per_month</th>\n",
              "      <th>calculated_host_listings_count</th>\n",
              "      <th>availability_365</th>\n",
              "    </tr>\n",
              "  </thead>\n",
              "  <tbody>\n",
              "    <tr>\n",
              "      <th>0</th>\n",
              "      <td>NaN</td>\n",
              "      <td>NaN</td>\n",
              "      <td>NaN</td>\n",
              "      <td>NaN</td>\n",
              "      <td>NaN</td>\n",
              "      <td>NaN</td>\n",
              "      <td>NaN</td>\n",
              "      <td>NaN</td>\n",
              "      <td>NaN</td>\n",
              "      <td>NaN</td>\n",
              "      <td>NaN</td>\n",
              "      <td>NaN</td>\n",
              "      <td>NaN</td>\n",
              "      <td>NaN</td>\n",
              "      <td>NaN</td>\n",
              "      <td>NaN</td>\n",
              "    </tr>\n",
              "    <tr>\n",
              "      <th>1</th>\n",
              "      <td>NaN</td>\n",
              "      <td>NaN</td>\n",
              "      <td>NaN</td>\n",
              "      <td>NaN</td>\n",
              "      <td>NaN</td>\n",
              "      <td>NaN</td>\n",
              "      <td>NaN</td>\n",
              "      <td>NaN</td>\n",
              "      <td>NaN</td>\n",
              "      <td>NaN</td>\n",
              "      <td>NaN</td>\n",
              "      <td>NaN</td>\n",
              "      <td>NaN</td>\n",
              "      <td>NaN</td>\n",
              "      <td>NaN</td>\n",
              "      <td>NaN</td>\n",
              "    </tr>\n",
              "    <tr>\n",
              "      <th>2</th>\n",
              "      <td>NaN</td>\n",
              "      <td>NaN</td>\n",
              "      <td>NaN</td>\n",
              "      <td>NaN</td>\n",
              "      <td>NaN</td>\n",
              "      <td>NaN</td>\n",
              "      <td>NaN</td>\n",
              "      <td>NaN</td>\n",
              "      <td>NaN</td>\n",
              "      <td>NaN</td>\n",
              "      <td>NaN</td>\n",
              "      <td>NaN</td>\n",
              "      <td>NaN</td>\n",
              "      <td>NaN</td>\n",
              "      <td>NaN</td>\n",
              "      <td>NaN</td>\n",
              "    </tr>\n",
              "    <tr>\n",
              "      <th>3</th>\n",
              "      <td>NaN</td>\n",
              "      <td>NaN</td>\n",
              "      <td>NaN</td>\n",
              "      <td>NaN</td>\n",
              "      <td>NaN</td>\n",
              "      <td>NaN</td>\n",
              "      <td>NaN</td>\n",
              "      <td>NaN</td>\n",
              "      <td>NaN</td>\n",
              "      <td>NaN</td>\n",
              "      <td>NaN</td>\n",
              "      <td>NaN</td>\n",
              "      <td>NaN</td>\n",
              "      <td>NaN</td>\n",
              "      <td>NaN</td>\n",
              "      <td>NaN</td>\n",
              "    </tr>\n",
              "    <tr>\n",
              "      <th>4</th>\n",
              "      <td>NaN</td>\n",
              "      <td>NaN</td>\n",
              "      <td>NaN</td>\n",
              "      <td>NaN</td>\n",
              "      <td>NaN</td>\n",
              "      <td>NaN</td>\n",
              "      <td>NaN</td>\n",
              "      <td>NaN</td>\n",
              "      <td>NaN</td>\n",
              "      <td>NaN</td>\n",
              "      <td>NaN</td>\n",
              "      <td>NaN</td>\n",
              "      <td>NaN</td>\n",
              "      <td>NaN</td>\n",
              "      <td>NaN</td>\n",
              "      <td>NaN</td>\n",
              "    </tr>\n",
              "    <tr>\n",
              "      <th>...</th>\n",
              "      <td>...</td>\n",
              "      <td>...</td>\n",
              "      <td>...</td>\n",
              "      <td>...</td>\n",
              "      <td>...</td>\n",
              "      <td>...</td>\n",
              "      <td>...</td>\n",
              "      <td>...</td>\n",
              "      <td>...</td>\n",
              "      <td>...</td>\n",
              "      <td>...</td>\n",
              "      <td>...</td>\n",
              "      <td>...</td>\n",
              "      <td>...</td>\n",
              "      <td>...</td>\n",
              "      <td>...</td>\n",
              "    </tr>\n",
              "    <tr>\n",
              "      <th>48890</th>\n",
              "      <td>NaN</td>\n",
              "      <td>NaN</td>\n",
              "      <td>NaN</td>\n",
              "      <td>NaN</td>\n",
              "      <td>NaN</td>\n",
              "      <td>NaN</td>\n",
              "      <td>NaN</td>\n",
              "      <td>NaN</td>\n",
              "      <td>NaN</td>\n",
              "      <td>NaN</td>\n",
              "      <td>NaN</td>\n",
              "      <td>NaN</td>\n",
              "      <td>NaN</td>\n",
              "      <td>NaN</td>\n",
              "      <td>NaN</td>\n",
              "      <td>NaN</td>\n",
              "    </tr>\n",
              "    <tr>\n",
              "      <th>48891</th>\n",
              "      <td>NaN</td>\n",
              "      <td>NaN</td>\n",
              "      <td>NaN</td>\n",
              "      <td>NaN</td>\n",
              "      <td>NaN</td>\n",
              "      <td>NaN</td>\n",
              "      <td>NaN</td>\n",
              "      <td>NaN</td>\n",
              "      <td>NaN</td>\n",
              "      <td>NaN</td>\n",
              "      <td>NaN</td>\n",
              "      <td>NaN</td>\n",
              "      <td>NaN</td>\n",
              "      <td>NaN</td>\n",
              "      <td>NaN</td>\n",
              "      <td>NaN</td>\n",
              "    </tr>\n",
              "    <tr>\n",
              "      <th>48892</th>\n",
              "      <td>NaN</td>\n",
              "      <td>NaN</td>\n",
              "      <td>NaN</td>\n",
              "      <td>NaN</td>\n",
              "      <td>NaN</td>\n",
              "      <td>NaN</td>\n",
              "      <td>NaN</td>\n",
              "      <td>NaN</td>\n",
              "      <td>NaN</td>\n",
              "      <td>NaN</td>\n",
              "      <td>NaN</td>\n",
              "      <td>NaN</td>\n",
              "      <td>NaN</td>\n",
              "      <td>NaN</td>\n",
              "      <td>NaN</td>\n",
              "      <td>NaN</td>\n",
              "    </tr>\n",
              "    <tr>\n",
              "      <th>48893</th>\n",
              "      <td>NaN</td>\n",
              "      <td>NaN</td>\n",
              "      <td>NaN</td>\n",
              "      <td>NaN</td>\n",
              "      <td>NaN</td>\n",
              "      <td>NaN</td>\n",
              "      <td>NaN</td>\n",
              "      <td>NaN</td>\n",
              "      <td>NaN</td>\n",
              "      <td>NaN</td>\n",
              "      <td>NaN</td>\n",
              "      <td>NaN</td>\n",
              "      <td>NaN</td>\n",
              "      <td>NaN</td>\n",
              "      <td>NaN</td>\n",
              "      <td>NaN</td>\n",
              "    </tr>\n",
              "    <tr>\n",
              "      <th>48894</th>\n",
              "      <td>NaN</td>\n",
              "      <td>NaN</td>\n",
              "      <td>NaN</td>\n",
              "      <td>NaN</td>\n",
              "      <td>NaN</td>\n",
              "      <td>NaN</td>\n",
              "      <td>NaN</td>\n",
              "      <td>NaN</td>\n",
              "      <td>NaN</td>\n",
              "      <td>NaN</td>\n",
              "      <td>NaN</td>\n",
              "      <td>NaN</td>\n",
              "      <td>NaN</td>\n",
              "      <td>NaN</td>\n",
              "      <td>NaN</td>\n",
              "      <td>NaN</td>\n",
              "    </tr>\n",
              "  </tbody>\n",
              "</table>\n",
              "<p>48895 rows × 16 columns</p>\n",
              "</div>\n",
              "      <button class=\"colab-df-convert\" onclick=\"convertToInteractive('df-c925bc83-f69c-47ee-ab99-13f9b710a7ff')\"\n",
              "              title=\"Convert this dataframe to an interactive table.\"\n",
              "              style=\"display:none;\">\n",
              "        \n",
              "  <svg xmlns=\"http://www.w3.org/2000/svg\" height=\"24px\"viewBox=\"0 0 24 24\"\n",
              "       width=\"24px\">\n",
              "    <path d=\"M0 0h24v24H0V0z\" fill=\"none\"/>\n",
              "    <path d=\"M18.56 5.44l.94 2.06.94-2.06 2.06-.94-2.06-.94-.94-2.06-.94 2.06-2.06.94zm-11 1L8.5 8.5l.94-2.06 2.06-.94-2.06-.94L8.5 2.5l-.94 2.06-2.06.94zm10 10l.94 2.06.94-2.06 2.06-.94-2.06-.94-.94-2.06-.94 2.06-2.06.94z\"/><path d=\"M17.41 7.96l-1.37-1.37c-.4-.4-.92-.59-1.43-.59-.52 0-1.04.2-1.43.59L10.3 9.45l-7.72 7.72c-.78.78-.78 2.05 0 2.83L4 21.41c.39.39.9.59 1.41.59.51 0 1.02-.2 1.41-.59l7.78-7.78 2.81-2.81c.8-.78.8-2.07 0-2.86zM5.41 20L4 18.59l7.72-7.72 1.47 1.35L5.41 20z\"/>\n",
              "  </svg>\n",
              "      </button>\n",
              "      \n",
              "  <style>\n",
              "    .colab-df-container {\n",
              "      display:flex;\n",
              "      flex-wrap:wrap;\n",
              "      gap: 12px;\n",
              "    }\n",
              "\n",
              "    .colab-df-convert {\n",
              "      background-color: #E8F0FE;\n",
              "      border: none;\n",
              "      border-radius: 50%;\n",
              "      cursor: pointer;\n",
              "      display: none;\n",
              "      fill: #1967D2;\n",
              "      height: 32px;\n",
              "      padding: 0 0 0 0;\n",
              "      width: 32px;\n",
              "    }\n",
              "\n",
              "    .colab-df-convert:hover {\n",
              "      background-color: #E2EBFA;\n",
              "      box-shadow: 0px 1px 2px rgba(60, 64, 67, 0.3), 0px 1px 3px 1px rgba(60, 64, 67, 0.15);\n",
              "      fill: #174EA6;\n",
              "    }\n",
              "\n",
              "    [theme=dark] .colab-df-convert {\n",
              "      background-color: #3B4455;\n",
              "      fill: #D2E3FC;\n",
              "    }\n",
              "\n",
              "    [theme=dark] .colab-df-convert:hover {\n",
              "      background-color: #434B5C;\n",
              "      box-shadow: 0px 1px 3px 1px rgba(0, 0, 0, 0.15);\n",
              "      filter: drop-shadow(0px 1px 2px rgba(0, 0, 0, 0.3));\n",
              "      fill: #FFFFFF;\n",
              "    }\n",
              "  </style>\n",
              "\n",
              "      <script>\n",
              "        const buttonEl =\n",
              "          document.querySelector('#df-c925bc83-f69c-47ee-ab99-13f9b710a7ff button.colab-df-convert');\n",
              "        buttonEl.style.display =\n",
              "          google.colab.kernel.accessAllowed ? 'block' : 'none';\n",
              "\n",
              "        async function convertToInteractive(key) {\n",
              "          const element = document.querySelector('#df-c925bc83-f69c-47ee-ab99-13f9b710a7ff');\n",
              "          const dataTable =\n",
              "            await google.colab.kernel.invokeFunction('convertToInteractive',\n",
              "                                                     [key], {});\n",
              "          if (!dataTable) return;\n",
              "\n",
              "          const docLinkHtml = 'Like what you see? Visit the ' +\n",
              "            '<a target=\"_blank\" href=https://colab.research.google.com/notebooks/data_table.ipynb>data table notebook</a>'\n",
              "            + ' to learn more about interactive tables.';\n",
              "          element.innerHTML = '';\n",
              "          dataTable['output_type'] = 'display_data';\n",
              "          await google.colab.output.renderOutput(dataTable, element);\n",
              "          const docLink = document.createElement('div');\n",
              "          docLink.innerHTML = docLinkHtml;\n",
              "          element.appendChild(docLink);\n",
              "        }\n",
              "      </script>\n",
              "    </div>\n",
              "  </div>\n",
              "  "
            ]
          },
          "metadata": {},
          "execution_count": 35
        }
      ]
    },
    {
      "cell_type": "code",
      "source": [
        "\n",
        "data_visualization_modify=df[~df.isnull()]\n",
        "data_visualization_modify"
      ],
      "metadata": {
        "colab": {
          "base_uri": "https://localhost:8080/"
        },
        "id": "30I336Qmm-ka",
        "outputId": "e0259244-8065-4d8b-97c6-b4b8a872c90c"
      },
      "execution_count": null,
      "outputs": [
        {
          "output_type": "execute_result",
          "data": {
            "text/plain": [
              "             id                                               name   host_id  \\\n",
              "0          2539                 Clean & quiet apt home by the park      2787   \n",
              "1          2595                              Skylit Midtown Castle      2845   \n",
              "2          3647                THE VILLAGE OF HARLEM....NEW YORK !      4632   \n",
              "3          3831                    Cozy Entire Floor of Brownstone      4869   \n",
              "4          5022   Entire Apt: Spacious Studio/Loft by central park      7192   \n",
              "...         ...                                                ...       ...   \n",
              "48890  36484665    Charming one bedroom - newly renovated rowhouse   8232441   \n",
              "48891  36485057      Affordable room in Bushwick/East Williamsburg   6570630   \n",
              "48892  36485431            Sunny Studio at Historical Neighborhood  23492952   \n",
              "48893  36485609               43rd St. Time Square-cozy single bed  30985759   \n",
              "48894  36487245  Trendy duplex in the very heart of Hell's Kitchen  68119814   \n",
              "\n",
              "           host_name neighbourhood_group       neighbourhood  latitude  \\\n",
              "0               John            Brooklyn          Kensington  40.64749   \n",
              "1           Jennifer           Manhattan             Midtown  40.75362   \n",
              "2          Elisabeth           Manhattan              Harlem  40.80902   \n",
              "3        LisaRoxanne            Brooklyn        Clinton Hill  40.68514   \n",
              "4              Laura           Manhattan         East Harlem  40.79851   \n",
              "...              ...                 ...                 ...       ...   \n",
              "48890        Sabrina            Brooklyn  Bedford-Stuyvesant  40.67853   \n",
              "48891        Marisol            Brooklyn            Bushwick  40.70184   \n",
              "48892  Ilgar & Aysel           Manhattan              Harlem  40.81475   \n",
              "48893            Taz           Manhattan      Hell's Kitchen  40.75751   \n",
              "48894     Christophe           Manhattan      Hell's Kitchen  40.76404   \n",
              "\n",
              "       longitude        room_type  price  minimum_nights  number_of_reviews  \\\n",
              "0      -73.97237     Private room    149               1                  9   \n",
              "1      -73.98377  Entire home/apt    225               1                 45   \n",
              "2      -73.94190     Private room    150               3                  0   \n",
              "3      -73.95976  Entire home/apt     89               1                270   \n",
              "4      -73.94399  Entire home/apt     80              10                  9   \n",
              "...          ...              ...    ...             ...                ...   \n",
              "48890  -73.94995     Private room     70               2                  0   \n",
              "48891  -73.93317     Private room     40               4                  0   \n",
              "48892  -73.94867  Entire home/apt    115              10                  0   \n",
              "48893  -73.99112      Shared room     55               1                  0   \n",
              "48894  -73.98933     Private room     90               7                  0   \n",
              "\n",
              "      last_review  reviews_per_month  calculated_host_listings_count  \\\n",
              "0      2018-10-19               0.21                               6   \n",
              "1      2019-05-21               0.38                               2   \n",
              "2             NaN                NaN                               1   \n",
              "3      2019-07-05               4.64                               1   \n",
              "4      2018-11-19               0.10                               1   \n",
              "...           ...                ...                             ...   \n",
              "48890         NaN                NaN                               2   \n",
              "48891         NaN                NaN                               2   \n",
              "48892         NaN                NaN                               1   \n",
              "48893         NaN                NaN                               6   \n",
              "48894         NaN                NaN                               1   \n",
              "\n",
              "       availability_365  \n",
              "0                   365  \n",
              "1                   355  \n",
              "2                   365  \n",
              "3                   194  \n",
              "4                     0  \n",
              "...                 ...  \n",
              "48890                 9  \n",
              "48891                36  \n",
              "48892                27  \n",
              "48893                 2  \n",
              "48894                23  \n",
              "\n",
              "[48895 rows x 16 columns]"
            ],
            "text/html": [
              "\n",
              "  <div id=\"df-346e795a-5c6c-40c9-84a7-e974c6679288\">\n",
              "    <div class=\"colab-df-container\">\n",
              "      <div>\n",
              "<style scoped>\n",
              "    .dataframe tbody tr th:only-of-type {\n",
              "        vertical-align: middle;\n",
              "    }\n",
              "\n",
              "    .dataframe tbody tr th {\n",
              "        vertical-align: top;\n",
              "    }\n",
              "\n",
              "    .dataframe thead th {\n",
              "        text-align: right;\n",
              "    }\n",
              "</style>\n",
              "<table border=\"1\" class=\"dataframe\">\n",
              "  <thead>\n",
              "    <tr style=\"text-align: right;\">\n",
              "      <th></th>\n",
              "      <th>id</th>\n",
              "      <th>name</th>\n",
              "      <th>host_id</th>\n",
              "      <th>host_name</th>\n",
              "      <th>neighbourhood_group</th>\n",
              "      <th>neighbourhood</th>\n",
              "      <th>latitude</th>\n",
              "      <th>longitude</th>\n",
              "      <th>room_type</th>\n",
              "      <th>price</th>\n",
              "      <th>minimum_nights</th>\n",
              "      <th>number_of_reviews</th>\n",
              "      <th>last_review</th>\n",
              "      <th>reviews_per_month</th>\n",
              "      <th>calculated_host_listings_count</th>\n",
              "      <th>availability_365</th>\n",
              "    </tr>\n",
              "  </thead>\n",
              "  <tbody>\n",
              "    <tr>\n",
              "      <th>0</th>\n",
              "      <td>2539</td>\n",
              "      <td>Clean &amp; quiet apt home by the park</td>\n",
              "      <td>2787</td>\n",
              "      <td>John</td>\n",
              "      <td>Brooklyn</td>\n",
              "      <td>Kensington</td>\n",
              "      <td>40.64749</td>\n",
              "      <td>-73.97237</td>\n",
              "      <td>Private room</td>\n",
              "      <td>149</td>\n",
              "      <td>1</td>\n",
              "      <td>9</td>\n",
              "      <td>2018-10-19</td>\n",
              "      <td>0.21</td>\n",
              "      <td>6</td>\n",
              "      <td>365</td>\n",
              "    </tr>\n",
              "    <tr>\n",
              "      <th>1</th>\n",
              "      <td>2595</td>\n",
              "      <td>Skylit Midtown Castle</td>\n",
              "      <td>2845</td>\n",
              "      <td>Jennifer</td>\n",
              "      <td>Manhattan</td>\n",
              "      <td>Midtown</td>\n",
              "      <td>40.75362</td>\n",
              "      <td>-73.98377</td>\n",
              "      <td>Entire home/apt</td>\n",
              "      <td>225</td>\n",
              "      <td>1</td>\n",
              "      <td>45</td>\n",
              "      <td>2019-05-21</td>\n",
              "      <td>0.38</td>\n",
              "      <td>2</td>\n",
              "      <td>355</td>\n",
              "    </tr>\n",
              "    <tr>\n",
              "      <th>2</th>\n",
              "      <td>3647</td>\n",
              "      <td>THE VILLAGE OF HARLEM....NEW YORK !</td>\n",
              "      <td>4632</td>\n",
              "      <td>Elisabeth</td>\n",
              "      <td>Manhattan</td>\n",
              "      <td>Harlem</td>\n",
              "      <td>40.80902</td>\n",
              "      <td>-73.94190</td>\n",
              "      <td>Private room</td>\n",
              "      <td>150</td>\n",
              "      <td>3</td>\n",
              "      <td>0</td>\n",
              "      <td>NaN</td>\n",
              "      <td>NaN</td>\n",
              "      <td>1</td>\n",
              "      <td>365</td>\n",
              "    </tr>\n",
              "    <tr>\n",
              "      <th>3</th>\n",
              "      <td>3831</td>\n",
              "      <td>Cozy Entire Floor of Brownstone</td>\n",
              "      <td>4869</td>\n",
              "      <td>LisaRoxanne</td>\n",
              "      <td>Brooklyn</td>\n",
              "      <td>Clinton Hill</td>\n",
              "      <td>40.68514</td>\n",
              "      <td>-73.95976</td>\n",
              "      <td>Entire home/apt</td>\n",
              "      <td>89</td>\n",
              "      <td>1</td>\n",
              "      <td>270</td>\n",
              "      <td>2019-07-05</td>\n",
              "      <td>4.64</td>\n",
              "      <td>1</td>\n",
              "      <td>194</td>\n",
              "    </tr>\n",
              "    <tr>\n",
              "      <th>4</th>\n",
              "      <td>5022</td>\n",
              "      <td>Entire Apt: Spacious Studio/Loft by central park</td>\n",
              "      <td>7192</td>\n",
              "      <td>Laura</td>\n",
              "      <td>Manhattan</td>\n",
              "      <td>East Harlem</td>\n",
              "      <td>40.79851</td>\n",
              "      <td>-73.94399</td>\n",
              "      <td>Entire home/apt</td>\n",
              "      <td>80</td>\n",
              "      <td>10</td>\n",
              "      <td>9</td>\n",
              "      <td>2018-11-19</td>\n",
              "      <td>0.10</td>\n",
              "      <td>1</td>\n",
              "      <td>0</td>\n",
              "    </tr>\n",
              "    <tr>\n",
              "      <th>...</th>\n",
              "      <td>...</td>\n",
              "      <td>...</td>\n",
              "      <td>...</td>\n",
              "      <td>...</td>\n",
              "      <td>...</td>\n",
              "      <td>...</td>\n",
              "      <td>...</td>\n",
              "      <td>...</td>\n",
              "      <td>...</td>\n",
              "      <td>...</td>\n",
              "      <td>...</td>\n",
              "      <td>...</td>\n",
              "      <td>...</td>\n",
              "      <td>...</td>\n",
              "      <td>...</td>\n",
              "      <td>...</td>\n",
              "    </tr>\n",
              "    <tr>\n",
              "      <th>48890</th>\n",
              "      <td>36484665</td>\n",
              "      <td>Charming one bedroom - newly renovated rowhouse</td>\n",
              "      <td>8232441</td>\n",
              "      <td>Sabrina</td>\n",
              "      <td>Brooklyn</td>\n",
              "      <td>Bedford-Stuyvesant</td>\n",
              "      <td>40.67853</td>\n",
              "      <td>-73.94995</td>\n",
              "      <td>Private room</td>\n",
              "      <td>70</td>\n",
              "      <td>2</td>\n",
              "      <td>0</td>\n",
              "      <td>NaN</td>\n",
              "      <td>NaN</td>\n",
              "      <td>2</td>\n",
              "      <td>9</td>\n",
              "    </tr>\n",
              "    <tr>\n",
              "      <th>48891</th>\n",
              "      <td>36485057</td>\n",
              "      <td>Affordable room in Bushwick/East Williamsburg</td>\n",
              "      <td>6570630</td>\n",
              "      <td>Marisol</td>\n",
              "      <td>Brooklyn</td>\n",
              "      <td>Bushwick</td>\n",
              "      <td>40.70184</td>\n",
              "      <td>-73.93317</td>\n",
              "      <td>Private room</td>\n",
              "      <td>40</td>\n",
              "      <td>4</td>\n",
              "      <td>0</td>\n",
              "      <td>NaN</td>\n",
              "      <td>NaN</td>\n",
              "      <td>2</td>\n",
              "      <td>36</td>\n",
              "    </tr>\n",
              "    <tr>\n",
              "      <th>48892</th>\n",
              "      <td>36485431</td>\n",
              "      <td>Sunny Studio at Historical Neighborhood</td>\n",
              "      <td>23492952</td>\n",
              "      <td>Ilgar &amp; Aysel</td>\n",
              "      <td>Manhattan</td>\n",
              "      <td>Harlem</td>\n",
              "      <td>40.81475</td>\n",
              "      <td>-73.94867</td>\n",
              "      <td>Entire home/apt</td>\n",
              "      <td>115</td>\n",
              "      <td>10</td>\n",
              "      <td>0</td>\n",
              "      <td>NaN</td>\n",
              "      <td>NaN</td>\n",
              "      <td>1</td>\n",
              "      <td>27</td>\n",
              "    </tr>\n",
              "    <tr>\n",
              "      <th>48893</th>\n",
              "      <td>36485609</td>\n",
              "      <td>43rd St. Time Square-cozy single bed</td>\n",
              "      <td>30985759</td>\n",
              "      <td>Taz</td>\n",
              "      <td>Manhattan</td>\n",
              "      <td>Hell's Kitchen</td>\n",
              "      <td>40.75751</td>\n",
              "      <td>-73.99112</td>\n",
              "      <td>Shared room</td>\n",
              "      <td>55</td>\n",
              "      <td>1</td>\n",
              "      <td>0</td>\n",
              "      <td>NaN</td>\n",
              "      <td>NaN</td>\n",
              "      <td>6</td>\n",
              "      <td>2</td>\n",
              "    </tr>\n",
              "    <tr>\n",
              "      <th>48894</th>\n",
              "      <td>36487245</td>\n",
              "      <td>Trendy duplex in the very heart of Hell's Kitchen</td>\n",
              "      <td>68119814</td>\n",
              "      <td>Christophe</td>\n",
              "      <td>Manhattan</td>\n",
              "      <td>Hell's Kitchen</td>\n",
              "      <td>40.76404</td>\n",
              "      <td>-73.98933</td>\n",
              "      <td>Private room</td>\n",
              "      <td>90</td>\n",
              "      <td>7</td>\n",
              "      <td>0</td>\n",
              "      <td>NaN</td>\n",
              "      <td>NaN</td>\n",
              "      <td>1</td>\n",
              "      <td>23</td>\n",
              "    </tr>\n",
              "  </tbody>\n",
              "</table>\n",
              "<p>48895 rows × 16 columns</p>\n",
              "</div>\n",
              "      <button class=\"colab-df-convert\" onclick=\"convertToInteractive('df-346e795a-5c6c-40c9-84a7-e974c6679288')\"\n",
              "              title=\"Convert this dataframe to an interactive table.\"\n",
              "              style=\"display:none;\">\n",
              "        \n",
              "  <svg xmlns=\"http://www.w3.org/2000/svg\" height=\"24px\"viewBox=\"0 0 24 24\"\n",
              "       width=\"24px\">\n",
              "    <path d=\"M0 0h24v24H0V0z\" fill=\"none\"/>\n",
              "    <path d=\"M18.56 5.44l.94 2.06.94-2.06 2.06-.94-2.06-.94-.94-2.06-.94 2.06-2.06.94zm-11 1L8.5 8.5l.94-2.06 2.06-.94-2.06-.94L8.5 2.5l-.94 2.06-2.06.94zm10 10l.94 2.06.94-2.06 2.06-.94-2.06-.94-.94-2.06-.94 2.06-2.06.94z\"/><path d=\"M17.41 7.96l-1.37-1.37c-.4-.4-.92-.59-1.43-.59-.52 0-1.04.2-1.43.59L10.3 9.45l-7.72 7.72c-.78.78-.78 2.05 0 2.83L4 21.41c.39.39.9.59 1.41.59.51 0 1.02-.2 1.41-.59l7.78-7.78 2.81-2.81c.8-.78.8-2.07 0-2.86zM5.41 20L4 18.59l7.72-7.72 1.47 1.35L5.41 20z\"/>\n",
              "  </svg>\n",
              "      </button>\n",
              "      \n",
              "  <style>\n",
              "    .colab-df-container {\n",
              "      display:flex;\n",
              "      flex-wrap:wrap;\n",
              "      gap: 12px;\n",
              "    }\n",
              "\n",
              "    .colab-df-convert {\n",
              "      background-color: #E8F0FE;\n",
              "      border: none;\n",
              "      border-radius: 50%;\n",
              "      cursor: pointer;\n",
              "      display: none;\n",
              "      fill: #1967D2;\n",
              "      height: 32px;\n",
              "      padding: 0 0 0 0;\n",
              "      width: 32px;\n",
              "    }\n",
              "\n",
              "    .colab-df-convert:hover {\n",
              "      background-color: #E2EBFA;\n",
              "      box-shadow: 0px 1px 2px rgba(60, 64, 67, 0.3), 0px 1px 3px 1px rgba(60, 64, 67, 0.15);\n",
              "      fill: #174EA6;\n",
              "    }\n",
              "\n",
              "    [theme=dark] .colab-df-convert {\n",
              "      background-color: #3B4455;\n",
              "      fill: #D2E3FC;\n",
              "    }\n",
              "\n",
              "    [theme=dark] .colab-df-convert:hover {\n",
              "      background-color: #434B5C;\n",
              "      box-shadow: 0px 1px 3px 1px rgba(0, 0, 0, 0.15);\n",
              "      filter: drop-shadow(0px 1px 2px rgba(0, 0, 0, 0.3));\n",
              "      fill: #FFFFFF;\n",
              "    }\n",
              "  </style>\n",
              "\n",
              "      <script>\n",
              "        const buttonEl =\n",
              "          document.querySelector('#df-346e795a-5c6c-40c9-84a7-e974c6679288 button.colab-df-convert');\n",
              "        buttonEl.style.display =\n",
              "          google.colab.kernel.accessAllowed ? 'block' : 'none';\n",
              "\n",
              "        async function convertToInteractive(key) {\n",
              "          const element = document.querySelector('#df-346e795a-5c6c-40c9-84a7-e974c6679288');\n",
              "          const dataTable =\n",
              "            await google.colab.kernel.invokeFunction('convertToInteractive',\n",
              "                                                     [key], {});\n",
              "          if (!dataTable) return;\n",
              "\n",
              "          const docLinkHtml = 'Like what you see? Visit the ' +\n",
              "            '<a target=\"_blank\" href=https://colab.research.google.com/notebooks/data_table.ipynb>data table notebook</a>'\n",
              "            + ' to learn more about interactive tables.';\n",
              "          element.innerHTML = '';\n",
              "          dataTable['output_type'] = 'display_data';\n",
              "          await google.colab.output.renderOutput(dataTable, element);\n",
              "          const docLink = document.createElement('div');\n",
              "          docLink.innerHTML = docLinkHtml;\n",
              "          element.appendChild(docLink);\n",
              "        }\n",
              "      </script>\n",
              "    </div>\n",
              "  </div>\n",
              "  "
            ]
          },
          "metadata": {},
          "execution_count": 36
        }
      ]
    },
    {
      "cell_type": "markdown",
      "source": [
        "### What did you know about your dataset?"
      ],
      "metadata": {
        "id": "H0kj-8xxnORC"
      }
    },
    {
      "cell_type": "markdown",
      "source": [
        "There are 16 columns in AirBnB dataset and 48895 rows and the dataset is representing the listings of AirBnB DataFrame where there are null values present in columns such as name,host_name,last_review,reviews_per_month\n",
        "and duplicate values are present.\n",
        "Here the columns Represents:\n",
        "\n",
        "\n",
        "\n",
        "\n"
      ],
      "metadata": {
        "id": "gfoNAAC-nUe_"
      }
    },
    {
      "cell_type": "markdown",
      "source": [
        "## ***2. Understanding Your Variables***"
      ],
      "metadata": {
        "id": "nA9Y7ga8ng1Z"
      }
    },
    {
      "cell_type": "code",
      "source": [
        "# Dataset \n",
        "for i in df:\n",
        "  print(i)"
      ],
      "metadata": {
        "id": "j7xfkqrt5Ag5",
        "colab": {
          "base_uri": "https://localhost:8080/"
        },
        "outputId": "0a457951-0ad8-4f23-83f1-2ced95b82311"
      },
      "execution_count": null,
      "outputs": [
        {
          "output_type": "stream",
          "name": "stdout",
          "text": [
            "id\n",
            "name\n",
            "host_id\n",
            "host_name\n",
            "neighbourhood_group\n",
            "neighbourhood\n",
            "latitude\n",
            "longitude\n",
            "room_type\n",
            "price\n",
            "minimum_nights\n",
            "number_of_reviews\n",
            "last_review\n",
            "reviews_per_month\n",
            "calculated_host_listings_count\n",
            "availability_365\n"
          ]
        }
      ]
    },
    {
      "cell_type": "code",
      "source": [
        "# Dataset Describe\n",
        "df.describe()"
      ],
      "metadata": {
        "id": "DnOaZdaE5Q5t",
        "colab": {
          "base_uri": "https://localhost:8080/"
        },
        "outputId": "f6a6cb70-75da-44e2-de73-17bec5c9a0b2"
      },
      "execution_count": null,
      "outputs": [
        {
          "output_type": "execute_result",
          "data": {
            "text/plain": [
              "                 id       host_id      latitude     longitude         price  \\\n",
              "count  4.889500e+04  4.889500e+04  48895.000000  48895.000000  48895.000000   \n",
              "mean   1.901714e+07  6.762001e+07     40.728949    -73.952170    152.720687   \n",
              "std    1.098311e+07  7.861097e+07      0.054530      0.046157    240.154170   \n",
              "min    2.539000e+03  2.438000e+03     40.499790    -74.244420      0.000000   \n",
              "25%    9.471945e+06  7.822033e+06     40.690100    -73.983070     69.000000   \n",
              "50%    1.967728e+07  3.079382e+07     40.723070    -73.955680    106.000000   \n",
              "75%    2.915218e+07  1.074344e+08     40.763115    -73.936275    175.000000   \n",
              "max    3.648724e+07  2.743213e+08     40.913060    -73.712990  10000.000000   \n",
              "\n",
              "       minimum_nights  number_of_reviews  reviews_per_month  \\\n",
              "count    48895.000000       48895.000000       38843.000000   \n",
              "mean         7.029962          23.274466           1.373221   \n",
              "std         20.510550          44.550582           1.680442   \n",
              "min          1.000000           0.000000           0.010000   \n",
              "25%          1.000000           1.000000           0.190000   \n",
              "50%          3.000000           5.000000           0.720000   \n",
              "75%          5.000000          24.000000           2.020000   \n",
              "max       1250.000000         629.000000          58.500000   \n",
              "\n",
              "       calculated_host_listings_count  availability_365  \n",
              "count                    48895.000000      48895.000000  \n",
              "mean                         7.143982        112.781327  \n",
              "std                         32.952519        131.622289  \n",
              "min                          1.000000          0.000000  \n",
              "25%                          1.000000          0.000000  \n",
              "50%                          1.000000         45.000000  \n",
              "75%                          2.000000        227.000000  \n",
              "max                        327.000000        365.000000  "
            ],
            "text/html": [
              "\n",
              "  <div id=\"df-96789f5d-ca4e-44ef-adde-b813c7182c90\">\n",
              "    <div class=\"colab-df-container\">\n",
              "      <div>\n",
              "<style scoped>\n",
              "    .dataframe tbody tr th:only-of-type {\n",
              "        vertical-align: middle;\n",
              "    }\n",
              "\n",
              "    .dataframe tbody tr th {\n",
              "        vertical-align: top;\n",
              "    }\n",
              "\n",
              "    .dataframe thead th {\n",
              "        text-align: right;\n",
              "    }\n",
              "</style>\n",
              "<table border=\"1\" class=\"dataframe\">\n",
              "  <thead>\n",
              "    <tr style=\"text-align: right;\">\n",
              "      <th></th>\n",
              "      <th>id</th>\n",
              "      <th>host_id</th>\n",
              "      <th>latitude</th>\n",
              "      <th>longitude</th>\n",
              "      <th>price</th>\n",
              "      <th>minimum_nights</th>\n",
              "      <th>number_of_reviews</th>\n",
              "      <th>reviews_per_month</th>\n",
              "      <th>calculated_host_listings_count</th>\n",
              "      <th>availability_365</th>\n",
              "    </tr>\n",
              "  </thead>\n",
              "  <tbody>\n",
              "    <tr>\n",
              "      <th>count</th>\n",
              "      <td>4.889500e+04</td>\n",
              "      <td>4.889500e+04</td>\n",
              "      <td>48895.000000</td>\n",
              "      <td>48895.000000</td>\n",
              "      <td>48895.000000</td>\n",
              "      <td>48895.000000</td>\n",
              "      <td>48895.000000</td>\n",
              "      <td>38843.000000</td>\n",
              "      <td>48895.000000</td>\n",
              "      <td>48895.000000</td>\n",
              "    </tr>\n",
              "    <tr>\n",
              "      <th>mean</th>\n",
              "      <td>1.901714e+07</td>\n",
              "      <td>6.762001e+07</td>\n",
              "      <td>40.728949</td>\n",
              "      <td>-73.952170</td>\n",
              "      <td>152.720687</td>\n",
              "      <td>7.029962</td>\n",
              "      <td>23.274466</td>\n",
              "      <td>1.373221</td>\n",
              "      <td>7.143982</td>\n",
              "      <td>112.781327</td>\n",
              "    </tr>\n",
              "    <tr>\n",
              "      <th>std</th>\n",
              "      <td>1.098311e+07</td>\n",
              "      <td>7.861097e+07</td>\n",
              "      <td>0.054530</td>\n",
              "      <td>0.046157</td>\n",
              "      <td>240.154170</td>\n",
              "      <td>20.510550</td>\n",
              "      <td>44.550582</td>\n",
              "      <td>1.680442</td>\n",
              "      <td>32.952519</td>\n",
              "      <td>131.622289</td>\n",
              "    </tr>\n",
              "    <tr>\n",
              "      <th>min</th>\n",
              "      <td>2.539000e+03</td>\n",
              "      <td>2.438000e+03</td>\n",
              "      <td>40.499790</td>\n",
              "      <td>-74.244420</td>\n",
              "      <td>0.000000</td>\n",
              "      <td>1.000000</td>\n",
              "      <td>0.000000</td>\n",
              "      <td>0.010000</td>\n",
              "      <td>1.000000</td>\n",
              "      <td>0.000000</td>\n",
              "    </tr>\n",
              "    <tr>\n",
              "      <th>25%</th>\n",
              "      <td>9.471945e+06</td>\n",
              "      <td>7.822033e+06</td>\n",
              "      <td>40.690100</td>\n",
              "      <td>-73.983070</td>\n",
              "      <td>69.000000</td>\n",
              "      <td>1.000000</td>\n",
              "      <td>1.000000</td>\n",
              "      <td>0.190000</td>\n",
              "      <td>1.000000</td>\n",
              "      <td>0.000000</td>\n",
              "    </tr>\n",
              "    <tr>\n",
              "      <th>50%</th>\n",
              "      <td>1.967728e+07</td>\n",
              "      <td>3.079382e+07</td>\n",
              "      <td>40.723070</td>\n",
              "      <td>-73.955680</td>\n",
              "      <td>106.000000</td>\n",
              "      <td>3.000000</td>\n",
              "      <td>5.000000</td>\n",
              "      <td>0.720000</td>\n",
              "      <td>1.000000</td>\n",
              "      <td>45.000000</td>\n",
              "    </tr>\n",
              "    <tr>\n",
              "      <th>75%</th>\n",
              "      <td>2.915218e+07</td>\n",
              "      <td>1.074344e+08</td>\n",
              "      <td>40.763115</td>\n",
              "      <td>-73.936275</td>\n",
              "      <td>175.000000</td>\n",
              "      <td>5.000000</td>\n",
              "      <td>24.000000</td>\n",
              "      <td>2.020000</td>\n",
              "      <td>2.000000</td>\n",
              "      <td>227.000000</td>\n",
              "    </tr>\n",
              "    <tr>\n",
              "      <th>max</th>\n",
              "      <td>3.648724e+07</td>\n",
              "      <td>2.743213e+08</td>\n",
              "      <td>40.913060</td>\n",
              "      <td>-73.712990</td>\n",
              "      <td>10000.000000</td>\n",
              "      <td>1250.000000</td>\n",
              "      <td>629.000000</td>\n",
              "      <td>58.500000</td>\n",
              "      <td>327.000000</td>\n",
              "      <td>365.000000</td>\n",
              "    </tr>\n",
              "  </tbody>\n",
              "</table>\n",
              "</div>\n",
              "      <button class=\"colab-df-convert\" onclick=\"convertToInteractive('df-96789f5d-ca4e-44ef-adde-b813c7182c90')\"\n",
              "              title=\"Convert this dataframe to an interactive table.\"\n",
              "              style=\"display:none;\">\n",
              "        \n",
              "  <svg xmlns=\"http://www.w3.org/2000/svg\" height=\"24px\"viewBox=\"0 0 24 24\"\n",
              "       width=\"24px\">\n",
              "    <path d=\"M0 0h24v24H0V0z\" fill=\"none\"/>\n",
              "    <path d=\"M18.56 5.44l.94 2.06.94-2.06 2.06-.94-2.06-.94-.94-2.06-.94 2.06-2.06.94zm-11 1L8.5 8.5l.94-2.06 2.06-.94-2.06-.94L8.5 2.5l-.94 2.06-2.06.94zm10 10l.94 2.06.94-2.06 2.06-.94-2.06-.94-.94-2.06-.94 2.06-2.06.94z\"/><path d=\"M17.41 7.96l-1.37-1.37c-.4-.4-.92-.59-1.43-.59-.52 0-1.04.2-1.43.59L10.3 9.45l-7.72 7.72c-.78.78-.78 2.05 0 2.83L4 21.41c.39.39.9.59 1.41.59.51 0 1.02-.2 1.41-.59l7.78-7.78 2.81-2.81c.8-.78.8-2.07 0-2.86zM5.41 20L4 18.59l7.72-7.72 1.47 1.35L5.41 20z\"/>\n",
              "  </svg>\n",
              "      </button>\n",
              "      \n",
              "  <style>\n",
              "    .colab-df-container {\n",
              "      display:flex;\n",
              "      flex-wrap:wrap;\n",
              "      gap: 12px;\n",
              "    }\n",
              "\n",
              "    .colab-df-convert {\n",
              "      background-color: #E8F0FE;\n",
              "      border: none;\n",
              "      border-radius: 50%;\n",
              "      cursor: pointer;\n",
              "      display: none;\n",
              "      fill: #1967D2;\n",
              "      height: 32px;\n",
              "      padding: 0 0 0 0;\n",
              "      width: 32px;\n",
              "    }\n",
              "\n",
              "    .colab-df-convert:hover {\n",
              "      background-color: #E2EBFA;\n",
              "      box-shadow: 0px 1px 2px rgba(60, 64, 67, 0.3), 0px 1px 3px 1px rgba(60, 64, 67, 0.15);\n",
              "      fill: #174EA6;\n",
              "    }\n",
              "\n",
              "    [theme=dark] .colab-df-convert {\n",
              "      background-color: #3B4455;\n",
              "      fill: #D2E3FC;\n",
              "    }\n",
              "\n",
              "    [theme=dark] .colab-df-convert:hover {\n",
              "      background-color: #434B5C;\n",
              "      box-shadow: 0px 1px 3px 1px rgba(0, 0, 0, 0.15);\n",
              "      filter: drop-shadow(0px 1px 2px rgba(0, 0, 0, 0.3));\n",
              "      fill: #FFFFFF;\n",
              "    }\n",
              "  </style>\n",
              "\n",
              "      <script>\n",
              "        const buttonEl =\n",
              "          document.querySelector('#df-96789f5d-ca4e-44ef-adde-b813c7182c90 button.colab-df-convert');\n",
              "        buttonEl.style.display =\n",
              "          google.colab.kernel.accessAllowed ? 'block' : 'none';\n",
              "\n",
              "        async function convertToInteractive(key) {\n",
              "          const element = document.querySelector('#df-96789f5d-ca4e-44ef-adde-b813c7182c90');\n",
              "          const dataTable =\n",
              "            await google.colab.kernel.invokeFunction('convertToInteractive',\n",
              "                                                     [key], {});\n",
              "          if (!dataTable) return;\n",
              "\n",
              "          const docLinkHtml = 'Like what you see? Visit the ' +\n",
              "            '<a target=\"_blank\" href=https://colab.research.google.com/notebooks/data_table.ipynb>data table notebook</a>'\n",
              "            + ' to learn more about interactive tables.';\n",
              "          element.innerHTML = '';\n",
              "          dataTable['output_type'] = 'display_data';\n",
              "          await google.colab.output.renderOutput(dataTable, element);\n",
              "          const docLink = document.createElement('div');\n",
              "          docLink.innerHTML = docLinkHtml;\n",
              "          element.appendChild(docLink);\n",
              "        }\n",
              "      </script>\n",
              "    </div>\n",
              "  </div>\n",
              "  "
            ]
          },
          "metadata": {},
          "execution_count": 38
        }
      ]
    },
    {
      "cell_type": "markdown",
      "source": [
        "### Variables Description "
      ],
      "metadata": {
        "id": "PBTbrJXOngz2"
      }
    },
    {
      "cell_type": "markdown",
      "source": [
        "* id                                 -Unique ID\n",
        "* name                               -Listings of AirBnB\n",
        "* host_id                            -Unique ID of host\n",
        "* host_name                          -Hotel Owner\n",
        "* neighbourhood_group                -Cities where the listings are Present\n",
        "* neighbourhood                      -Street location\n",
        "* latitude                           -Latitude of listings\n",
        "* longitude                          -Longitude of Listings\n",
        "* room_type                          -Types of Rooms Available in listings\n",
        "* price                              -Price of each day per stay\n",
        "* minimum_nights                     -Minimum nights of stay\n",
        "* number_of_reviews                  -Review count\n",
        "* last_review                        -when was the last review made\n",
        "* reviews_per_month                  -Average per month review\n",
        "* calculated_host_listings_count     -Count of host in each listings\n",
        "* availability_365                   -Days for which listings operateAnswer Here"
      ],
      "metadata": {
        "id": "aJV4KIxSnxay"
      }
    },
    {
      "cell_type": "markdown",
      "source": [
        "### Check Unique Values for each variable."
      ],
      "metadata": {
        "id": "u3PMJOP6ngxN"
      }
    },
    {
      "cell_type": "code",
      "source": [
        "Unique_Values_in_each_column=[df['id'].unique(),df['name'].unique(),df['host_id'].unique(),df['host_name'].unique(),df['neighbourhood_group'].unique(),df['neighbourhood'].unique(),df['latitude'].unique(),df['longitude'].unique(),df['room_type'].unique(),df['price'].unique(),df['minimum_nights'].unique(),df['number_of_reviews'].unique(),df['last_review'].unique(),df['reviews_per_month'].unique(),df['calculated_host_listings_count'].unique(),df['availability_365'].unique()]\n",
        "Unique_Values_in_each_column"
      ],
      "metadata": {
        "id": "zms12Yq5n-jE",
        "colab": {
          "base_uri": "https://localhost:8080/"
        },
        "outputId": "c0db4467-2cfc-4364-d93c-a81446182ea0"
      },
      "execution_count": null,
      "outputs": [
        {
          "output_type": "execute_result",
          "data": {
            "text/plain": [
              "[array([    2539,     2595,     3647, ..., 36485431, 36485609, 36487245]),\n",
              " array(['Clean & quiet apt home by the park', 'Skylit Midtown Castle',\n",
              "        'THE VILLAGE OF HARLEM....NEW YORK !', ...,\n",
              "        'Sunny Studio at Historical Neighborhood',\n",
              "        '43rd St. Time Square-cozy single bed',\n",
              "        \"Trendy duplex in the very heart of Hell's Kitchen\"], dtype=object),\n",
              " array([     2787,      2845,      4632, ..., 274321313,  23492952,\n",
              "         68119814]),\n",
              " array(['John', 'Jennifer', 'Elisabeth', ..., 'Abayomi', 'Alberth',\n",
              "        'Ilgar & Aysel'], dtype=object),\n",
              " array(['Brooklyn', 'Manhattan', 'Queens', 'Staten Island', 'Bronx'],\n",
              "       dtype=object),\n",
              " array(['Kensington', 'Midtown', 'Harlem', 'Clinton Hill', 'East Harlem',\n",
              "        'Murray Hill', 'Bedford-Stuyvesant', \"Hell's Kitchen\",\n",
              "        'Upper West Side', 'Chinatown', 'South Slope', 'West Village',\n",
              "        'Williamsburg', 'Fort Greene', 'Chelsea', 'Crown Heights',\n",
              "        'Park Slope', 'Windsor Terrace', 'Inwood', 'East Village',\n",
              "        'Greenpoint', 'Bushwick', 'Flatbush', 'Lower East Side',\n",
              "        'Prospect-Lefferts Gardens', 'Long Island City', 'Kips Bay',\n",
              "        'SoHo', 'Upper East Side', 'Prospect Heights',\n",
              "        'Washington Heights', 'Woodside', 'Brooklyn Heights',\n",
              "        'Carroll Gardens', 'Gowanus', 'Flatlands', 'Cobble Hill',\n",
              "        'Flushing', 'Boerum Hill', 'Sunnyside', 'DUMBO', 'St. George',\n",
              "        'Highbridge', 'Financial District', 'Ridgewood',\n",
              "        'Morningside Heights', 'Jamaica', 'Middle Village', 'NoHo',\n",
              "        'Ditmars Steinway', 'Flatiron District', 'Roosevelt Island',\n",
              "        'Greenwich Village', 'Little Italy', 'East Flatbush',\n",
              "        'Tompkinsville', 'Astoria', 'Clason Point', 'Eastchester',\n",
              "        'Kingsbridge', 'Two Bridges', 'Queens Village', 'Rockaway Beach',\n",
              "        'Forest Hills', 'Nolita', 'Woodlawn', 'University Heights',\n",
              "        'Gravesend', 'Gramercy', 'Allerton', 'East New York',\n",
              "        'Theater District', 'Concourse Village', 'Sheepshead Bay',\n",
              "        'Emerson Hill', 'Fort Hamilton', 'Bensonhurst', 'Tribeca',\n",
              "        'Shore Acres', 'Sunset Park', 'Concourse', 'Elmhurst',\n",
              "        'Brighton Beach', 'Jackson Heights', 'Cypress Hills', 'St. Albans',\n",
              "        'Arrochar', 'Rego Park', 'Wakefield', 'Clifton', 'Bay Ridge',\n",
              "        'Graniteville', 'Spuyten Duyvil', 'Stapleton', 'Briarwood',\n",
              "        'Ozone Park', 'Columbia St', 'Vinegar Hill', 'Mott Haven',\n",
              "        'Longwood', 'Canarsie', 'Battery Park City', 'Civic Center',\n",
              "        'East Elmhurst', 'New Springville', 'Morris Heights', 'Arverne',\n",
              "        'Cambria Heights', 'Tottenville', 'Mariners Harbor', 'Concord',\n",
              "        'Borough Park', 'Bayside', 'Downtown Brooklyn', 'Port Morris',\n",
              "        'Fieldston', 'Kew Gardens', 'Midwood', 'College Point',\n",
              "        'Mount Eden', 'City Island', 'Glendale', 'Port Richmond',\n",
              "        'Red Hook', 'Richmond Hill', 'Bellerose', 'Maspeth',\n",
              "        'Williamsbridge', 'Soundview', 'Woodhaven', 'Woodrow',\n",
              "        'Co-op City', 'Stuyvesant Town', 'Parkchester', 'North Riverdale',\n",
              "        'Dyker Heights', 'Bronxdale', 'Sea Gate', 'Riverdale',\n",
              "        'Kew Gardens Hills', 'Bay Terrace', 'Norwood', 'Claremont Village',\n",
              "        'Whitestone', 'Fordham', 'Bayswater', 'Navy Yard', 'Brownsville',\n",
              "        'Eltingville', 'Fresh Meadows', 'Mount Hope', 'Lighthouse Hill',\n",
              "        'Springfield Gardens', 'Howard Beach', 'Belle Harbor',\n",
              "        'Jamaica Estates', 'Van Nest', 'Morris Park', 'West Brighton',\n",
              "        'Far Rockaway', 'South Ozone Park', 'Tremont', 'Corona',\n",
              "        'Great Kills', 'Manhattan Beach', 'Marble Hill', 'Dongan Hills',\n",
              "        'Castleton Corners', 'East Morrisania', 'Hunts Point', 'Neponsit',\n",
              "        'Pelham Bay', 'Randall Manor', 'Throgs Neck', 'Todt Hill',\n",
              "        'West Farms', 'Silver Lake', 'Morrisania', 'Laurelton',\n",
              "        'Grymes Hill', 'Holliswood', 'Pelham Gardens', 'Belmont',\n",
              "        'Rosedale', 'Edgemere', 'New Brighton', 'Midland Beach',\n",
              "        'Baychester', 'Melrose', 'Bergen Beach', 'Richmondtown',\n",
              "        'Howland Hook', 'Schuylerville', 'Coney Island', 'New Dorp Beach',\n",
              "        \"Prince's Bay\", 'South Beach', 'Bath Beach', 'Jamaica Hills',\n",
              "        'Oakwood', 'Castle Hill', 'Hollis', 'Douglaston', 'Huguenot',\n",
              "        'Olinville', 'Edenwald', 'Grant City', 'Westerleigh',\n",
              "        'Bay Terrace, Staten Island', 'Westchester Square', 'Little Neck',\n",
              "        'Fort Wadsworth', 'Rosebank', 'Unionport', 'Mill Basin',\n",
              "        'Arden Heights', \"Bull's Head\", 'New Dorp', 'Rossville',\n",
              "        'Breezy Point', 'Willowbrook'], dtype=object),\n",
              " array([40.64749, 40.75362, 40.80902, ..., 40.80953, 40.70184, 40.81475]),\n",
              " array([-73.97237, -73.98377, -73.9419 , ..., -73.87727, -73.93614,\n",
              "        -73.80844]),\n",
              " array(['Private room', 'Entire home/apt', 'Shared room'], dtype=object),\n",
              " array([  149,   225,   150,    89,    80,   200,    60,    79,   135,\n",
              "           85,   120,   140,   215,    99,   190,   299,   130,   110,\n",
              "           44,   180,    50,    52,    55,    70,    35,    40,    68,\n",
              "          115,   151,   228,   144,    69,    49,   375,   250,   275,\n",
              "          230,    51,    65,   105,    95,   145,   285,    94,   800,\n",
              "          131,    98,   100,   125,   175,   500,   101,   220,    59,\n",
              "          350,   199,   325,   235,   170,   400,    75,    90,   185,\n",
              "           77,    76,   160,   195,   156,   219,   475,   165,   196,\n",
              "           83,   123,   265,   249,   121,    45,    71,    64,   159,\n",
              "          189,   239,   305,   155,    92,    36,    37,   205,    39,\n",
              "          390,   129,   212,   124,   122,   109,   575,   229,   169,\n",
              "          113,   179,   349,   139,   650,    67,   599,   211,   290,\n",
              "           87,   395,   260,    97,   132,   141,   495,   259,    96,\n",
              "          295,   451,   300,    42,   255,    72,    88,   450,   198,\n",
              "           46,    33,   106,    91,  2000,   429,   107,    43,   248,\n",
              "           41,   157,   172,   146,   116,   288,   270,   241,   399,\n",
              "          438,   279,   137,   280,   226,   154,   700,   246,   119,\n",
              "          850,    81,    54,   760,    48,    58,   153,    73,   485,\n",
              "          310,   167,   147,    34,    93,    56,  1300,   127,   402,\n",
              "           30,   240,   385,    47,   209,   192,    86,   245,   499,\n",
              "          387,   178,  3000,   549,    20,    74,   104,   298,   269,\n",
              "          138,   208,   142,   174,   315,   210,   311,    82,   117,\n",
              "          380,   328,   102,   118,   217,   152,   197,   133,   331,\n",
              "          128,   136,   148,  1000,   263,   433,    61,   234,   595,\n",
              "          108,   355,   134,    62,   550,    84,    78,   900,   103,\n",
              "          330,   425,   168,    66,   625,   171,   187,   600,   312,\n",
              "           38,   163,   158,   173,   465,    63,   340,    57,  4000,\n",
              "          999,   289,   166,   176,   339,   191,  2500,   329,   890,\n",
              "           53,   420,   950,   334,  1395,   221,   182,   750,   181,\n",
              "          112,  1500,  1899,   188,   262,   111,   162,    29,   232,\n",
              "         5000,   345,  1100,   224,    10,   194,    31,  1200,   440,\n",
              "          439,   555,   143,   184,   799,   455,   193,   161,   201,\n",
              "         1700,   525,    32,   251,  1999,   480,   320,   164,   272,\n",
              "          177,   560,  6000,   379,   303,   675,   749,  5250,  1550,\n",
              "         1250,  1485,   369,  6500,  2750,  3750,  1600,   975,    25,\n",
              "           18,  2300,   409,   218,   430,  4500,  8000,   795,   414,\n",
              "          126,    16,   785,   370,    22,   316,   264,   318,   273,\n",
              "          308,   365,   216,   545,   860,   540,   233,  1400,   383,\n",
              "          419,  1050,  2695,   985,   360,   699,   227,   247,   895,\n",
              "         9999,   258,  2400,   254,   346,   415,   995,  1763,   510,\n",
              "         1450,   281,    27,    28,   825,   524,   202,   244,   114,\n",
              "          341,   257,   322,   276,   207,   445,   284,   449,   680,\n",
              "         1495,   256,   888,   389,   460, 10000,   222,   243,   267,\n",
              "          398,   386,   319,   238,   374,   490,   335,  1195,   203,\n",
              "          469,   186,   352,   297,   237,   745,   410,  1170,   261,\n",
              "         1150,   434,   590,   899,   304,   296,   183,   531,   214,\n",
              "          655,    24,   477,   372,   206,    26,   587,   204,  1731,\n",
              "         1002,   333,   283,   814,  1800,   278,   421,   690,   619,\n",
              "         2100,   348,   223,   268,   359,   436,   935,   274,   376,\n",
              "          980,   294,   559,   509,   301,   408,  3800,   479,  2350,\n",
              "          822,    23,   407,   489,   252,   672,   378,   584,   894,\n",
              "          643,   462,   649,   302,   321,   534,   748,   487,   236,\n",
              "         1020,    19,  1599,    21,   585,  2590,    11,   640,   459,\n",
              "           12,  2250,   484,   337,   317,    15,  2800,  1475,   615,\n",
              "         2900,   287,     0,   515,  1067,   424,   578,   789,  1795,\n",
              "         1095,   530,  3900,   496,   435,   422,   367,   695,  1177,\n",
              "          790,   253,   573,   766,   231,   840,   577,   589,   949,\n",
              "          358,   213,  2200,   497,  1066,   412,   647,   277,   720,\n",
              "         2010,  3210,  4160,  1046,   271,   416,  1680,  7703,  3518,\n",
              "         6419,  2626,  2103,  8500,  2990,   620,   394,   323,   974,\n",
              "          344,  1333,   780,   347,   393,   309,   483,   737,   470,\n",
              "          689,   639,   848,   403,   471,   377,   282,   314,   478,\n",
              "          670,  2545,  1115,   520,   913,   505,   718,   692,  3600,\n",
              "          307,   306,  1880,   714,   956,   266,   292,  2999,   418,\n",
              "          452,   397,   343,   291,   392,   356,   242,   396,   332,\n",
              "          361,   453,   481,   466,   388,   423,   362,   313,   805,\n",
              "          725,   443,  1350,  3200,   293,   432,   444,  1075,   820,\n",
              "          373,  1750,  1080,  1299,  1295,   519,  1978,  1494,  3512,\n",
              "          382,   404,   503,   472,   454,   431,   468,   498,   612,\n",
              "          488,  1497,  2850,   990,   506,   324,  1315,   446,  7500,\n",
              "         3613,  2600,  4100,   794,  1145,  1306,   336,  5100,   898,\n",
              "          327,   442,   474,  1799,   353,  4200,   616,  6800,   945,\n",
              "          539,   426,   875,   463,   688,   580,   583,   381,  1900,\n",
              "          659,   830,    13,   447,  1099,   428,   920,   930,  2995,\n",
              "          342,   843,   417,  1308,   561,  1369,  1749,   338]),\n",
              " array([   1,    3,   10,   45,    2,    5,    4,   90,    7,   14,   60,\n",
              "          29,   30,  180,    9,   31,    6,   15,    8,   26,   28,  200,\n",
              "          50,   17,   21,   11,   25,   13,   35,   27,   18,   20,   40,\n",
              "          44,   65,   55,  120,  365,  122,   19,  240,   88,  115,  150,\n",
              "         370,   16,   80,  181,  265,  300,   59,  185,  360,   56,   12,\n",
              "          70,   39,   24,   32, 1000,  110,  270,   22,   75,  250,   62,\n",
              "          23, 1250,  364,   74,  198,  100,  500,   43,   91,  480,   53,\n",
              "          99,  160,   47,  999,  186,  366,   68,   93,   87,  183,  299,\n",
              "         175,   98,  133,  354,   42,   33,   37,  225,  400,  105,  184,\n",
              "         153,  134,  222,   58,  210,  275,  182,  114,   85,   36]),\n",
              " array([  9,  45,   0, 270,  74,  49, 430, 118, 160,  53, 188, 167, 113,\n",
              "         27, 148, 198, 260, 130,  39,  71,  88,  19,  58, 108,  29, 242,\n",
              "        197, 273, 168, 231, 214, 245,  15,  25,  81,  97,  11, 248,  61,\n",
              "        135, 112,  73,  82, 328, 105, 289, 138,  21,  42,   5,  66, 143,\n",
              "        191,   4, 338, 106, 190,  23, 142,  54,  70,  16,  94, 194,   2,\n",
              "        174,  24, 166,   1,  30, 139, 233,  68,  46, 335, 162, 170, 334,\n",
              "         12, 467,   7,  38, 324, 115, 354, 195,  13,  36,  63, 155, 193,\n",
              "         32,  50,  26, 426, 227,  84,   3,  10, 124, 240, 200,  79,  34,\n",
              "        134, 126, 234, 202,  28, 309,  14,  80, 294, 150,  47, 219, 114,\n",
              "        213,  86,  18, 206, 122,  33,  52,  51, 199,  41, 109, 151, 285,\n",
              "        375,   6, 358, 226, 104, 204, 253, 129,  37,  69, 192,  17, 222,\n",
              "        205, 458, 183, 189, 127,  35, 171,  92, 238,  56, 111, 147, 177,\n",
              "        185,  62, 181, 333, 441, 279, 203, 210,  64, 132,  20,  67, 187,\n",
              "         22,  93,  48, 120,  43,  59,  31, 220, 286, 398,  76, 182,   8,\n",
              "        228, 388, 223, 218,  75, 370, 131, 136,  98, 380, 163, 247, 116,\n",
              "        320, 225,  95, 403, 175, 263, 232,  72, 414, 119, 117, 385, 103,\n",
              "        280,  57, 480, 101,  87, 241,  90,  99, 271,  89, 179, 401,  83,\n",
              "        211, 295, 207, 172, 330, 123,  55, 258, 128,  60, 152, 154, 164,\n",
              "        278, 235, 305, 102,  65,  40, 100, 125, 229, 107, 176, 178, 216,\n",
              "        314, 153, 110, 244, 208, 121, 157, 209,  44, 158, 236, 215,  78,\n",
              "        297,  77, 265, 156, 272, 268, 133, 165, 269, 243, 137, 145, 339,\n",
              "        454, 230, 144, 439, 261, 319, 184, 451, 169, 266, 251, 141, 304,\n",
              "        474,  85, 221, 201, 321, 250, 149, 254, 161, 323, 347, 296,  96,\n",
              "        173, 239, 404, 326, 363, 146, 327, 237, 353,  91, 302, 276, 186,\n",
              "        322, 267, 540, 224, 291, 315, 313, 594, 597, 607, 287, 159, 395,\n",
              "        281, 447, 356, 360, 349, 246, 308, 292, 140, 284, 374, 196, 212,\n",
              "        274, 340, 386, 336, 249, 275, 259, 252, 298, 288, 255, 365, 257,\n",
              "        217, 488, 332, 180, 277, 389, 372, 299, 394, 357, 350, 352, 351,\n",
              "        262, 318, 307, 325, 282, 396, 466, 397, 290, 448, 424, 408, 543,\n",
              "        264, 629, 576, 256, 459, 412, 378, 411, 434, 510, 306, 392, 417,\n",
              "        368, 436, 310, 341]),\n",
              " array(['2018-10-19', '2019-05-21', nan, ..., '2017-12-23', '2018-01-29',\n",
              "        '2018-03-29'], dtype=object),\n",
              " array([2.100e-01, 3.800e-01,       nan, 4.640e+00, 1.000e-01, 5.900e-01,\n",
              "        4.000e-01, 3.470e+00, 9.900e-01, 1.330e+00, 4.300e-01, 1.500e+00,\n",
              "        1.340e+00, 9.100e-01, 2.200e-01, 1.200e+00, 1.720e+00, 2.120e+00,\n",
              "        4.440e+00, 7.000e-02, 1.090e+00, 3.700e-01, 6.100e-01, 7.300e-01,\n",
              "        1.370e+00, 4.900e-01, 1.110e+00, 2.400e-01, 2.040e+00, 1.420e+00,\n",
              "        1.650e+00, 2.370e+00, 6.600e-01, 1.410e+00, 1.960e+00, 1.810e+00,\n",
              "        2.080e+00, 3.900e-01, 2.300e-01, 6.900e-01, 8.400e-01, 2.250e+00,\n",
              "        5.200e-01, 1.160e+00, 1.010e+00, 6.300e-01, 7.000e-01, 2.820e+00,\n",
              "        9.000e-01, 1.700e-01, 2.490e+00, 1.190e+00, 3.000e-01, 1.200e-01,\n",
              "        5.700e-01, 1.600e-01, 4.720e+00, 1.400e+00, 1.260e+00, 1.640e+00,\n",
              "        1.600e+00, 9.200e-01, 2.000e-01, 1.280e+00, 5.400e-01, 6.200e-01,\n",
              "        1.500e-01, 5.300e-01, 1.730e+00, 5.000e-02, 1.540e+00, 2.800e-01,\n",
              "        3.400e+00, 1.570e+00, 1.050e+00, 7.100e-01, 1.100e-01, 2.700e-01,\n",
              "        1.230e+00, 8.700e-01, 2.090e+00, 6.000e-01, 5.500e-01, 3.020e+00,\n",
              "        7.900e-01, 1.460e+00, 1.610e+00, 3.000e+00, 1.300e-01, 4.220e+00,\n",
              "        6.000e-02, 3.010e+00, 3.200e+00, 2.030e+00, 8.000e-02, 1.900e-01,\n",
              "        3.300e-01, 5.800e-01, 2.350e+00, 1.860e+00, 2.900e-01, 4.500e-01,\n",
              "        2.500e-01, 2.000e-02, 3.890e+00, 7.700e-01, 3.000e-02, 4.000e-02,\n",
              "        1.000e-02, 2.190e+00, 7.400e-01, 9.000e-02, 3.200e-01, 1.240e+00,\n",
              "        2.600e+00, 2.600e-01, 2.860e+00, 2.170e+00, 1.660e+00, 9.400e-01,\n",
              "        1.780e+00, 7.800e-01, 1.060e+00, 2.000e+00, 8.000e-01, 7.500e-01,\n",
              "        3.600e-01, 1.790e+00, 1.920e+00, 1.180e+00, 5.000e-01, 1.170e+00,\n",
              "        4.800e-01, 1.850e+00, 1.040e+00, 1.430e+00, 2.690e+00, 3.520e+00,\n",
              "        3.100e-01, 3.440e+00, 1.000e+00, 1.450e+00, 3.040e+00, 1.220e+00,\n",
              "        1.130e+00, 3.500e-01, 6.500e-01, 1.840e+00, 9.600e-01, 2.100e+00,\n",
              "        4.580e+00, 6.700e-01, 1.800e-01, 1.830e+00, 1.820e+00, 1.300e+00,\n",
              "        3.400e-01, 2.210e+00, 1.800e+00, 2.300e+00, 2.130e+00, 1.440e+00,\n",
              "        1.710e+00, 1.770e+00, 3.190e+00, 4.500e+00, 4.600e-01, 2.390e+00,\n",
              "        1.380e+00, 4.100e-01, 1.400e-01, 3.550e+00, 2.270e+00, 1.270e+00,\n",
              "        1.310e+00, 1.870e+00, 5.600e-01, 9.300e-01, 6.800e-01, 1.250e+00,\n",
              "        1.880e+00, 4.200e-01, 4.400e-01, 2.010e+00, 2.810e+00, 3.970e+00,\n",
              "        7.600e-01, 5.100e-01, 8.500e-01, 2.400e+00, 1.070e+00, 3.880e+00,\n",
              "        2.220e+00, 1.510e+00, 2.260e+00, 1.210e+00, 3.740e+00, 1.760e+00,\n",
              "        1.680e+00, 3.830e+00, 2.530e+00, 2.510e+00, 3.230e+00, 4.100e+00,\n",
              "        1.550e+00, 2.410e+00, 7.200e-01, 8.600e-01, 2.180e+00, 4.340e+00,\n",
              "        2.140e+00, 4.000e+00, 1.080e+00, 2.330e+00, 2.310e+00, 2.920e+00,\n",
              "        8.900e-01, 1.940e+00, 6.700e+00, 4.700e-01, 4.600e+00, 9.500e-01,\n",
              "        2.840e+00, 1.970e+00, 2.020e+00, 6.620e+00, 9.700e-01, 1.290e+00,\n",
              "        3.900e+00, 2.850e+00, 1.620e+00, 7.140e+00, 2.700e+00, 2.900e+00,\n",
              "        1.630e+00, 2.470e+00, 6.400e-01, 2.950e+00, 1.150e+00, 3.240e+00,\n",
              "        1.520e+00, 8.800e-01, 1.360e+00, 1.590e+00, 1.320e+00, 2.590e+00,\n",
              "        2.450e+00, 1.890e+00, 9.800e-01, 2.650e+00, 2.500e+00, 2.830e+00,\n",
              "        3.450e+00, 1.020e+00, 2.740e+00, 1.750e+00, 2.320e+00, 2.380e+00,\n",
              "        2.520e+00, 1.100e+00, 8.200e-01, 1.120e+00, 1.690e+00, 1.390e+00,\n",
              "        2.440e+00, 2.290e+00, 8.100e-01, 2.420e+00, 3.600e+00, 3.370e+00,\n",
              "        2.110e+00, 2.990e+00, 1.470e+00, 1.490e+00, 3.180e+00, 3.090e+00,\n",
              "        2.750e+00, 1.530e+00, 1.140e+00, 3.300e+00, 1.350e+00, 3.150e+00,\n",
              "        2.060e+00, 2.150e+00, 5.270e+00, 8.300e-01, 5.120e+00, 1.560e+00,\n",
              "        3.780e+00, 2.630e+00, 2.540e+00, 3.510e+00, 5.260e+00, 3.850e+00,\n",
              "        2.200e+00, 3.170e+00, 1.030e+00, 3.700e+00, 5.530e+00, 2.550e+00,\n",
              "        1.910e+00, 4.140e+00, 1.950e+00, 3.930e+00, 1.900e+00, 1.990e+00,\n",
              "        3.050e+00, 3.160e+00, 3.530e+00, 4.240e+00, 2.570e+00, 1.980e+00,\n",
              "        3.920e+00, 3.590e+00, 3.560e+00, 2.890e+00, 4.900e+00, 3.960e+00,\n",
              "        4.550e+00, 2.070e+00, 1.930e+00, 1.670e+00, 1.700e+00, 4.010e+00,\n",
              "        1.000e+01, 2.960e+00, 3.350e+00, 2.680e+00, 3.340e+00, 4.160e+00,\n",
              "        2.620e+00, 4.330e+00, 2.790e+00, 3.070e+00, 4.180e+00, 2.340e+00,\n",
              "        3.580e+00, 4.460e+00, 6.950e+00, 2.910e+00, 2.970e+00, 2.360e+00,\n",
              "        3.690e+00, 4.030e+00, 4.090e+00, 7.570e+00, 7.720e+00, 7.750e+00,\n",
              "        5.390e+00, 3.080e+00, 4.300e+00, 5.160e+00, 3.680e+00, 2.460e+00,\n",
              "        5.890e+00, 1.740e+00, 3.140e+00, 4.790e+00, 2.720e+00, 3.220e+00,\n",
              "        3.270e+00, 3.120e+00, 4.730e+00, 4.110e+00, 2.610e+00, 3.800e+00,\n",
              "        2.660e+00, 3.660e+00, 3.870e+00, 2.870e+00, 5.060e+00, 2.670e+00,\n",
              "        3.310e+00, 2.240e+00, 2.230e+00, 4.510e+00, 3.410e+00, 4.670e+00,\n",
              "        5.680e+00, 3.100e+00, 2.780e+00, 5.400e+00, 4.540e+00, 2.640e+00,\n",
              "        2.050e+00, 2.800e+00, 3.280e+00, 4.020e+00, 3.110e+00, 3.320e+00,\n",
              "        4.620e+00, 3.490e+00, 4.430e+00, 3.940e+00, 3.500e+00, 1.580e+00,\n",
              "        3.390e+00, 6.300e+00, 2.770e+00, 4.830e+00, 8.520e+00, 3.630e+00,\n",
              "        4.490e+00, 3.460e+00, 4.710e+00, 3.610e+00, 3.360e+00, 3.820e+00,\n",
              "        3.250e+00, 3.130e+00, 2.980e+00, 3.420e+00, 3.380e+00, 3.290e+00,\n",
              "        4.820e+00, 3.030e+00, 4.320e+00, 3.330e+00, 4.290e+00, 4.910e+00,\n",
              "        4.310e+00, 1.480e+00, 2.930e+00, 2.710e+00, 2.430e+00, 3.620e+00,\n",
              "        2.280e+00, 4.270e+00, 5.200e+00, 4.200e+00, 5.540e+00, 4.050e+00,\n",
              "        3.670e+00, 4.070e+00, 5.810e+00, 3.260e+00, 4.840e+00, 4.570e+00,\n",
              "        3.060e+00, 3.720e+00, 4.360e+00, 4.690e+00, 3.540e+00, 2.880e+00,\n",
              "        4.210e+00, 3.950e+00, 2.730e+00, 8.140e+00, 3.480e+00, 3.790e+00,\n",
              "        5.570e+00, 4.120e+00, 5.960e+00, 4.950e+00, 2.480e+00, 6.510e+00,\n",
              "        4.630e+00, 6.230e+00, 5.040e+00, 5.460e+00, 4.370e+00, 5.030e+00,\n",
              "        6.760e+00, 4.990e+00, 5.000e+00, 2.760e+00, 2.580e+00, 4.130e+00,\n",
              "        3.760e+00, 5.020e+00, 3.640e+00, 3.990e+00, 6.790e+00, 6.190e+00,\n",
              "        2.560e+00, 6.220e+00, 3.910e+00, 6.050e+00, 5.600e+00, 6.100e+00,\n",
              "        6.090e+00, 4.660e+00, 2.940e+00, 4.150e+00, 5.900e+00, 6.310e+00,\n",
              "        7.530e+00, 3.810e+00, 3.210e+00, 4.400e+00, 8.210e+00, 4.650e+00,\n",
              "        5.780e+00, 3.430e+00, 5.440e+00, 4.450e+00, 5.660e+00, 1.345e+01,\n",
              "        2.160e+00, 3.860e+00, 6.770e+00, 4.080e+00, 4.390e+00, 4.380e+00,\n",
              "        3.750e+00, 5.510e+00, 4.420e+00, 5.720e+00, 7.710e+00, 5.290e+00,\n",
              "        9.160e+00, 5.170e+00, 5.920e+00, 4.870e+00, 7.970e+00, 4.940e+00,\n",
              "        8.820e+00, 3.710e+00, 4.590e+00, 4.480e+00, 5.280e+00, 3.570e+00,\n",
              "        4.850e+00, 3.650e+00, 4.700e+00, 5.370e+00, 4.260e+00, 9.630e+00,\n",
              "        4.560e+00, 5.410e+00, 5.130e+00, 5.450e+00, 5.090e+00, 8.860e+00,\n",
              "        8.560e+00, 4.190e+00, 4.170e+00, 6.610e+00, 4.780e+00, 5.360e+00,\n",
              "        7.310e+00, 6.370e+00, 6.260e+00, 7.070e+00, 4.980e+00, 1.159e+01,\n",
              "        4.060e+00, 4.350e+00, 4.530e+00, 4.680e+00, 5.420e+00, 5.980e+00,\n",
              "        5.220e+00, 5.610e+00, 4.230e+00, 6.460e+00, 5.650e+00, 5.850e+00,\n",
              "        5.590e+00, 5.940e+00, 5.110e+00, 5.180e+00, 1.458e+01, 4.470e+00,\n",
              "        4.770e+00, 6.570e+00, 4.890e+00, 6.120e+00, 4.800e+00, 5.620e+00,\n",
              "        3.980e+00, 6.250e+00, 5.950e+00, 1.340e+01, 5.490e+00, 1.072e+01,\n",
              "        5.250e+00, 4.040e+00, 5.340e+00, 4.760e+00, 3.770e+00, 5.870e+00,\n",
              "        5.010e+00, 6.080e+00, 5.830e+00, 4.520e+00, 9.260e+00, 5.080e+00,\n",
              "        7.380e+00, 1.019e+01, 6.780e+00, 6.020e+00, 5.070e+00, 5.710e+00,\n",
              "        4.610e+00, 6.380e+00, 4.250e+00, 9.670e+00, 5.970e+00, 3.840e+00,\n",
              "        4.810e+00, 6.680e+00, 6.150e+00, 5.240e+00, 4.740e+00, 4.860e+00,\n",
              "        7.450e+00, 5.150e+00, 5.140e+00, 3.730e+00, 4.880e+00, 6.000e+00,\n",
              "        6.740e+00, 5.790e+00, 9.610e+00, 9.300e+00, 6.360e+00, 1.140e+01,\n",
              "        7.100e+00, 5.300e+00, 5.630e+00, 5.430e+00, 9.240e+00, 4.750e+00,\n",
              "        4.930e+00, 6.070e+00, 9.390e+00, 1.284e+01, 6.910e+00, 5.210e+00,\n",
              "        5.880e+00, 6.130e+00, 4.410e+00, 5.470e+00, 6.350e+00, 6.400e+00,\n",
              "        6.970e+00, 6.710e+00, 6.550e+00, 6.010e+00, 6.640e+00, 6.540e+00,\n",
              "        6.450e+00, 6.900e+00, 7.280e+00, 5.690e+00, 8.180e+00, 9.830e+00,\n",
              "        1.622e+01, 5.750e+00, 1.064e+01, 8.170e+00, 9.820e+00, 5.310e+00,\n",
              "        5.350e+00, 8.330e+00, 8.790e+00, 7.230e+00, 4.960e+00, 1.315e+01,\n",
              "        5.320e+00, 7.180e+00, 1.436e+01, 9.660e+00, 6.170e+00, 6.030e+00,\n",
              "        5.700e+00, 5.230e+00, 1.348e+01, 1.191e+01, 5.190e+00, 8.580e+00,\n",
              "        5.740e+00, 4.280e+00, 1.060e+01, 7.960e+00, 1.172e+01, 6.650e+00,\n",
              "        1.324e+01, 7.000e+00, 8.070e+00, 5.580e+00, 7.120e+00, 6.920e+00,\n",
              "        1.603e+01, 5.050e+00, 7.040e+00, 5.840e+00, 1.034e+01, 5.330e+00,\n",
              "        7.050e+00, 7.840e+00, 7.660e+00, 7.790e+00, 5.990e+00, 5.820e+00,\n",
              "        8.160e+00, 5.910e+00, 5.770e+00, 1.156e+01, 7.640e+00, 5.550e+00,\n",
              "        7.650e+00, 5.730e+00, 5.860e+00, 7.270e+00, 6.590e+00, 1.327e+01,\n",
              "        4.970e+00, 7.760e+00, 6.210e+00, 6.600e+00, 6.580e+00, 5.760e+00,\n",
              "        7.500e+00, 6.180e+00, 6.270e+00, 6.440e+00, 6.870e+00, 8.750e+00,\n",
              "        8.950e+00, 5.480e+00, 7.330e+00, 5.380e+00, 1.039e+01, 7.430e+00,\n",
              "        7.190e+00, 1.299e+01, 8.870e+00, 5.800e+00, 5.500e+00, 1.975e+01,\n",
              "        6.290e+00, 9.410e+00, 1.254e+01, 7.240e+00, 1.028e+01, 1.038e+01,\n",
              "        8.920e+00, 8.240e+00, 1.086e+01, 7.900e+00, 8.570e+00, 1.015e+01,\n",
              "        8.740e+00, 5.670e+00, 5.100e+00, 8.430e+00, 1.782e+01, 6.800e+00,\n",
              "        8.680e+00, 7.390e+00, 7.470e+00, 1.117e+01, 6.940e+00, 1.681e+01,\n",
              "        7.670e+00, 7.870e+00, 7.550e+00, 5.560e+00, 9.530e+00, 8.270e+00,\n",
              "        6.110e+00, 7.980e+00, 8.060e+00, 6.560e+00, 7.030e+00, 6.730e+00,\n",
              "        6.960e+00, 6.420e+00, 8.320e+00, 5.930e+00, 6.340e+00, 7.080e+00,\n",
              "        9.740e+00, 9.130e+00, 6.060e+00, 8.250e+00, 8.380e+00, 9.430e+00,\n",
              "        7.200e+00, 7.770e+00, 7.690e+00, 7.590e+00, 7.130e+00, 4.920e+00,\n",
              "        9.970e+00, 9.470e+00, 6.240e+00, 5.520e+00, 7.940e+00, 8.930e+00,\n",
              "        7.260e+00, 7.320e+00, 1.168e+01, 5.640e+00, 8.690e+00, 7.010e+00,\n",
              "        8.000e+00, 6.280e+00, 7.920e+00, 9.170e+00, 8.640e+00, 6.200e+00,\n",
              "        6.480e+00, 1.205e+01, 7.340e+00, 6.990e+00, 7.700e+00, 6.040e+00,\n",
              "        1.077e+01, 7.610e+00, 1.012e+01, 8.840e+00, 8.290e+00, 9.340e+00,\n",
              "        7.560e+00, 6.500e+00, 7.210e+00, 6.840e+00, 9.360e+00, 7.580e+00,\n",
              "        8.310e+00, 8.020e+00, 8.720e+00, 8.400e+00, 7.420e+00, 1.578e+01,\n",
              "        7.990e+00, 9.580e+00, 8.970e+00, 6.860e+00, 8.620e+00, 6.410e+00,\n",
              "        7.410e+00, 6.720e+00, 1.311e+01, 6.140e+00, 7.250e+00, 6.430e+00,\n",
              "        8.350e+00, 1.103e+01, 7.830e+00, 1.029e+01, 9.090e+00, 6.320e+00,\n",
              "        6.670e+00, 8.990e+00, 9.620e+00, 6.750e+00, 1.067e+01, 7.600e+00,\n",
              "        8.440e+00, 9.120e+00, 8.510e+00, 7.910e+00, 2.094e+01, 6.880e+00,\n",
              "        6.830e+00, 9.150e+00, 7.110e+00, 9.500e+00, 9.290e+00, 9.640e+00,\n",
              "        1.005e+01, 9.030e+00, 1.330e+01, 1.523e+01, 9.080e+00, 1.138e+01,\n",
              "        7.360e+00, 8.110e+00, 9.330e+00, 1.532e+01, 7.890e+00, 8.470e+00,\n",
              "        8.030e+00, 9.560e+00, 8.500e+00, 1.036e+01, 9.930e+00, 9.100e+00,\n",
              "        9.230e+00, 6.390e+00, 8.450e+00, 8.480e+00, 9.680e+00, 6.490e+00,\n",
              "        7.170e+00, 1.313e+01, 9.850e+00, 5.850e+01, 2.795e+01, 1.462e+01,\n",
              "        6.690e+00, 8.370e+00, 6.630e+00, 7.880e+00, 7.850e+00, 7.300e+00,\n",
              "        7.020e+00, 7.220e+00, 7.290e+00, 1.037e+01, 9.210e+00, 6.470e+00,\n",
              "        1.212e+01, 6.530e+00, 1.121e+01, 6.520e+00, 9.070e+00, 8.940e+00,\n",
              "        1.200e+01, 6.820e+00, 8.730e+00, 9.400e+00, 1.017e+01, 1.125e+01,\n",
              "        7.160e+00, 1.333e+01, 1.056e+01, 7.060e+00, 9.000e+00, 1.031e+01,\n",
              "        1.400e+01, 7.630e+00, 1.211e+01, 1.184e+01, 1.114e+01, 1.116e+01,\n",
              "        9.780e+00, 1.342e+01, 1.023e+01, 7.860e+00, 1.171e+01, 9.730e+00,\n",
              "        1.091e+01, 1.054e+01]),\n",
              " array([  6,   2,   1,   4,   3,   5,   7,  13,  28,  11,   8,   9,  52,\n",
              "         18,  15,  19,  10,  39,  26,  29,  12,  21,  96,  14,  34,  43,\n",
              "        121,  37,  49,  31,  91,  16,  87,  33,  23,  50,  20,  25, 232,\n",
              "         17,  47, 103,  65,  30,  27, 327,  32]),\n",
              " array([365, 355, 194,   0, 129, 220, 188,   6,  39, 314, 333,  46, 321,\n",
              "         12,  21, 249, 347, 364, 304, 233,  85,  75, 311,  67, 255, 284,\n",
              "        359, 269, 340,  22,  96, 345, 273, 309,  95, 215, 265, 192, 251,\n",
              "        302, 140, 234, 257,  30, 301, 294, 320, 154, 263, 180, 231, 297,\n",
              "        292, 191,  72, 362, 336, 116,  88, 224, 322, 324, 132, 295, 238,\n",
              "        209, 328,  38,   7, 272,  26, 288, 317, 207, 185, 158,   9, 198,\n",
              "        219, 342, 312, 243, 152, 137, 222, 346, 208, 279, 250, 164, 298,\n",
              "        260, 107, 199, 299,  20, 318, 216, 245, 189, 307, 310, 213, 278,\n",
              "         16, 178, 275, 163,  34, 280,   1, 170, 214, 248, 262, 339,  10,\n",
              "        290, 230,  53, 126,   3,  37, 353, 177, 246, 225,  18, 343, 326,\n",
              "        162, 240, 363, 247, 323, 125,  91, 286,  60,  58, 351, 201, 232,\n",
              "        258, 341, 244, 329, 253, 348,   2,  56,  68, 360,  76,  15, 226,\n",
              "        349,  11, 316, 281, 287,  14,  86, 261, 331,  51, 254, 103,  42,\n",
              "        325,  35, 203,   5, 276, 102,  71,  78,   8, 182,  79,  49, 156,\n",
              "        200, 106, 135,  81, 142, 179,  52, 237, 204, 181, 296, 335, 282,\n",
              "        274,  98, 157, 174, 223, 361, 283, 315,  36, 271, 139, 193, 136,\n",
              "        277, 221, 264, 236,  89,  23, 218, 235, 119, 350, 161, 259,  27,\n",
              "        167, 358,  59, 337,  43,  25, 127, 303, 115, 268,  44,  65, 252,\n",
              "         64, 111,  90, 338,  31, 241, 285, 183,  84, 166,  28,  83, 305,\n",
              "        356, 308, 229, 210, 153, 332, 120, 313,  69, 293,   4, 300,  40,\n",
              "        117, 206, 144, 354,  41, 270, 306,  33,  50,  80,  97, 118, 134,\n",
              "         17, 289, 121, 205,  74,  62,  29, 109, 168, 146, 242, 352, 155,\n",
              "        291, 266, 101, 190, 327, 217, 171, 110,  87, 202,  70, 147, 169,\n",
              "        212, 122, 330,  54, 196,  57,  73, 149, 239,  63, 195,  47, 319,\n",
              "         19, 112, 344,  77, 160, 141,  13,  24, 150, 128, 176, 357, 211,\n",
              "        172, 256, 165,  32, 105, 267, 148,  93,  45, 175, 159,  48, 100,\n",
              "        184, 114, 133, 186, 334,  94, 151, 228, 113,  55,  66, 173, 104,\n",
              "        197,  99, 131, 143, 124, 130, 187, 145, 108, 123,  92,  61, 138,\n",
              "        227,  82])]"
            ]
          },
          "metadata": {},
          "execution_count": 39
        }
      ]
    },
    {
      "cell_type": "markdown",
      "source": [
        "## 3. ***Data Wrangling***"
      ],
      "metadata": {
        "id": "dauF4eBmngu3"
      }
    },
    {
      "cell_type": "markdown",
      "source": [
        "### Data Wrangling Code"
      ],
      "metadata": {
        "id": "bKJF3rekwFvQ"
      }
    },
    {
      "cell_type": "code",
      "source": [
        "# Write your code to make your dataset analysis ready.\n",
        "checking_zeros=df[df['price']==0]\n",
        "checking_zeros"
      ],
      "metadata": {
        "id": "wk-9a2fpoLcV",
        "colab": {
          "base_uri": "https://localhost:8080/"
        },
        "outputId": "16a24116-6e5f-4f1e-9599-1530e16e8edc"
      },
      "execution_count": null,
      "outputs": [
        {
          "output_type": "execute_result",
          "data": {
            "text/plain": [
              "             id                                               name    host_id  \\\n",
              "23161  18750597  Huge Brooklyn Brownstone Living, Close to it all.    8993084   \n",
              "25433  20333471      ★Hostel Style Room | Ideal Traveling Buddies★  131697576   \n",
              "25634  20523843    MARTIAL LOFT 3: REDEMPTION (upstairs, 2nd room)   15787004   \n",
              "25753  20608117                    Sunny, Quiet Room in Greenpoint    1641537   \n",
              "25778  20624541      Modern apartment in the heart of Williamsburg   10132166   \n",
              "25794  20639628  Spacious comfortable master bedroom with nice ...   86327101   \n",
              "25795  20639792  Contemporary bedroom in brownstone with nice view   86327101   \n",
              "25796  20639914       Cozy yet spacious private brownstone bedroom   86327101   \n",
              "26259  20933849                              the best you can find   13709292   \n",
              "26841  21291569  Coliving in Brooklyn! Modern design / Shared room  101970559   \n",
              "26866  21304320             Best Coliving space ever! Shared room.  101970559   \n",
              "\n",
              "          host_name neighbourhood_group       neighbourhood  latitude  \\\n",
              "23161      Kimberly            Brooklyn  Bedford-Stuyvesant  40.69023   \n",
              "25433        Anisha               Bronx     East Morrisania  40.83296   \n",
              "25634  Martial Loft            Brooklyn            Bushwick  40.69467   \n",
              "25753        Lauren            Brooklyn          Greenpoint  40.72462   \n",
              "25778       Aymeric            Brooklyn        Williamsburg  40.70838   \n",
              "25794       Adeyemi            Brooklyn  Bedford-Stuyvesant  40.68173   \n",
              "25795       Adeyemi            Brooklyn  Bedford-Stuyvesant  40.68279   \n",
              "25796       Adeyemi            Brooklyn  Bedford-Stuyvesant  40.68258   \n",
              "26259        Qiuchi           Manhattan         Murray Hill  40.75091   \n",
              "26841        Sergii            Brooklyn            Bushwick  40.69211   \n",
              "26866        Sergii            Brooklyn            Bushwick  40.69166   \n",
              "\n",
              "       longitude        room_type  price  minimum_nights  number_of_reviews  \\\n",
              "23161  -73.95428     Private room      0               4                  1   \n",
              "25433  -73.88668     Private room      0               2                 55   \n",
              "25634  -73.92433     Private room      0               2                 16   \n",
              "25753  -73.94072     Private room      0               2                 12   \n",
              "25778  -73.94645  Entire home/apt      0               5                  3   \n",
              "25794  -73.91342     Private room      0               1                 93   \n",
              "25795  -73.91170     Private room      0               1                 95   \n",
              "25796  -73.91284     Private room      0               1                 95   \n",
              "26259  -73.97597  Entire home/apt      0               3                  0   \n",
              "26841  -73.90670      Shared room      0              30                  2   \n",
              "26866  -73.90928      Shared room      0              30                  5   \n",
              "\n",
              "      last_review  reviews_per_month  calculated_host_listings_count  \\\n",
              "23161  2018-01-06               0.05                               4   \n",
              "25433  2019-06-24               2.56                               4   \n",
              "25634  2019-05-18               0.71                               5   \n",
              "25753  2017-10-27               0.53                               2   \n",
              "25778  2018-01-02               0.15                               1   \n",
              "25794  2019-06-15               4.28                               6   \n",
              "25795  2019-06-21               4.37                               6   \n",
              "25796  2019-06-23               4.35                               6   \n",
              "26259         NaN                NaN                               1   \n",
              "26841  2019-06-22               0.11                               6   \n",
              "26866  2019-05-24               0.26                               6   \n",
              "\n",
              "       availability_365  \n",
              "23161                28  \n",
              "25433               127  \n",
              "25634                 0  \n",
              "25753                 0  \n",
              "25778                73  \n",
              "25794               176  \n",
              "25795               232  \n",
              "25796               222  \n",
              "26259                 0  \n",
              "26841               333  \n",
              "26866               139  "
            ],
            "text/html": [
              "\n",
              "  <div id=\"df-be3f853a-e1b6-4788-9a0c-238d7079d5a7\">\n",
              "    <div class=\"colab-df-container\">\n",
              "      <div>\n",
              "<style scoped>\n",
              "    .dataframe tbody tr th:only-of-type {\n",
              "        vertical-align: middle;\n",
              "    }\n",
              "\n",
              "    .dataframe tbody tr th {\n",
              "        vertical-align: top;\n",
              "    }\n",
              "\n",
              "    .dataframe thead th {\n",
              "        text-align: right;\n",
              "    }\n",
              "</style>\n",
              "<table border=\"1\" class=\"dataframe\">\n",
              "  <thead>\n",
              "    <tr style=\"text-align: right;\">\n",
              "      <th></th>\n",
              "      <th>id</th>\n",
              "      <th>name</th>\n",
              "      <th>host_id</th>\n",
              "      <th>host_name</th>\n",
              "      <th>neighbourhood_group</th>\n",
              "      <th>neighbourhood</th>\n",
              "      <th>latitude</th>\n",
              "      <th>longitude</th>\n",
              "      <th>room_type</th>\n",
              "      <th>price</th>\n",
              "      <th>minimum_nights</th>\n",
              "      <th>number_of_reviews</th>\n",
              "      <th>last_review</th>\n",
              "      <th>reviews_per_month</th>\n",
              "      <th>calculated_host_listings_count</th>\n",
              "      <th>availability_365</th>\n",
              "    </tr>\n",
              "  </thead>\n",
              "  <tbody>\n",
              "    <tr>\n",
              "      <th>23161</th>\n",
              "      <td>18750597</td>\n",
              "      <td>Huge Brooklyn Brownstone Living, Close to it all.</td>\n",
              "      <td>8993084</td>\n",
              "      <td>Kimberly</td>\n",
              "      <td>Brooklyn</td>\n",
              "      <td>Bedford-Stuyvesant</td>\n",
              "      <td>40.69023</td>\n",
              "      <td>-73.95428</td>\n",
              "      <td>Private room</td>\n",
              "      <td>0</td>\n",
              "      <td>4</td>\n",
              "      <td>1</td>\n",
              "      <td>2018-01-06</td>\n",
              "      <td>0.05</td>\n",
              "      <td>4</td>\n",
              "      <td>28</td>\n",
              "    </tr>\n",
              "    <tr>\n",
              "      <th>25433</th>\n",
              "      <td>20333471</td>\n",
              "      <td>★Hostel Style Room | Ideal Traveling Buddies★</td>\n",
              "      <td>131697576</td>\n",
              "      <td>Anisha</td>\n",
              "      <td>Bronx</td>\n",
              "      <td>East Morrisania</td>\n",
              "      <td>40.83296</td>\n",
              "      <td>-73.88668</td>\n",
              "      <td>Private room</td>\n",
              "      <td>0</td>\n",
              "      <td>2</td>\n",
              "      <td>55</td>\n",
              "      <td>2019-06-24</td>\n",
              "      <td>2.56</td>\n",
              "      <td>4</td>\n",
              "      <td>127</td>\n",
              "    </tr>\n",
              "    <tr>\n",
              "      <th>25634</th>\n",
              "      <td>20523843</td>\n",
              "      <td>MARTIAL LOFT 3: REDEMPTION (upstairs, 2nd room)</td>\n",
              "      <td>15787004</td>\n",
              "      <td>Martial Loft</td>\n",
              "      <td>Brooklyn</td>\n",
              "      <td>Bushwick</td>\n",
              "      <td>40.69467</td>\n",
              "      <td>-73.92433</td>\n",
              "      <td>Private room</td>\n",
              "      <td>0</td>\n",
              "      <td>2</td>\n",
              "      <td>16</td>\n",
              "      <td>2019-05-18</td>\n",
              "      <td>0.71</td>\n",
              "      <td>5</td>\n",
              "      <td>0</td>\n",
              "    </tr>\n",
              "    <tr>\n",
              "      <th>25753</th>\n",
              "      <td>20608117</td>\n",
              "      <td>Sunny, Quiet Room in Greenpoint</td>\n",
              "      <td>1641537</td>\n",
              "      <td>Lauren</td>\n",
              "      <td>Brooklyn</td>\n",
              "      <td>Greenpoint</td>\n",
              "      <td>40.72462</td>\n",
              "      <td>-73.94072</td>\n",
              "      <td>Private room</td>\n",
              "      <td>0</td>\n",
              "      <td>2</td>\n",
              "      <td>12</td>\n",
              "      <td>2017-10-27</td>\n",
              "      <td>0.53</td>\n",
              "      <td>2</td>\n",
              "      <td>0</td>\n",
              "    </tr>\n",
              "    <tr>\n",
              "      <th>25778</th>\n",
              "      <td>20624541</td>\n",
              "      <td>Modern apartment in the heart of Williamsburg</td>\n",
              "      <td>10132166</td>\n",
              "      <td>Aymeric</td>\n",
              "      <td>Brooklyn</td>\n",
              "      <td>Williamsburg</td>\n",
              "      <td>40.70838</td>\n",
              "      <td>-73.94645</td>\n",
              "      <td>Entire home/apt</td>\n",
              "      <td>0</td>\n",
              "      <td>5</td>\n",
              "      <td>3</td>\n",
              "      <td>2018-01-02</td>\n",
              "      <td>0.15</td>\n",
              "      <td>1</td>\n",
              "      <td>73</td>\n",
              "    </tr>\n",
              "    <tr>\n",
              "      <th>25794</th>\n",
              "      <td>20639628</td>\n",
              "      <td>Spacious comfortable master bedroom with nice ...</td>\n",
              "      <td>86327101</td>\n",
              "      <td>Adeyemi</td>\n",
              "      <td>Brooklyn</td>\n",
              "      <td>Bedford-Stuyvesant</td>\n",
              "      <td>40.68173</td>\n",
              "      <td>-73.91342</td>\n",
              "      <td>Private room</td>\n",
              "      <td>0</td>\n",
              "      <td>1</td>\n",
              "      <td>93</td>\n",
              "      <td>2019-06-15</td>\n",
              "      <td>4.28</td>\n",
              "      <td>6</td>\n",
              "      <td>176</td>\n",
              "    </tr>\n",
              "    <tr>\n",
              "      <th>25795</th>\n",
              "      <td>20639792</td>\n",
              "      <td>Contemporary bedroom in brownstone with nice view</td>\n",
              "      <td>86327101</td>\n",
              "      <td>Adeyemi</td>\n",
              "      <td>Brooklyn</td>\n",
              "      <td>Bedford-Stuyvesant</td>\n",
              "      <td>40.68279</td>\n",
              "      <td>-73.91170</td>\n",
              "      <td>Private room</td>\n",
              "      <td>0</td>\n",
              "      <td>1</td>\n",
              "      <td>95</td>\n",
              "      <td>2019-06-21</td>\n",
              "      <td>4.37</td>\n",
              "      <td>6</td>\n",
              "      <td>232</td>\n",
              "    </tr>\n",
              "    <tr>\n",
              "      <th>25796</th>\n",
              "      <td>20639914</td>\n",
              "      <td>Cozy yet spacious private brownstone bedroom</td>\n",
              "      <td>86327101</td>\n",
              "      <td>Adeyemi</td>\n",
              "      <td>Brooklyn</td>\n",
              "      <td>Bedford-Stuyvesant</td>\n",
              "      <td>40.68258</td>\n",
              "      <td>-73.91284</td>\n",
              "      <td>Private room</td>\n",
              "      <td>0</td>\n",
              "      <td>1</td>\n",
              "      <td>95</td>\n",
              "      <td>2019-06-23</td>\n",
              "      <td>4.35</td>\n",
              "      <td>6</td>\n",
              "      <td>222</td>\n",
              "    </tr>\n",
              "    <tr>\n",
              "      <th>26259</th>\n",
              "      <td>20933849</td>\n",
              "      <td>the best you can find</td>\n",
              "      <td>13709292</td>\n",
              "      <td>Qiuchi</td>\n",
              "      <td>Manhattan</td>\n",
              "      <td>Murray Hill</td>\n",
              "      <td>40.75091</td>\n",
              "      <td>-73.97597</td>\n",
              "      <td>Entire home/apt</td>\n",
              "      <td>0</td>\n",
              "      <td>3</td>\n",
              "      <td>0</td>\n",
              "      <td>NaN</td>\n",
              "      <td>NaN</td>\n",
              "      <td>1</td>\n",
              "      <td>0</td>\n",
              "    </tr>\n",
              "    <tr>\n",
              "      <th>26841</th>\n",
              "      <td>21291569</td>\n",
              "      <td>Coliving in Brooklyn! Modern design / Shared room</td>\n",
              "      <td>101970559</td>\n",
              "      <td>Sergii</td>\n",
              "      <td>Brooklyn</td>\n",
              "      <td>Bushwick</td>\n",
              "      <td>40.69211</td>\n",
              "      <td>-73.90670</td>\n",
              "      <td>Shared room</td>\n",
              "      <td>0</td>\n",
              "      <td>30</td>\n",
              "      <td>2</td>\n",
              "      <td>2019-06-22</td>\n",
              "      <td>0.11</td>\n",
              "      <td>6</td>\n",
              "      <td>333</td>\n",
              "    </tr>\n",
              "    <tr>\n",
              "      <th>26866</th>\n",
              "      <td>21304320</td>\n",
              "      <td>Best Coliving space ever! Shared room.</td>\n",
              "      <td>101970559</td>\n",
              "      <td>Sergii</td>\n",
              "      <td>Brooklyn</td>\n",
              "      <td>Bushwick</td>\n",
              "      <td>40.69166</td>\n",
              "      <td>-73.90928</td>\n",
              "      <td>Shared room</td>\n",
              "      <td>0</td>\n",
              "      <td>30</td>\n",
              "      <td>5</td>\n",
              "      <td>2019-05-24</td>\n",
              "      <td>0.26</td>\n",
              "      <td>6</td>\n",
              "      <td>139</td>\n",
              "    </tr>\n",
              "  </tbody>\n",
              "</table>\n",
              "</div>\n",
              "      <button class=\"colab-df-convert\" onclick=\"convertToInteractive('df-be3f853a-e1b6-4788-9a0c-238d7079d5a7')\"\n",
              "              title=\"Convert this dataframe to an interactive table.\"\n",
              "              style=\"display:none;\">\n",
              "        \n",
              "  <svg xmlns=\"http://www.w3.org/2000/svg\" height=\"24px\"viewBox=\"0 0 24 24\"\n",
              "       width=\"24px\">\n",
              "    <path d=\"M0 0h24v24H0V0z\" fill=\"none\"/>\n",
              "    <path d=\"M18.56 5.44l.94 2.06.94-2.06 2.06-.94-2.06-.94-.94-2.06-.94 2.06-2.06.94zm-11 1L8.5 8.5l.94-2.06 2.06-.94-2.06-.94L8.5 2.5l-.94 2.06-2.06.94zm10 10l.94 2.06.94-2.06 2.06-.94-2.06-.94-.94-2.06-.94 2.06-2.06.94z\"/><path d=\"M17.41 7.96l-1.37-1.37c-.4-.4-.92-.59-1.43-.59-.52 0-1.04.2-1.43.59L10.3 9.45l-7.72 7.72c-.78.78-.78 2.05 0 2.83L4 21.41c.39.39.9.59 1.41.59.51 0 1.02-.2 1.41-.59l7.78-7.78 2.81-2.81c.8-.78.8-2.07 0-2.86zM5.41 20L4 18.59l7.72-7.72 1.47 1.35L5.41 20z\"/>\n",
              "  </svg>\n",
              "      </button>\n",
              "      \n",
              "  <style>\n",
              "    .colab-df-container {\n",
              "      display:flex;\n",
              "      flex-wrap:wrap;\n",
              "      gap: 12px;\n",
              "    }\n",
              "\n",
              "    .colab-df-convert {\n",
              "      background-color: #E8F0FE;\n",
              "      border: none;\n",
              "      border-radius: 50%;\n",
              "      cursor: pointer;\n",
              "      display: none;\n",
              "      fill: #1967D2;\n",
              "      height: 32px;\n",
              "      padding: 0 0 0 0;\n",
              "      width: 32px;\n",
              "    }\n",
              "\n",
              "    .colab-df-convert:hover {\n",
              "      background-color: #E2EBFA;\n",
              "      box-shadow: 0px 1px 2px rgba(60, 64, 67, 0.3), 0px 1px 3px 1px rgba(60, 64, 67, 0.15);\n",
              "      fill: #174EA6;\n",
              "    }\n",
              "\n",
              "    [theme=dark] .colab-df-convert {\n",
              "      background-color: #3B4455;\n",
              "      fill: #D2E3FC;\n",
              "    }\n",
              "\n",
              "    [theme=dark] .colab-df-convert:hover {\n",
              "      background-color: #434B5C;\n",
              "      box-shadow: 0px 1px 3px 1px rgba(0, 0, 0, 0.15);\n",
              "      filter: drop-shadow(0px 1px 2px rgba(0, 0, 0, 0.3));\n",
              "      fill: #FFFFFF;\n",
              "    }\n",
              "  </style>\n",
              "\n",
              "      <script>\n",
              "        const buttonEl =\n",
              "          document.querySelector('#df-be3f853a-e1b6-4788-9a0c-238d7079d5a7 button.colab-df-convert');\n",
              "        buttonEl.style.display =\n",
              "          google.colab.kernel.accessAllowed ? 'block' : 'none';\n",
              "\n",
              "        async function convertToInteractive(key) {\n",
              "          const element = document.querySelector('#df-be3f853a-e1b6-4788-9a0c-238d7079d5a7');\n",
              "          const dataTable =\n",
              "            await google.colab.kernel.invokeFunction('convertToInteractive',\n",
              "                                                     [key], {});\n",
              "          if (!dataTable) return;\n",
              "\n",
              "          const docLinkHtml = 'Like what you see? Visit the ' +\n",
              "            '<a target=\"_blank\" href=https://colab.research.google.com/notebooks/data_table.ipynb>data table notebook</a>'\n",
              "            + ' to learn more about interactive tables.';\n",
              "          element.innerHTML = '';\n",
              "          dataTable['output_type'] = 'display_data';\n",
              "          await google.colab.output.renderOutput(dataTable, element);\n",
              "          const docLink = document.createElement('div');\n",
              "          docLink.innerHTML = docLinkHtml;\n",
              "          element.appendChild(docLink);\n",
              "        }\n",
              "      </script>\n",
              "    </div>\n",
              "  </div>\n",
              "  "
            ]
          },
          "metadata": {},
          "execution_count": 40
        }
      ]
    },
    {
      "cell_type": "code",
      "source": [
        "removing_nan=df.fillna(0)\n",
        "removing_nan"
      ],
      "metadata": {
        "colab": {
          "base_uri": "https://localhost:8080/"
        },
        "id": "fSOfy4_rnm-x",
        "outputId": "2702910a-bfee-4d77-a030-197d3bbdd6fa"
      },
      "execution_count": null,
      "outputs": [
        {
          "output_type": "execute_result",
          "data": {
            "text/plain": [
              "             id                                               name   host_id  \\\n",
              "0          2539                 Clean & quiet apt home by the park      2787   \n",
              "1          2595                              Skylit Midtown Castle      2845   \n",
              "2          3647                THE VILLAGE OF HARLEM....NEW YORK !      4632   \n",
              "3          3831                    Cozy Entire Floor of Brownstone      4869   \n",
              "4          5022   Entire Apt: Spacious Studio/Loft by central park      7192   \n",
              "...         ...                                                ...       ...   \n",
              "48890  36484665    Charming one bedroom - newly renovated rowhouse   8232441   \n",
              "48891  36485057      Affordable room in Bushwick/East Williamsburg   6570630   \n",
              "48892  36485431            Sunny Studio at Historical Neighborhood  23492952   \n",
              "48893  36485609               43rd St. Time Square-cozy single bed  30985759   \n",
              "48894  36487245  Trendy duplex in the very heart of Hell's Kitchen  68119814   \n",
              "\n",
              "           host_name neighbourhood_group       neighbourhood  latitude  \\\n",
              "0               John            Brooklyn          Kensington  40.64749   \n",
              "1           Jennifer           Manhattan             Midtown  40.75362   \n",
              "2          Elisabeth           Manhattan              Harlem  40.80902   \n",
              "3        LisaRoxanne            Brooklyn        Clinton Hill  40.68514   \n",
              "4              Laura           Manhattan         East Harlem  40.79851   \n",
              "...              ...                 ...                 ...       ...   \n",
              "48890        Sabrina            Brooklyn  Bedford-Stuyvesant  40.67853   \n",
              "48891        Marisol            Brooklyn            Bushwick  40.70184   \n",
              "48892  Ilgar & Aysel           Manhattan              Harlem  40.81475   \n",
              "48893            Taz           Manhattan      Hell's Kitchen  40.75751   \n",
              "48894     Christophe           Manhattan      Hell's Kitchen  40.76404   \n",
              "\n",
              "       longitude        room_type  price  minimum_nights  number_of_reviews  \\\n",
              "0      -73.97237     Private room    149               1                  9   \n",
              "1      -73.98377  Entire home/apt    225               1                 45   \n",
              "2      -73.94190     Private room    150               3                  0   \n",
              "3      -73.95976  Entire home/apt     89               1                270   \n",
              "4      -73.94399  Entire home/apt     80              10                  9   \n",
              "...          ...              ...    ...             ...                ...   \n",
              "48890  -73.94995     Private room     70               2                  0   \n",
              "48891  -73.93317     Private room     40               4                  0   \n",
              "48892  -73.94867  Entire home/apt    115              10                  0   \n",
              "48893  -73.99112      Shared room     55               1                  0   \n",
              "48894  -73.98933     Private room     90               7                  0   \n",
              "\n",
              "      last_review  reviews_per_month  calculated_host_listings_count  \\\n",
              "0      2018-10-19               0.21                               6   \n",
              "1      2019-05-21               0.38                               2   \n",
              "2               0               0.00                               1   \n",
              "3      2019-07-05               4.64                               1   \n",
              "4      2018-11-19               0.10                               1   \n",
              "...           ...                ...                             ...   \n",
              "48890           0               0.00                               2   \n",
              "48891           0               0.00                               2   \n",
              "48892           0               0.00                               1   \n",
              "48893           0               0.00                               6   \n",
              "48894           0               0.00                               1   \n",
              "\n",
              "       availability_365  \n",
              "0                   365  \n",
              "1                   355  \n",
              "2                   365  \n",
              "3                   194  \n",
              "4                     0  \n",
              "...                 ...  \n",
              "48890                 9  \n",
              "48891                36  \n",
              "48892                27  \n",
              "48893                 2  \n",
              "48894                23  \n",
              "\n",
              "[48895 rows x 16 columns]"
            ],
            "text/html": [
              "\n",
              "  <div id=\"df-ffca769f-7b5a-436a-9ed4-0ebd09fa4d07\">\n",
              "    <div class=\"colab-df-container\">\n",
              "      <div>\n",
              "<style scoped>\n",
              "    .dataframe tbody tr th:only-of-type {\n",
              "        vertical-align: middle;\n",
              "    }\n",
              "\n",
              "    .dataframe tbody tr th {\n",
              "        vertical-align: top;\n",
              "    }\n",
              "\n",
              "    .dataframe thead th {\n",
              "        text-align: right;\n",
              "    }\n",
              "</style>\n",
              "<table border=\"1\" class=\"dataframe\">\n",
              "  <thead>\n",
              "    <tr style=\"text-align: right;\">\n",
              "      <th></th>\n",
              "      <th>id</th>\n",
              "      <th>name</th>\n",
              "      <th>host_id</th>\n",
              "      <th>host_name</th>\n",
              "      <th>neighbourhood_group</th>\n",
              "      <th>neighbourhood</th>\n",
              "      <th>latitude</th>\n",
              "      <th>longitude</th>\n",
              "      <th>room_type</th>\n",
              "      <th>price</th>\n",
              "      <th>minimum_nights</th>\n",
              "      <th>number_of_reviews</th>\n",
              "      <th>last_review</th>\n",
              "      <th>reviews_per_month</th>\n",
              "      <th>calculated_host_listings_count</th>\n",
              "      <th>availability_365</th>\n",
              "    </tr>\n",
              "  </thead>\n",
              "  <tbody>\n",
              "    <tr>\n",
              "      <th>0</th>\n",
              "      <td>2539</td>\n",
              "      <td>Clean &amp; quiet apt home by the park</td>\n",
              "      <td>2787</td>\n",
              "      <td>John</td>\n",
              "      <td>Brooklyn</td>\n",
              "      <td>Kensington</td>\n",
              "      <td>40.64749</td>\n",
              "      <td>-73.97237</td>\n",
              "      <td>Private room</td>\n",
              "      <td>149</td>\n",
              "      <td>1</td>\n",
              "      <td>9</td>\n",
              "      <td>2018-10-19</td>\n",
              "      <td>0.21</td>\n",
              "      <td>6</td>\n",
              "      <td>365</td>\n",
              "    </tr>\n",
              "    <tr>\n",
              "      <th>1</th>\n",
              "      <td>2595</td>\n",
              "      <td>Skylit Midtown Castle</td>\n",
              "      <td>2845</td>\n",
              "      <td>Jennifer</td>\n",
              "      <td>Manhattan</td>\n",
              "      <td>Midtown</td>\n",
              "      <td>40.75362</td>\n",
              "      <td>-73.98377</td>\n",
              "      <td>Entire home/apt</td>\n",
              "      <td>225</td>\n",
              "      <td>1</td>\n",
              "      <td>45</td>\n",
              "      <td>2019-05-21</td>\n",
              "      <td>0.38</td>\n",
              "      <td>2</td>\n",
              "      <td>355</td>\n",
              "    </tr>\n",
              "    <tr>\n",
              "      <th>2</th>\n",
              "      <td>3647</td>\n",
              "      <td>THE VILLAGE OF HARLEM....NEW YORK !</td>\n",
              "      <td>4632</td>\n",
              "      <td>Elisabeth</td>\n",
              "      <td>Manhattan</td>\n",
              "      <td>Harlem</td>\n",
              "      <td>40.80902</td>\n",
              "      <td>-73.94190</td>\n",
              "      <td>Private room</td>\n",
              "      <td>150</td>\n",
              "      <td>3</td>\n",
              "      <td>0</td>\n",
              "      <td>0</td>\n",
              "      <td>0.00</td>\n",
              "      <td>1</td>\n",
              "      <td>365</td>\n",
              "    </tr>\n",
              "    <tr>\n",
              "      <th>3</th>\n",
              "      <td>3831</td>\n",
              "      <td>Cozy Entire Floor of Brownstone</td>\n",
              "      <td>4869</td>\n",
              "      <td>LisaRoxanne</td>\n",
              "      <td>Brooklyn</td>\n",
              "      <td>Clinton Hill</td>\n",
              "      <td>40.68514</td>\n",
              "      <td>-73.95976</td>\n",
              "      <td>Entire home/apt</td>\n",
              "      <td>89</td>\n",
              "      <td>1</td>\n",
              "      <td>270</td>\n",
              "      <td>2019-07-05</td>\n",
              "      <td>4.64</td>\n",
              "      <td>1</td>\n",
              "      <td>194</td>\n",
              "    </tr>\n",
              "    <tr>\n",
              "      <th>4</th>\n",
              "      <td>5022</td>\n",
              "      <td>Entire Apt: Spacious Studio/Loft by central park</td>\n",
              "      <td>7192</td>\n",
              "      <td>Laura</td>\n",
              "      <td>Manhattan</td>\n",
              "      <td>East Harlem</td>\n",
              "      <td>40.79851</td>\n",
              "      <td>-73.94399</td>\n",
              "      <td>Entire home/apt</td>\n",
              "      <td>80</td>\n",
              "      <td>10</td>\n",
              "      <td>9</td>\n",
              "      <td>2018-11-19</td>\n",
              "      <td>0.10</td>\n",
              "      <td>1</td>\n",
              "      <td>0</td>\n",
              "    </tr>\n",
              "    <tr>\n",
              "      <th>...</th>\n",
              "      <td>...</td>\n",
              "      <td>...</td>\n",
              "      <td>...</td>\n",
              "      <td>...</td>\n",
              "      <td>...</td>\n",
              "      <td>...</td>\n",
              "      <td>...</td>\n",
              "      <td>...</td>\n",
              "      <td>...</td>\n",
              "      <td>...</td>\n",
              "      <td>...</td>\n",
              "      <td>...</td>\n",
              "      <td>...</td>\n",
              "      <td>...</td>\n",
              "      <td>...</td>\n",
              "      <td>...</td>\n",
              "    </tr>\n",
              "    <tr>\n",
              "      <th>48890</th>\n",
              "      <td>36484665</td>\n",
              "      <td>Charming one bedroom - newly renovated rowhouse</td>\n",
              "      <td>8232441</td>\n",
              "      <td>Sabrina</td>\n",
              "      <td>Brooklyn</td>\n",
              "      <td>Bedford-Stuyvesant</td>\n",
              "      <td>40.67853</td>\n",
              "      <td>-73.94995</td>\n",
              "      <td>Private room</td>\n",
              "      <td>70</td>\n",
              "      <td>2</td>\n",
              "      <td>0</td>\n",
              "      <td>0</td>\n",
              "      <td>0.00</td>\n",
              "      <td>2</td>\n",
              "      <td>9</td>\n",
              "    </tr>\n",
              "    <tr>\n",
              "      <th>48891</th>\n",
              "      <td>36485057</td>\n",
              "      <td>Affordable room in Bushwick/East Williamsburg</td>\n",
              "      <td>6570630</td>\n",
              "      <td>Marisol</td>\n",
              "      <td>Brooklyn</td>\n",
              "      <td>Bushwick</td>\n",
              "      <td>40.70184</td>\n",
              "      <td>-73.93317</td>\n",
              "      <td>Private room</td>\n",
              "      <td>40</td>\n",
              "      <td>4</td>\n",
              "      <td>0</td>\n",
              "      <td>0</td>\n",
              "      <td>0.00</td>\n",
              "      <td>2</td>\n",
              "      <td>36</td>\n",
              "    </tr>\n",
              "    <tr>\n",
              "      <th>48892</th>\n",
              "      <td>36485431</td>\n",
              "      <td>Sunny Studio at Historical Neighborhood</td>\n",
              "      <td>23492952</td>\n",
              "      <td>Ilgar &amp; Aysel</td>\n",
              "      <td>Manhattan</td>\n",
              "      <td>Harlem</td>\n",
              "      <td>40.81475</td>\n",
              "      <td>-73.94867</td>\n",
              "      <td>Entire home/apt</td>\n",
              "      <td>115</td>\n",
              "      <td>10</td>\n",
              "      <td>0</td>\n",
              "      <td>0</td>\n",
              "      <td>0.00</td>\n",
              "      <td>1</td>\n",
              "      <td>27</td>\n",
              "    </tr>\n",
              "    <tr>\n",
              "      <th>48893</th>\n",
              "      <td>36485609</td>\n",
              "      <td>43rd St. Time Square-cozy single bed</td>\n",
              "      <td>30985759</td>\n",
              "      <td>Taz</td>\n",
              "      <td>Manhattan</td>\n",
              "      <td>Hell's Kitchen</td>\n",
              "      <td>40.75751</td>\n",
              "      <td>-73.99112</td>\n",
              "      <td>Shared room</td>\n",
              "      <td>55</td>\n",
              "      <td>1</td>\n",
              "      <td>0</td>\n",
              "      <td>0</td>\n",
              "      <td>0.00</td>\n",
              "      <td>6</td>\n",
              "      <td>2</td>\n",
              "    </tr>\n",
              "    <tr>\n",
              "      <th>48894</th>\n",
              "      <td>36487245</td>\n",
              "      <td>Trendy duplex in the very heart of Hell's Kitchen</td>\n",
              "      <td>68119814</td>\n",
              "      <td>Christophe</td>\n",
              "      <td>Manhattan</td>\n",
              "      <td>Hell's Kitchen</td>\n",
              "      <td>40.76404</td>\n",
              "      <td>-73.98933</td>\n",
              "      <td>Private room</td>\n",
              "      <td>90</td>\n",
              "      <td>7</td>\n",
              "      <td>0</td>\n",
              "      <td>0</td>\n",
              "      <td>0.00</td>\n",
              "      <td>1</td>\n",
              "      <td>23</td>\n",
              "    </tr>\n",
              "  </tbody>\n",
              "</table>\n",
              "<p>48895 rows × 16 columns</p>\n",
              "</div>\n",
              "      <button class=\"colab-df-convert\" onclick=\"convertToInteractive('df-ffca769f-7b5a-436a-9ed4-0ebd09fa4d07')\"\n",
              "              title=\"Convert this dataframe to an interactive table.\"\n",
              "              style=\"display:none;\">\n",
              "        \n",
              "  <svg xmlns=\"http://www.w3.org/2000/svg\" height=\"24px\"viewBox=\"0 0 24 24\"\n",
              "       width=\"24px\">\n",
              "    <path d=\"M0 0h24v24H0V0z\" fill=\"none\"/>\n",
              "    <path d=\"M18.56 5.44l.94 2.06.94-2.06 2.06-.94-2.06-.94-.94-2.06-.94 2.06-2.06.94zm-11 1L8.5 8.5l.94-2.06 2.06-.94-2.06-.94L8.5 2.5l-.94 2.06-2.06.94zm10 10l.94 2.06.94-2.06 2.06-.94-2.06-.94-.94-2.06-.94 2.06-2.06.94z\"/><path d=\"M17.41 7.96l-1.37-1.37c-.4-.4-.92-.59-1.43-.59-.52 0-1.04.2-1.43.59L10.3 9.45l-7.72 7.72c-.78.78-.78 2.05 0 2.83L4 21.41c.39.39.9.59 1.41.59.51 0 1.02-.2 1.41-.59l7.78-7.78 2.81-2.81c.8-.78.8-2.07 0-2.86zM5.41 20L4 18.59l7.72-7.72 1.47 1.35L5.41 20z\"/>\n",
              "  </svg>\n",
              "      </button>\n",
              "      \n",
              "  <style>\n",
              "    .colab-df-container {\n",
              "      display:flex;\n",
              "      flex-wrap:wrap;\n",
              "      gap: 12px;\n",
              "    }\n",
              "\n",
              "    .colab-df-convert {\n",
              "      background-color: #E8F0FE;\n",
              "      border: none;\n",
              "      border-radius: 50%;\n",
              "      cursor: pointer;\n",
              "      display: none;\n",
              "      fill: #1967D2;\n",
              "      height: 32px;\n",
              "      padding: 0 0 0 0;\n",
              "      width: 32px;\n",
              "    }\n",
              "\n",
              "    .colab-df-convert:hover {\n",
              "      background-color: #E2EBFA;\n",
              "      box-shadow: 0px 1px 2px rgba(60, 64, 67, 0.3), 0px 1px 3px 1px rgba(60, 64, 67, 0.15);\n",
              "      fill: #174EA6;\n",
              "    }\n",
              "\n",
              "    [theme=dark] .colab-df-convert {\n",
              "      background-color: #3B4455;\n",
              "      fill: #D2E3FC;\n",
              "    }\n",
              "\n",
              "    [theme=dark] .colab-df-convert:hover {\n",
              "      background-color: #434B5C;\n",
              "      box-shadow: 0px 1px 3px 1px rgba(0, 0, 0, 0.15);\n",
              "      filter: drop-shadow(0px 1px 2px rgba(0, 0, 0, 0.3));\n",
              "      fill: #FFFFFF;\n",
              "    }\n",
              "  </style>\n",
              "\n",
              "      <script>\n",
              "        const buttonEl =\n",
              "          document.querySelector('#df-ffca769f-7b5a-436a-9ed4-0ebd09fa4d07 button.colab-df-convert');\n",
              "        buttonEl.style.display =\n",
              "          google.colab.kernel.accessAllowed ? 'block' : 'none';\n",
              "\n",
              "        async function convertToInteractive(key) {\n",
              "          const element = document.querySelector('#df-ffca769f-7b5a-436a-9ed4-0ebd09fa4d07');\n",
              "          const dataTable =\n",
              "            await google.colab.kernel.invokeFunction('convertToInteractive',\n",
              "                                                     [key], {});\n",
              "          if (!dataTable) return;\n",
              "\n",
              "          const docLinkHtml = 'Like what you see? Visit the ' +\n",
              "            '<a target=\"_blank\" href=https://colab.research.google.com/notebooks/data_table.ipynb>data table notebook</a>'\n",
              "            + ' to learn more about interactive tables.';\n",
              "          element.innerHTML = '';\n",
              "          dataTable['output_type'] = 'display_data';\n",
              "          await google.colab.output.renderOutput(dataTable, element);\n",
              "          const docLink = document.createElement('div');\n",
              "          docLink.innerHTML = docLinkHtml;\n",
              "          element.appendChild(docLink);\n",
              "        }\n",
              "      </script>\n",
              "    </div>\n",
              "  </div>\n",
              "  "
            ]
          },
          "metadata": {},
          "execution_count": 41
        }
      ]
    },
    {
      "cell_type": "code",
      "source": [
        "dg=df[df['price']!=0] #cleaning up zeros from our dataframe where prices are zero\n",
        "dg.loc[dg['price']<=15, 'price'] = df['price'].median() \n",
        "dg"
      ],
      "metadata": {
        "colab": {
          "base_uri": "https://localhost:8080/"
        },
        "id": "vJOBqi4DnyEn",
        "outputId": "4aed35f9-96f5-45c8-b3ec-b86a82d5aadf"
      },
      "execution_count": null,
      "outputs": [
        {
          "output_type": "stream",
          "name": "stderr",
          "text": [
            "/usr/local/lib/python3.8/dist-packages/pandas/core/indexing.py:1817: SettingWithCopyWarning: \n",
            "A value is trying to be set on a copy of a slice from a DataFrame.\n",
            "Try using .loc[row_indexer,col_indexer] = value instead\n",
            "\n",
            "See the caveats in the documentation: https://pandas.pydata.org/pandas-docs/stable/user_guide/indexing.html#returning-a-view-versus-a-copy\n",
            "  self._setitem_single_column(loc, value, pi)\n"
          ]
        },
        {
          "output_type": "execute_result",
          "data": {
            "text/plain": [
              "             id                                               name   host_id  \\\n",
              "0          2539                 Clean & quiet apt home by the park      2787   \n",
              "1          2595                              Skylit Midtown Castle      2845   \n",
              "2          3647                THE VILLAGE OF HARLEM....NEW YORK !      4632   \n",
              "3          3831                    Cozy Entire Floor of Brownstone      4869   \n",
              "4          5022   Entire Apt: Spacious Studio/Loft by central park      7192   \n",
              "...         ...                                                ...       ...   \n",
              "48890  36484665    Charming one bedroom - newly renovated rowhouse   8232441   \n",
              "48891  36485057      Affordable room in Bushwick/East Williamsburg   6570630   \n",
              "48892  36485431            Sunny Studio at Historical Neighborhood  23492952   \n",
              "48893  36485609               43rd St. Time Square-cozy single bed  30985759   \n",
              "48894  36487245  Trendy duplex in the very heart of Hell's Kitchen  68119814   \n",
              "\n",
              "           host_name neighbourhood_group       neighbourhood  latitude  \\\n",
              "0               John            Brooklyn          Kensington  40.64749   \n",
              "1           Jennifer           Manhattan             Midtown  40.75362   \n",
              "2          Elisabeth           Manhattan              Harlem  40.80902   \n",
              "3        LisaRoxanne            Brooklyn        Clinton Hill  40.68514   \n",
              "4              Laura           Manhattan         East Harlem  40.79851   \n",
              "...              ...                 ...                 ...       ...   \n",
              "48890        Sabrina            Brooklyn  Bedford-Stuyvesant  40.67853   \n",
              "48891        Marisol            Brooklyn            Bushwick  40.70184   \n",
              "48892  Ilgar & Aysel           Manhattan              Harlem  40.81475   \n",
              "48893            Taz           Manhattan      Hell's Kitchen  40.75751   \n",
              "48894     Christophe           Manhattan      Hell's Kitchen  40.76404   \n",
              "\n",
              "       longitude        room_type  price  minimum_nights  number_of_reviews  \\\n",
              "0      -73.97237     Private room    149               1                  9   \n",
              "1      -73.98377  Entire home/apt    225               1                 45   \n",
              "2      -73.94190     Private room    150               3                  0   \n",
              "3      -73.95976  Entire home/apt     89               1                270   \n",
              "4      -73.94399  Entire home/apt     80              10                  9   \n",
              "...          ...              ...    ...             ...                ...   \n",
              "48890  -73.94995     Private room     70               2                  0   \n",
              "48891  -73.93317     Private room     40               4                  0   \n",
              "48892  -73.94867  Entire home/apt    115              10                  0   \n",
              "48893  -73.99112      Shared room     55               1                  0   \n",
              "48894  -73.98933     Private room     90               7                  0   \n",
              "\n",
              "      last_review  reviews_per_month  calculated_host_listings_count  \\\n",
              "0      2018-10-19               0.21                               6   \n",
              "1      2019-05-21               0.38                               2   \n",
              "2             NaN                NaN                               1   \n",
              "3      2019-07-05               4.64                               1   \n",
              "4      2018-11-19               0.10                               1   \n",
              "...           ...                ...                             ...   \n",
              "48890         NaN                NaN                               2   \n",
              "48891         NaN                NaN                               2   \n",
              "48892         NaN                NaN                               1   \n",
              "48893         NaN                NaN                               6   \n",
              "48894         NaN                NaN                               1   \n",
              "\n",
              "       availability_365  \n",
              "0                   365  \n",
              "1                   355  \n",
              "2                   365  \n",
              "3                   194  \n",
              "4                     0  \n",
              "...                 ...  \n",
              "48890                 9  \n",
              "48891                36  \n",
              "48892                27  \n",
              "48893                 2  \n",
              "48894                23  \n",
              "\n",
              "[48884 rows x 16 columns]"
            ],
            "text/html": [
              "\n",
              "  <div id=\"df-a2ee2a68-fd46-4beb-9e14-fb379797c491\">\n",
              "    <div class=\"colab-df-container\">\n",
              "      <div>\n",
              "<style scoped>\n",
              "    .dataframe tbody tr th:only-of-type {\n",
              "        vertical-align: middle;\n",
              "    }\n",
              "\n",
              "    .dataframe tbody tr th {\n",
              "        vertical-align: top;\n",
              "    }\n",
              "\n",
              "    .dataframe thead th {\n",
              "        text-align: right;\n",
              "    }\n",
              "</style>\n",
              "<table border=\"1\" class=\"dataframe\">\n",
              "  <thead>\n",
              "    <tr style=\"text-align: right;\">\n",
              "      <th></th>\n",
              "      <th>id</th>\n",
              "      <th>name</th>\n",
              "      <th>host_id</th>\n",
              "      <th>host_name</th>\n",
              "      <th>neighbourhood_group</th>\n",
              "      <th>neighbourhood</th>\n",
              "      <th>latitude</th>\n",
              "      <th>longitude</th>\n",
              "      <th>room_type</th>\n",
              "      <th>price</th>\n",
              "      <th>minimum_nights</th>\n",
              "      <th>number_of_reviews</th>\n",
              "      <th>last_review</th>\n",
              "      <th>reviews_per_month</th>\n",
              "      <th>calculated_host_listings_count</th>\n",
              "      <th>availability_365</th>\n",
              "    </tr>\n",
              "  </thead>\n",
              "  <tbody>\n",
              "    <tr>\n",
              "      <th>0</th>\n",
              "      <td>2539</td>\n",
              "      <td>Clean &amp; quiet apt home by the park</td>\n",
              "      <td>2787</td>\n",
              "      <td>John</td>\n",
              "      <td>Brooklyn</td>\n",
              "      <td>Kensington</td>\n",
              "      <td>40.64749</td>\n",
              "      <td>-73.97237</td>\n",
              "      <td>Private room</td>\n",
              "      <td>149</td>\n",
              "      <td>1</td>\n",
              "      <td>9</td>\n",
              "      <td>2018-10-19</td>\n",
              "      <td>0.21</td>\n",
              "      <td>6</td>\n",
              "      <td>365</td>\n",
              "    </tr>\n",
              "    <tr>\n",
              "      <th>1</th>\n",
              "      <td>2595</td>\n",
              "      <td>Skylit Midtown Castle</td>\n",
              "      <td>2845</td>\n",
              "      <td>Jennifer</td>\n",
              "      <td>Manhattan</td>\n",
              "      <td>Midtown</td>\n",
              "      <td>40.75362</td>\n",
              "      <td>-73.98377</td>\n",
              "      <td>Entire home/apt</td>\n",
              "      <td>225</td>\n",
              "      <td>1</td>\n",
              "      <td>45</td>\n",
              "      <td>2019-05-21</td>\n",
              "      <td>0.38</td>\n",
              "      <td>2</td>\n",
              "      <td>355</td>\n",
              "    </tr>\n",
              "    <tr>\n",
              "      <th>2</th>\n",
              "      <td>3647</td>\n",
              "      <td>THE VILLAGE OF HARLEM....NEW YORK !</td>\n",
              "      <td>4632</td>\n",
              "      <td>Elisabeth</td>\n",
              "      <td>Manhattan</td>\n",
              "      <td>Harlem</td>\n",
              "      <td>40.80902</td>\n",
              "      <td>-73.94190</td>\n",
              "      <td>Private room</td>\n",
              "      <td>150</td>\n",
              "      <td>3</td>\n",
              "      <td>0</td>\n",
              "      <td>NaN</td>\n",
              "      <td>NaN</td>\n",
              "      <td>1</td>\n",
              "      <td>365</td>\n",
              "    </tr>\n",
              "    <tr>\n",
              "      <th>3</th>\n",
              "      <td>3831</td>\n",
              "      <td>Cozy Entire Floor of Brownstone</td>\n",
              "      <td>4869</td>\n",
              "      <td>LisaRoxanne</td>\n",
              "      <td>Brooklyn</td>\n",
              "      <td>Clinton Hill</td>\n",
              "      <td>40.68514</td>\n",
              "      <td>-73.95976</td>\n",
              "      <td>Entire home/apt</td>\n",
              "      <td>89</td>\n",
              "      <td>1</td>\n",
              "      <td>270</td>\n",
              "      <td>2019-07-05</td>\n",
              "      <td>4.64</td>\n",
              "      <td>1</td>\n",
              "      <td>194</td>\n",
              "    </tr>\n",
              "    <tr>\n",
              "      <th>4</th>\n",
              "      <td>5022</td>\n",
              "      <td>Entire Apt: Spacious Studio/Loft by central park</td>\n",
              "      <td>7192</td>\n",
              "      <td>Laura</td>\n",
              "      <td>Manhattan</td>\n",
              "      <td>East Harlem</td>\n",
              "      <td>40.79851</td>\n",
              "      <td>-73.94399</td>\n",
              "      <td>Entire home/apt</td>\n",
              "      <td>80</td>\n",
              "      <td>10</td>\n",
              "      <td>9</td>\n",
              "      <td>2018-11-19</td>\n",
              "      <td>0.10</td>\n",
              "      <td>1</td>\n",
              "      <td>0</td>\n",
              "    </tr>\n",
              "    <tr>\n",
              "      <th>...</th>\n",
              "      <td>...</td>\n",
              "      <td>...</td>\n",
              "      <td>...</td>\n",
              "      <td>...</td>\n",
              "      <td>...</td>\n",
              "      <td>...</td>\n",
              "      <td>...</td>\n",
              "      <td>...</td>\n",
              "      <td>...</td>\n",
              "      <td>...</td>\n",
              "      <td>...</td>\n",
              "      <td>...</td>\n",
              "      <td>...</td>\n",
              "      <td>...</td>\n",
              "      <td>...</td>\n",
              "      <td>...</td>\n",
              "    </tr>\n",
              "    <tr>\n",
              "      <th>48890</th>\n",
              "      <td>36484665</td>\n",
              "      <td>Charming one bedroom - newly renovated rowhouse</td>\n",
              "      <td>8232441</td>\n",
              "      <td>Sabrina</td>\n",
              "      <td>Brooklyn</td>\n",
              "      <td>Bedford-Stuyvesant</td>\n",
              "      <td>40.67853</td>\n",
              "      <td>-73.94995</td>\n",
              "      <td>Private room</td>\n",
              "      <td>70</td>\n",
              "      <td>2</td>\n",
              "      <td>0</td>\n",
              "      <td>NaN</td>\n",
              "      <td>NaN</td>\n",
              "      <td>2</td>\n",
              "      <td>9</td>\n",
              "    </tr>\n",
              "    <tr>\n",
              "      <th>48891</th>\n",
              "      <td>36485057</td>\n",
              "      <td>Affordable room in Bushwick/East Williamsburg</td>\n",
              "      <td>6570630</td>\n",
              "      <td>Marisol</td>\n",
              "      <td>Brooklyn</td>\n",
              "      <td>Bushwick</td>\n",
              "      <td>40.70184</td>\n",
              "      <td>-73.93317</td>\n",
              "      <td>Private room</td>\n",
              "      <td>40</td>\n",
              "      <td>4</td>\n",
              "      <td>0</td>\n",
              "      <td>NaN</td>\n",
              "      <td>NaN</td>\n",
              "      <td>2</td>\n",
              "      <td>36</td>\n",
              "    </tr>\n",
              "    <tr>\n",
              "      <th>48892</th>\n",
              "      <td>36485431</td>\n",
              "      <td>Sunny Studio at Historical Neighborhood</td>\n",
              "      <td>23492952</td>\n",
              "      <td>Ilgar &amp; Aysel</td>\n",
              "      <td>Manhattan</td>\n",
              "      <td>Harlem</td>\n",
              "      <td>40.81475</td>\n",
              "      <td>-73.94867</td>\n",
              "      <td>Entire home/apt</td>\n",
              "      <td>115</td>\n",
              "      <td>10</td>\n",
              "      <td>0</td>\n",
              "      <td>NaN</td>\n",
              "      <td>NaN</td>\n",
              "      <td>1</td>\n",
              "      <td>27</td>\n",
              "    </tr>\n",
              "    <tr>\n",
              "      <th>48893</th>\n",
              "      <td>36485609</td>\n",
              "      <td>43rd St. Time Square-cozy single bed</td>\n",
              "      <td>30985759</td>\n",
              "      <td>Taz</td>\n",
              "      <td>Manhattan</td>\n",
              "      <td>Hell's Kitchen</td>\n",
              "      <td>40.75751</td>\n",
              "      <td>-73.99112</td>\n",
              "      <td>Shared room</td>\n",
              "      <td>55</td>\n",
              "      <td>1</td>\n",
              "      <td>0</td>\n",
              "      <td>NaN</td>\n",
              "      <td>NaN</td>\n",
              "      <td>6</td>\n",
              "      <td>2</td>\n",
              "    </tr>\n",
              "    <tr>\n",
              "      <th>48894</th>\n",
              "      <td>36487245</td>\n",
              "      <td>Trendy duplex in the very heart of Hell's Kitchen</td>\n",
              "      <td>68119814</td>\n",
              "      <td>Christophe</td>\n",
              "      <td>Manhattan</td>\n",
              "      <td>Hell's Kitchen</td>\n",
              "      <td>40.76404</td>\n",
              "      <td>-73.98933</td>\n",
              "      <td>Private room</td>\n",
              "      <td>90</td>\n",
              "      <td>7</td>\n",
              "      <td>0</td>\n",
              "      <td>NaN</td>\n",
              "      <td>NaN</td>\n",
              "      <td>1</td>\n",
              "      <td>23</td>\n",
              "    </tr>\n",
              "  </tbody>\n",
              "</table>\n",
              "<p>48884 rows × 16 columns</p>\n",
              "</div>\n",
              "      <button class=\"colab-df-convert\" onclick=\"convertToInteractive('df-a2ee2a68-fd46-4beb-9e14-fb379797c491')\"\n",
              "              title=\"Convert this dataframe to an interactive table.\"\n",
              "              style=\"display:none;\">\n",
              "        \n",
              "  <svg xmlns=\"http://www.w3.org/2000/svg\" height=\"24px\"viewBox=\"0 0 24 24\"\n",
              "       width=\"24px\">\n",
              "    <path d=\"M0 0h24v24H0V0z\" fill=\"none\"/>\n",
              "    <path d=\"M18.56 5.44l.94 2.06.94-2.06 2.06-.94-2.06-.94-.94-2.06-.94 2.06-2.06.94zm-11 1L8.5 8.5l.94-2.06 2.06-.94-2.06-.94L8.5 2.5l-.94 2.06-2.06.94zm10 10l.94 2.06.94-2.06 2.06-.94-2.06-.94-.94-2.06-.94 2.06-2.06.94z\"/><path d=\"M17.41 7.96l-1.37-1.37c-.4-.4-.92-.59-1.43-.59-.52 0-1.04.2-1.43.59L10.3 9.45l-7.72 7.72c-.78.78-.78 2.05 0 2.83L4 21.41c.39.39.9.59 1.41.59.51 0 1.02-.2 1.41-.59l7.78-7.78 2.81-2.81c.8-.78.8-2.07 0-2.86zM5.41 20L4 18.59l7.72-7.72 1.47 1.35L5.41 20z\"/>\n",
              "  </svg>\n",
              "      </button>\n",
              "      \n",
              "  <style>\n",
              "    .colab-df-container {\n",
              "      display:flex;\n",
              "      flex-wrap:wrap;\n",
              "      gap: 12px;\n",
              "    }\n",
              "\n",
              "    .colab-df-convert {\n",
              "      background-color: #E8F0FE;\n",
              "      border: none;\n",
              "      border-radius: 50%;\n",
              "      cursor: pointer;\n",
              "      display: none;\n",
              "      fill: #1967D2;\n",
              "      height: 32px;\n",
              "      padding: 0 0 0 0;\n",
              "      width: 32px;\n",
              "    }\n",
              "\n",
              "    .colab-df-convert:hover {\n",
              "      background-color: #E2EBFA;\n",
              "      box-shadow: 0px 1px 2px rgba(60, 64, 67, 0.3), 0px 1px 3px 1px rgba(60, 64, 67, 0.15);\n",
              "      fill: #174EA6;\n",
              "    }\n",
              "\n",
              "    [theme=dark] .colab-df-convert {\n",
              "      background-color: #3B4455;\n",
              "      fill: #D2E3FC;\n",
              "    }\n",
              "\n",
              "    [theme=dark] .colab-df-convert:hover {\n",
              "      background-color: #434B5C;\n",
              "      box-shadow: 0px 1px 3px 1px rgba(0, 0, 0, 0.15);\n",
              "      filter: drop-shadow(0px 1px 2px rgba(0, 0, 0, 0.3));\n",
              "      fill: #FFFFFF;\n",
              "    }\n",
              "  </style>\n",
              "\n",
              "      <script>\n",
              "        const buttonEl =\n",
              "          document.querySelector('#df-a2ee2a68-fd46-4beb-9e14-fb379797c491 button.colab-df-convert');\n",
              "        buttonEl.style.display =\n",
              "          google.colab.kernel.accessAllowed ? 'block' : 'none';\n",
              "\n",
              "        async function convertToInteractive(key) {\n",
              "          const element = document.querySelector('#df-a2ee2a68-fd46-4beb-9e14-fb379797c491');\n",
              "          const dataTable =\n",
              "            await google.colab.kernel.invokeFunction('convertToInteractive',\n",
              "                                                     [key], {});\n",
              "          if (!dataTable) return;\n",
              "\n",
              "          const docLinkHtml = 'Like what you see? Visit the ' +\n",
              "            '<a target=\"_blank\" href=https://colab.research.google.com/notebooks/data_table.ipynb>data table notebook</a>'\n",
              "            + ' to learn more about interactive tables.';\n",
              "          element.innerHTML = '';\n",
              "          dataTable['output_type'] = 'display_data';\n",
              "          await google.colab.output.renderOutput(dataTable, element);\n",
              "          const docLink = document.createElement('div');\n",
              "          docLink.innerHTML = docLinkHtml;\n",
              "          element.appendChild(docLink);\n",
              "        }\n",
              "      </script>\n",
              "    </div>\n",
              "  </div>\n",
              "  "
            ]
          },
          "metadata": {},
          "execution_count": 42
        }
      ]
    },
    {
      "cell_type": "markdown",
      "source": [
        "### What all manipulations have you done and insights you found?"
      ],
      "metadata": {
        "id": "MSa1f5Uengrz"
      }
    },
    {
      "cell_type": "markdown",
      "source": [
        "* Finding null values and replacing them with zero.\n",
        "* Finding zeros and replacing them with average values.\n",
        "* Finding maximum value in multiple group present inside the listings.\n",
        "* Finding minimum values multiple group present inside the listings.\n",
        "* Listings  that has good amount of reviews.\n",
        "* which neighbourhood people had longest stays."
      ],
      "metadata": {
        "id": "LbyXE7I1olp8"
      }
    },
    {
      "cell_type": "markdown",
      "source": [
        "## **5. Solution to Business Objective**"
      ],
      "metadata": {
        "id": "JcMwzZxoAimU"
      }
    },
    {
      "cell_type": "markdown",
      "source": [
        "#### What do you suggest the client to achieve Business Objective ? \n",
        "Explain Briefly."
      ],
      "metadata": {
        "id": "8G2x9gOozGDZ"
      }
    },
    {
      "cell_type": "markdown",
      "source": [
        "* Client can build a consistency in their business as travelers may not find things that may be provided in the listings and prices set accordingly by property owners.\n",
        "* Needs to check out on properties that may not be functioning properly.\n",
        "* Can use this insight as an oppertunity for better investments."
      ],
      "metadata": {
        "id": "pASKb0qOza21"
      }
    },
    {
      "cell_type": "markdown",
      "source": [
        "# **Conclusion**"
      ],
      "metadata": {
        "id": "gCX9965dhzqZ"
      }
    },
    {
      "cell_type": "markdown",
      "source": [
        " AirBnB which is a service providing company to the property owners is better than bookings done towards hotels because the properties comes up with kitchen service where people can cook for themselves it is very cost efficient way of making bookings by the travellers.\n",
        " we have got an insights that Queens and Manhatten are the costliest among properties and which are the busiest neighbourhood among the listings.  "
      ],
      "metadata": {
        "id": "Fjb1IsQkh3yE"
      }
    },
    {
      "cell_type": "markdown",
      "source": [
        "### ***Hurrah! You have successfully completed your EDA Capstone Project !!!***"
      ],
      "metadata": {
        "id": "gIfDvo9L0UH2"
      }
    }
  ]
}